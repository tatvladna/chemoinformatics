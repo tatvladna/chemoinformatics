{
 "cells": [
  {
   "cell_type": "markdown",
   "metadata": {
    "collapsed": true
   },
   "source": [
    "# Лабораторная работа по теме: \"Подструктурный поиск\""
   ]
  },
  {
   "cell_type": "code",
   "execution_count": 1,
   "metadata": {},
   "outputs": [],
   "source": [
    "from rdkit import Chem\n",
    "from sklearn.metrics import pairwise_distances\n",
    "from rdkit.Chem import Draw\n",
    "from rdkit import DataStructs\n",
    "from rdkit.Chem.Fingerprints import FingerprintMols\n",
    "from rdkit.Chem import AllChem\n",
    "from rdkit.Chem import MACCSkeys\n",
    "import numpy as np\n",
    "import pandas as pd\n",
    "from itertools import product\n",
    "from collections import defaultdict\n",
    "\n",
    "# отключим предупреждения \n",
    "import warnings\n",
    "warnings.simplefilter('ignore')\n",
    "\n",
    "# будем отображать графики прямо в jupyter'e\n",
    "%matplotlib inline\n",
    "import seaborn as sns\n",
    "import matplotlib.pyplot as plt\n",
    "#графики в svg выглядят более четкими\n",
    "%config InlineBackend.figure_format = 'svg' "
   ]
  },
  {
   "cell_type": "markdown",
   "metadata": {},
   "source": [
    "## <a name=\"substrSearch\">Поиск по подструктуре</a>\n",
    "\n",
    "#### Поиск по подструктуре, заданной SMARTS:"
   ]
  },
  {
   "cell_type": "code",
   "execution_count": 2,
   "metadata": {},
   "outputs": [
    {
     "data": {
      "text/plain": [
       "100"
      ]
     },
     "execution_count": 2,
     "metadata": {},
     "output_type": "execute_result"
    }
   ],
   "source": [
    "suppl = Chem.SDMolSupplier('data/data.sdf')\n",
    "len(suppl)"
   ]
  },
  {
   "cell_type": "code",
   "execution_count": 3,
   "metadata": {},
   "outputs": [
    {
     "data": {
      "text/plain": [
       "42"
      ]
     },
     "execution_count": 3,
     "metadata": {},
     "output_type": "execute_result"
    }
   ],
   "source": [
    "# 1\n",
    "patt = Chem.MolFromSmarts('c[NH1]')\n",
    "matches = []\n",
    "for mol in suppl:\n",
    "    if mol.HasSubstructMatch(patt):\n",
    "        matches.append(mol)\n",
    "\n",
    "len(matches)"
   ]
  },
  {
   "cell_type": "code",
   "execution_count": 4,
   "metadata": {},
   "outputs": [
    {
     "name": "stdout",
     "output_type": "stream",
     "text": [
      "Количество найденных молекул с требуемой подструктурой:  42\n"
     ]
    }
   ],
   "source": [
    "# 2\n",
    "matches = [x for x in suppl if x.HasSubstructMatch(patt)]\n",
    "print('Количество найденных молекул с требуемой подструктурой: ', len(matches))"
   ]
  },
  {
   "cell_type": "markdown",
   "metadata": {},
   "source": [
    "Выведем номера атомов, соответствующие трубуемой подструктуре, для одной молекулы: "
   ]
  },
  {
   "cell_type": "code",
   "execution_count": 5,
   "metadata": {},
   "outputs": [
    {
     "data": {
      "text/plain": [
       "(1, 2, 3)"
      ]
     },
     "metadata": {},
     "output_type": "display_data"
    },
    {
     "data": {
      "text/plain": [
       "((1, 2, 3), (5, 4, 3), (7, 6, 3))"
      ]
     },
     "metadata": {},
     "output_type": "display_data"
    }
   ],
   "source": [
    "mol = Chem.MolFromSmiles('O1CCN(CC)CC1')\n",
    "q = Chem.MolFromSmarts('CCN')\n",
    "mol.HasSubstructMatch(q)\n",
    "\n",
    "display(mol.GetSubstructMatch(q))\n",
    "display(mol.GetSubstructMatches(q))"
   ]
  },
  {
   "cell_type": "markdown",
   "metadata": {},
   "source": [
    "----\n",
    "\n",
    "**Задание №1.** Напишите скрипт для поиска традиционных названий соединений, содержащих карбоксильную группу. Тривиальные названия приведены в виде свойства \"Traditional Name\" в файле data.sdf. Для их извлечения используйте функцию GetProp(). Используйте этот скрипт на файле data.sdf.\n",
    "\n",
    "-----"
   ]
  },
  {
   "cell_type": "code",
   "execution_count": 50,
   "metadata": {},
   "outputs": [
    {
     "name": "stdout",
     "output_type": "stream",
     "text": [
      "Название: ethyl (2E)-2-cyano-3-[(2-cyano-3-fluorophenyl)amino]prop-2-enoate, SMILES: CCOC(=O)/C(C#N)=C/Nc1cccc(F)c1C#N\n",
      "Название: 1,3-diethyl 2-({[3-(methoxycarbonyl)phenyl]amino}methylidene)propanedioate, SMILES: CCOC(=O)C(=CNc1cccc(C(=O)OC)c1)C(=O)OCC\n",
      "Название: (Z)-[amino({4-[2-nitro-4-(trifluoromethyl)phenoxy]phenyl})methylidene]amino 2-oxochromene-3-carboxylate, SMILES: N/C(=N\\OC(=O)c1cc2ccccc2oc1=O)c1ccc(Oc2ccc(C(F)(F)F)cc2[N+](=O)[O-])cc1\n",
      "Название: (E)-2-[1-(3-chlorobenzoyl)imidazol-2-yl]-1-(3-chlorophenyl)ethenyl 3-chlorobenzoate, SMILES: O=C(O/C(=C/c1nccn1C(=O)c1cccc(Cl)c1)c1cccc(Cl)c1)c1cccc(Cl)c1\n",
      "Название: ethyl 6,8-difluoro-4-oxo-1H-quinoline-3-carboxylate, SMILES: CCOC(=O)c1c[nH]c2c(F)cc(F)cc2c1=O\n",
      "Название: ethyl 5,7-dichloro-4-oxo-1H-quinoline-3-carboxylate, SMILES: CCOC(=O)c1c[nH]c2cc(Cl)cc(Cl)c2c1=O\n",
      "Название: (1-methylpiperidin-4-ylidene)amino N-[3-(trifluoromethyl)phenyl]carbamate, SMILES: CN1CCC(=NOC(=O)Nc2cccc(C(F)(F)F)c2)CC1\n",
      "Название: ethyl 1-(3-nitrothiophen-2-yl)piperidine-4-carboxylate, SMILES: CCOC(=O)C1CCN(c2sccc2[N+](=O)[O-])CC1\n",
      "Название: ethyl 1-[5-(ethoxycarbonyl)-1,3-dimethylpyrazolo[3,4-b]pyridin-4-yl]piperidine-4-carboxylate, SMILES: CCOC(=O)c1cnc2c(c(C)nn2C)c1N1CCC(C(=O)OCC)CC1\n",
      "Название: 4-cyanophenyl (2E)-3-(3-methyl-1-benzothiophen-2-yl)prop-2-enoate, SMILES: Cc1c(/C=C/C(=O)Oc2ccc(C#N)cc2)sc2ccccc12\n",
      "Название: 4-methoxyphenyl (2E)-3-(3-methyl-1-benzothiophen-2-yl)prop-2-enoate, SMILES: COc1ccc(OC(=O)/C=C/c2sc3ccccc3c2C)cc1\n",
      "Название: (3-methyl-1-benzothiophen-2-yl)methyl benzoate, SMILES: Cc1c(COC(=O)c2ccccc2)sc2ccccc12\n",
      "Название: 2-methyl-2-{[2-nitro-4-(trifluoromethyl)phenyl]amino}propyl 5-nitrofuran-2-carboxylate, SMILES: CC(C)(COC(=O)c1ccc([N+](=O)[O-])o1)Nc1ccc(C(F)(F)F)cc1[N+](=O)[O-]\n",
      "Название: 1-(4-methoxyphenyl)-3-(3-oxo-1H-2-benzofuran-5-yl)thiourea, SMILES: COc1ccc(NC(=S)Nc2ccc3c(c2)C(=O)OC3)cc1\n",
      "Название: 1,3-diethyl 2-[(3H-1,2,3-benzotriazol-5-ylamino)methylidene]propanedioate, SMILES: CCOC(=O)C(=CNc1ccc2nn[nH]c2c1)C(=O)OCC\n",
      "Название: (Z)-[amino({4-[2-nitro-4-(trifluoromethyl)phenoxy]phenyl})methylidene]amino thiophene-2-carboxylate, SMILES: N/C(=N\\OC(=O)c1cccs1)c1ccc(Oc2ccc(C(F)(F)F)cc2[N+](=O)[O-])cc1\n",
      "Название: ethyl 8-oxo-2H,5H-[1,3]dioxolo[4,5-g]quinoline-7-carboxylate, SMILES: CCOC(=O)c1c[nH]c2cc3c(cc2c1=O)OCO3\n",
      "Название: 1,3-diethyl 2-{[(4-chloro-2-methylphenyl)amino]methylidene}propanedioate, SMILES: CCOC(=O)C(=CNc1ccc(Cl)cc1C)C(=O)OCC\n",
      "Название: 1,3-diethyl 2-{[(5-methyl-2-nitrophenyl)amino]methylidene}propanedioate, SMILES: CCOC(=O)C(=CNc1cc(C)ccc1[N+](=O)[O-])C(=O)OCC\n",
      "Название: 4-(cyanomethyl)phenyl 3-chloro-1-benzothiophene-2-carboxylate, SMILES: N#CCc1ccc(OC(=O)c2sc3ccccc3c2Cl)cc1\n",
      "Название: 2-(2,2-dimethylpropanamido)-6-fluorobenzoic acid, SMILES: CC(C)(C)C(=O)Nc1cccc(F)c1C(=O)O\n",
      "Название: 1,3-diethyl 2-{[(2-cyano-3-fluorophenyl)amino]methylidene}propanedioate, SMILES: CCOC(=O)C(=CNc1cccc(F)c1C#N)C(=O)OCC\n",
      "Название: (3-methyl-1-benzothiophen-2-yl)methyl 2,4-dichlorobenzoate, SMILES: Cc1c(COC(=O)c2ccc(Cl)cc2Cl)sc2ccccc12\n"
     ]
    }
   ],
   "source": [
    "def carboxyl_group(mol):\n",
    "    carboxyl_pattern = Chem.MolFromSmarts(\"C(=O)O\")  # SMARTS для карбоксильной группы\n",
    "    return mol.HasSubstructMatch(carboxyl_pattern)\n",
    "\n",
    "supplier = Chem.SDMolSupplier(\"data/data.sdf\")\n",
    "\n",
    "for mol in supplier:\n",
    "    if carboxyl_group(mol): \n",
    "        traditional_name = mol.GetProp(\"Traditional Name\")\n",
    "        smiles = Chem.MolToSmiles(mol)  # Получаем SMILES представление\n",
    "        print(f\"Название: {traditional_name}, SMILES: {smiles}\")"
   ]
  },
  {
   "cell_type": "markdown",
   "metadata": {},
   "source": [
    "#### Поиск по подструктуре, заданной SMILES:"
   ]
  },
  {
   "cell_type": "code",
   "execution_count": 6,
   "metadata": {},
   "outputs": [
    {
     "data": {
      "text/plain": [
       "True"
      ]
     },
     "execution_count": 6,
     "metadata": {},
     "output_type": "execute_result"
    }
   ],
   "source": [
    "m = Chem.MolFromSmiles('C1=CC=CC=C1OC')\n",
    "m.HasSubstructMatch(Chem.MolFromSmiles('COC'))"
   ]
  },
  {
   "cell_type": "code",
   "execution_count": 7,
   "metadata": {},
   "outputs": [
    {
     "data": {
      "text/plain": [
       "False"
      ]
     },
     "execution_count": 7,
     "metadata": {},
     "output_type": "execute_result"
    }
   ],
   "source": [
    "m.HasSubstructMatch(Chem.MolFromSmarts('COC'))"
   ]
  },
  {
   "cell_type": "code",
   "execution_count": 8,
   "metadata": {},
   "outputs": [
    {
     "data": {
      "text/plain": [
       "True"
      ]
     },
     "execution_count": 8,
     "metadata": {},
     "output_type": "execute_result"
    }
   ],
   "source": [
    "m.HasSubstructMatch(Chem.MolFromSmarts('COc'))"
   ]
  },
  {
   "cell_type": "markdown",
   "metadata": {},
   "source": [
    "#### Учитываем стереохимию:"
   ]
  },
  {
   "cell_type": "code",
   "execution_count": 9,
   "metadata": {},
   "outputs": [],
   "source": [
    "m = Chem.MolFromSmiles('CC[C@H](F)Cl')"
   ]
  },
  {
   "cell_type": "code",
   "execution_count": 10,
   "metadata": {},
   "outputs": [
    {
     "data": {
      "text/plain": [
       "True"
      ]
     },
     "execution_count": 10,
     "metadata": {},
     "output_type": "execute_result"
    }
   ],
   "source": [
    "m.HasSubstructMatch(Chem.MolFromSmiles('C[C@H](F)Cl'),useChirality=True)"
   ]
  },
  {
   "cell_type": "code",
   "execution_count": 11,
   "metadata": {},
   "outputs": [
    {
     "data": {
      "text/plain": [
       "False"
      ]
     },
     "execution_count": 11,
     "metadata": {},
     "output_type": "execute_result"
    }
   ],
   "source": [
    "m.HasSubstructMatch(Chem.MolFromSmiles('C[C@@H](F)Cl'),useChirality=True)"
   ]
  },
  {
   "cell_type": "markdown",
   "metadata": {},
   "source": [
    "_внимание на поведение функции с аргументом useChirality=True и False и на молекуле с отмеченной стереохимией и без:_"
   ]
  },
  {
   "cell_type": "code",
   "execution_count": 12,
   "metadata": {},
   "outputs": [
    {
     "data": {
      "text/plain": [
       "True"
      ]
     },
     "execution_count": 12,
     "metadata": {},
     "output_type": "execute_result"
    }
   ],
   "source": [
    "m.HasSubstructMatch(Chem.MolFromSmiles('CC(F)Cl'))"
   ]
  },
  {
   "cell_type": "code",
   "execution_count": 13,
   "metadata": {},
   "outputs": [
    {
     "data": {
      "text/plain": [
       "True"
      ]
     },
     "execution_count": 13,
     "metadata": {},
     "output_type": "execute_result"
    }
   ],
   "source": [
    "m.HasSubstructMatch(Chem.MolFromSmiles('CC(F)Cl'),useChirality=True)"
   ]
  },
  {
   "cell_type": "code",
   "execution_count": 14,
   "metadata": {},
   "outputs": [],
   "source": [
    "m2 = Chem.MolFromSmiles('CC(F)Cl')"
   ]
  },
  {
   "cell_type": "code",
   "execution_count": 15,
   "metadata": {},
   "outputs": [
    {
     "data": {
      "text/plain": [
       "False"
      ]
     },
     "execution_count": 15,
     "metadata": {},
     "output_type": "execute_result"
    }
   ],
   "source": [
    "m2.HasSubstructMatch(Chem.MolFromSmiles('C[C@H](F)Cl'),useChirality=True)"
   ]
  },
  {
   "cell_type": "markdown",
   "metadata": {},
   "source": [
    "## <a name=\"duplSearch\"> Поиск дубликатов</a>"
   ]
  },
  {
   "cell_type": "markdown",
   "metadata": {},
   "source": [
    "### <a name=\"duplSearchInchi\">с использованием InChI</a>"
   ]
  },
  {
   "cell_type": "code",
   "execution_count": 16,
   "metadata": {},
   "outputs": [],
   "source": [
    "suppl = Chem.SDMolSupplier('data/data.sdf')"
   ]
  },
  {
   "cell_type": "code",
   "execution_count": 17,
   "metadata": {},
   "outputs": [
    {
     "name": "stderr",
     "output_type": "stream",
     "text": [
      "[17:45:52] WARNING: Charges were rearranged\n",
      "\n",
      "[17:45:52] WARNING: Charges were rearranged\n",
      "\n",
      "[17:45:52] WARNING: Charges were rearranged\n",
      "\n",
      "[17:45:52] WARNING: Charges were rearranged; Omitted undefined stereo\n",
      "\n",
      "[17:45:52] WARNING: Charges were rearranged\n",
      "\n",
      "[17:45:52] WARNING: Charges were rearranged\n",
      "\n",
      "[17:45:52] WARNING: Charges were rearranged\n",
      "\n",
      "[17:45:52] WARNING: Charges were rearranged\n",
      "\n",
      "[17:45:52] WARNING: Charges were rearranged\n",
      "\n",
      "[17:45:52] WARNING: Omitted undefined stereo\n",
      "\n",
      "[17:45:52] WARNING: Charges were rearranged\n",
      "\n",
      "[17:45:52] WARNING: Charges were rearranged\n",
      "\n",
      "[17:45:52] WARNING: Charges were rearranged\n",
      "\n",
      "[17:45:52] WARNING: Charges were rearranged; Omitted undefined stereo\n",
      "\n",
      "[17:45:52] WARNING: Charges were rearranged\n",
      "\n"
     ]
    }
   ],
   "source": [
    "molecules = [x for x in suppl if x is not None]\n",
    "for mol in molecules:\n",
    "    mol.SetProp(\"InChI\",Chem.MolToInchi(mol,options=\"-KET\"))"
   ]
  },
  {
   "cell_type": "code",
   "execution_count": 18,
   "metadata": {},
   "outputs": [
    {
     "data": {
      "text/plain": [
       "[('InChI=1/C13H16O2/c1-9(2)11-4-6-12(7-5-11)13(15)8-10(3)14/h4-7,9H,1-3H3,(H2,8,14,15)',\n",
       "  [16, 75, 81]),\n",
       " ('InChI=1/C7H12O2/c1-5(2)7(9)4-6(3)8/h1-3H3,(H3,4,5,8,9)', [2, 66]),\n",
       " ('InChI=1/C11H12O2/c1-8-3-5-10(6-4-8)11(13)7-9(2)12/h3-6H,1-2H3,(H2,7,12,13)',\n",
       "  [7, 90]),\n",
       " ('InChI=1/C9H16O2/c1-7(10)5-8(11)6-9(2,3)4/h1-4H3,(H4,5,6,10,11)', [13, 49]),\n",
       " ('InChI=1/C10H10O2/c1-8(11)7-10(12)9-5-3-2-4-6-9/h2-6H,1H3,(H2,7,11,12)',\n",
       "  [18, 25]),\n",
       " ('InChI=1/C8H14O2/c1-6(2)4-8(10)5-7(3)9/h6H,1-3H3,(H4,4,5,9,10)', [34, 36]),\n",
       " ('InChI=1/C8H14O2/c1-6(9)5-7(10)8(2,3)4/h1-4H3,(H2,5,9,10)', [61, 74]),\n",
       " ('InChI=1/C5H8O2/c1-4(6)3-5(2)7/h1-2H3,(H2,3,6,7)', [72, 99]),\n",
       " ('InChI=1/C12H10FNO2/c1-7(2)6-10-14-9-5-3-4-8(13)11(9)12(15)16-10/h3-6H,1-2H3',\n",
       "  [0]),\n",
       " ('InChI=1/C13H10FN3O2/c1-2-19-13(18)9(6-15)8-17-12-5-3-4-11(14)10(12)7-16/h3-5,8,17H,2H2,1H3/b9-8+',\n",
       "  [1]),\n",
       " ('InChI=1/C24H15Cl2F2N3O3/c1-12-19(22(31-34-12)20-15(25)4-2-5-16(20)26)23(32)30-18-7-3-6-17(28)21(18)24(33)29-14-10-8-13(27)9-11-14/h2-11H,1H3,(H,29,33)(H,30,32)',\n",
       "  [3]),\n",
       " ('InChI=1/C15H7F4NO2/c16-10-5-2-6-11-12(10)14(21)22-13(20-11)8-3-1-4-9(7-8)15(17,18)19/h1-7H',\n",
       "  [4]),\n",
       " ('InChI=1/C12H10O2S2/c13-9(11-3-1-7-15-11)5-6-10(14)12-4-2-8-16-12/h1-4,7-8H,(H2,5,13)(H2,6,14)',\n",
       "  [5]),\n",
       " ('InChI=1/C16H19NO6/c1-4-22-15(19)13(16(20)23-5-2)10-17-12-8-6-7-11(9-12)14(18)21-3/h6-10,17H,4-5H2,1-3H3',\n",
       "  [6]),\n",
       " ('InChI=1/C14H11N3O5S/c1-2-21-8-3-4-9-11(7-8)23-14(15-9)16-13(18)10-5-6-12(22-10)17(19)20/h3-7H,2H2,1H3,(H,15,16,18)',\n",
       "  [8]),\n",
       " ('InChI=1/C12H7N3O4S/c16-11(8-5-6-10(19-8)15(17)18)14-12-13-7-3-1-2-4-9(7)20-12/h1-6H,(H,13,14,16)',\n",
       "  [9]),\n",
       " ('InChI=1/C24H14F3N3O7/c25-24(26,27)15-7-10-20(18(12-15)30(33)34)35-16-8-5-13(6-9-16)21(28)29-37-23(32)17-11-14-3-1-2-4-19(14)36-22(17)31/h1-12H,(H2,28,29)',\n",
       "  [10]),\n",
       " ('InChI=1/C25H15Cl3N2O3/c26-19-7-1-4-16(12-19)22(33-25(32)18-6-3-9-21(28)14-18)15-23-29-10-11-30(23)24(31)17-5-2-8-20(27)13-17/h1-15H/b22-15+',\n",
       "  [11]),\n",
       " ('InChI=1/C12H9F2NO3/c1-2-18-12(17)8-5-15-10-7(11(8)16)3-6(13)4-9(10)14/h3-5H,2H2,1H3,(H,7,8,15,16,17)',\n",
       "  [12]),\n",
       " ('InChI=1/C12H9Cl2NO3/c1-2-18-12(17)7-5-15-9-4-6(13)3-8(14)10(9)11(7)16/h3-5H,2H2,1H3,(H,7,10,15,16,17)',\n",
       "  [14]),\n",
       " ('InChI=1/C22H15N3O6.H2O/c1-12(13-5-3-2-4-6-13)23-22(27)19-11-15(25(30)31)10-18-20(19)16-8-7-14(24(28)29)9-17(16)21(18)26;/h2-12H,1H3,(H,23,27);1H2',\n",
       "  [15]),\n",
       " ('InChI=1/C13H18BrN3O2S/c1-13(2,3)16-12(20)17-15-7-8-5-9(14)6-10(19-4)11(8)18/h5-7H,1-4H3,(H,8,10,18)(H2,16,17,20)/b15-7+',\n",
       "  [17]),\n",
       " ('InChI=1/C13H17ClN2O2/c1-9-11(14)3-2-4-12(9)15-13(18)16-7-5-10(17)6-8-16/h2-4,10,17H,5-8H2,1H3,(H,15,18)',\n",
       "  [19]),\n",
       " ('InChI=1/C13H15F3N2OS/c14-13(15,16)9-2-1-3-10(8-9)17-12(20)18-6-4-11(19)5-7-18/h1-3,8,11,19H,4-7H2,(H,17,20)',\n",
       "  [20]),\n",
       " ('InChI=1/C14H16F3N3O2/c1-20-7-5-11(6-8-20)19-22-13(21)18-12-4-2-3-10(9-12)14(15,16)17/h2-4,9H,5-8H2,1H3,(H,18,21)',\n",
       "  [21]),\n",
       " ('InChI=1/C14H18OS3/c1-10-5-7-11(8-6-10)12(15)9-17-13(16)18-14(2,3)4/h5-8H,1-4H3,(H2,9,15)',\n",
       "  [22]),\n",
       " ('InChI=1/C14H15ClN2O2S2/c15-13-6-7-14(20-13)21(18,19)17-10-8-16(9-11-17)12-4-2-1-3-5-12/h1-7H,8-11H2',\n",
       "  [23]),\n",
       " ('InChI=1/C22H22ClNO2S2/c23-20-11-12-21(27-20)28(25,26)24-15-13-19(14-16-24)22(17-7-3-1-4-8-17)18-9-5-2-6-10-18/h1-12,19,22H,13-16H2',\n",
       "  [24]),\n",
       " ('InChI=1/C12H16N2O4S/c1-2-18-12(15)9-3-6-13(7-4-9)11-10(14(16)17)5-8-19-11/h5,8H,2-4,6-7H2,1H3,(H,9,15)',\n",
       "  [26]),\n",
       " ('InChI=1/C19H26N4O4/c1-5-26-18(24)13-7-9-23(10-8-13)16-14(19(25)27-6-2)11-20-17-15(16)12(3)21-22(17)4/h11H,5-10H2,1-4H3,(H,13,24)',\n",
       "  [27]),\n",
       " ('InChI=1/C21H17Cl2F3N4S/c22-14-5-6-16(23)18(12-14)29-20(31)30-19-11-13(21(24,25)26)4-7-17(19)28-10-8-15-3-1-2-9-27-15/h1-7,9,11-12,28H,8,10H2,(H2,29,30,31)',\n",
       "  [28]),\n",
       " ('InChI=1/C15H12N2OS2/c1-10-11-4-2-3-5-13(11)20-12(10)6-7-14(18)17-15-16-8-9-19-15/h2-9H,1H3,(H,16,17,18)/b7-6+',\n",
       "  [29]),\n",
       " ('InChI=1/C19H13NO2S/c1-13-16-4-2-3-5-18(16)23-17(13)10-11-19(21)22-15-8-6-14(12-20)7-9-15/h2-11H,1H3/b11-10+',\n",
       "  [30]),\n",
       " ('InChI=1/C19H16O3S/c1-13-16-5-3-4-6-18(16)23-17(13)11-12-19(20)22-15-9-7-14(21-2)8-10-15/h3-12H,1-2H3/b12-11+',\n",
       "  [31]),\n",
       " ('InChI=1/C17H14O2S/c1-12-14-9-5-6-10-15(14)20-16(12)11-19-17(18)13-7-3-2-4-8-13/h2-10H,11H2,1H3',\n",
       "  [32]),\n",
       " ('InChI=1/C14H13ClFN3OS/c1-8-5-9(2)18-14(17-8)21-7-13(20)19-10-3-4-12(16)11(15)6-10/h3-6H,1-2H3,(H3,7,19,20)',\n",
       "  [33]),\n",
       " ('InChI=1/C25H38N2/c1-3-5-7-9-10-11-12-14-22-16-18-23(19-17-22)24-20-26-25(27-21-24)15-13-8-6-4-2/h16-21H,3-15H2,1-2H3',\n",
       "  [35]),\n",
       " ('InChI=1/C16H17ClN4O4S/c17-13-2-5-15(6-3-13)26(24,25)20-9-1-8-19(10-11-20)16-7-4-14(12-18-16)21(22)23/h2-7,12H,1,8-11H2',\n",
       "  [37]),\n",
       " ('InChI=1/C16H14F3N3O7/c1-15(2,8-28-14(23)12-5-6-13(29-12)22(26)27)20-10-4-3-9(16(17,18)19)7-11(10)21(24)25/h3-7,20H,8H2,1-2H3',\n",
       "  [38]),\n",
       " ('InChI=1/C15H22N4O7S/c1-23-7-5-6-16-15(27)18-17-14(20)9-8-10(24-2)12(25-3)13(26-4)11(9)19(21)22/h8H,5-7H2,1-4H3,(H,17,20)(H2,16,18,27)',\n",
       "  [39]),\n",
       " ('InChI=1/C15H21N5O4/c21-15(19-8-10-24-11-9-19)18-5-1-4-17(6-7-18)14-3-2-13(12-16-14)20(22)23/h2-3,12H,1,4-11H2',\n",
       "  [40]),\n",
       " ('InChI=1/C8H8N2OS/c1-11-5-2-3-6-7(4-5)10-8(12)9-6/h2-4H,1H3,(H2,9,10,12)',\n",
       "  [41]),\n",
       " ('InChI=1/C14H17N3O2/c1-3-10-17(13(18)8-9-15)14(19)16-12-7-5-4-6-11(12)2/h4-7H,3,10H2,1-2H3,(H2,8,18)(H,16,19)',\n",
       "  [42]),\n",
       " ('InChI=1/C16H14N2O3S/c1-20-13-6-4-11(5-7-13)17-16(22)18-12-3-2-10-9-21-15(19)14(10)8-12/h2-8H,9H2,1H3,(H2,17,18,22)',\n",
       "  [43]),\n",
       " ('InChI=1/C14H17N3O2/c1-3-8-16-13(18)9-12(15)17(14(16)19)11-7-5-4-6-10(11)2/h4-7,9H,3,8,15H2,1-2H3',\n",
       "  [44]),\n",
       " ('InChI=1/C17H13FN2.BrH/c18-15-7-5-12(6-8-15)16-11-20-10-14-4-2-1-3-13(14)9-17(20)19-16;/h1-8,11H,9-10H2;1H',\n",
       "  [45]),\n",
       " ('InChI=1/C14H16N4O4/c1-3-21-13(19)10(14(20)22-4-2)8-15-9-5-6-11-12(7-9)17-18-16-11/h5-8,15H,3-4H2,1-2H3,(H,16,17,18)',\n",
       "  [46]),\n",
       " ('InChI=1/C19H19NS2/c1-12(2)14-8-10-15(11-9-14)20-19(21)18-13(3)16-6-4-5-7-17(16)22-18/h4-12H,1-3H3,(H,20,21)',\n",
       "  [47]),\n",
       " ('InChI=1/C25H23BrN2O4/c26-20-7-8-22-21(14-20)25(31,24(30)28(22)16-27-9-11-32-12-10-27)15-23(29)19-6-5-17-3-1-2-4-18(17)13-19/h1-8,13-14,31H,9-12,16H2,(H2,15,29)',\n",
       "  [48]),\n",
       " ('InChI=1/C18H10F3N5OS/c19-18(20,21)12-4-1-5-13(7-12)25-26-14(8-22)16(27)15-10-28-17(24-15)11-3-2-6-23-9-11/h1-7,9-10,25H/b26-14+',\n",
       "  [50]),\n",
       " ('InChI=1/C19H14ClN3S2/c1-12-13-6-3-5-9-17(13)25-18(12)10-21-23-19-22-16(11-24-19)14-7-2-4-8-15(14)20/h2-11H,1H3,(H,22,23)/b21-10+',\n",
       "  [51]),\n",
       " ('InChI=1/C16H12ClN3OS/c17-13-5-3-11(4-6-13)8-19-15(21)14-10-22-16(20-14)12-2-1-7-18-9-12/h1-7,9-10H,8H2,(H,19,21)',\n",
       "  [52]),\n",
       " ('InChI=1/C17H10ClN5OS/c18-12-3-5-13(6-4-12)22-23-14(8-19)16(24)15-10-25-17(21-15)11-2-1-7-20-9-11/h1-7,9-10,22H/b23-14+',\n",
       "  [53]),\n",
       " ('InChI=1/C12H6N4O6S/c17-11(8-3-4-10(22-8)16(20)21)14-12-13-7-2-1-6(15(18)19)5-9(7)23-12/h1-5H,(H,13,14,17)',\n",
       "  [54]),\n",
       " ('InChI=1/C14H9ClF4N2OS/c15-10-5-9(2-3-11(10)16)21-12(22)7-23-13-4-1-8(6-20-13)14(17,18)19/h1-6H,(H3,7,21,22)',\n",
       "  [55]),\n",
       " ('InChI=1/C11H10ClFN4OS/c1-17-6-14-16-11(17)19-5-10(18)15-7-2-3-9(13)8(12)4-7/h2-4,6H,1H3,(H3,5,15,18)',\n",
       "  [56]),\n",
       " ('InChI=1/C19H12F3N3O5S/c20-19(21,22)12-5-8-15(14(10-12)25(27)28)29-13-6-3-11(4-7-13)17(23)24-30-18(26)16-2-1-9-31-16/h1-10H,(H2,23,24)',\n",
       "  [57]),\n",
       " ('InChI=1/C13H11NO5/c1-2-17-13(16)8-5-14-9-4-11-10(18-6-19-11)3-7(9)12(8)15/h3-5H,2,6H2,1H3,(H,7,8,14,15,16)',\n",
       "  [58]),\n",
       " ('InChI=1/C17H15N3O2/c1-10-4-3-5-12(8-10)15(21)19-17-18-14-7-6-11(2)9-13(14)16(22)20-17/h3-9H,1-2H3,(H2,13,18,19,20,21,22)',\n",
       "  [59]),\n",
       " ('InChI=1/C15H18ClNO4/c1-4-20-14(18)12(15(19)21-5-2)9-17-13-7-6-11(16)8-10(13)3/h6-9,17H,4-5H2,1-3H3',\n",
       "  [60]),\n",
       " ('InChI=1/C15H18N2O6/c1-4-22-14(18)11(15(19)23-5-2)9-16-12-8-10(3)6-7-13(12)17(20)21/h6-9,16H,4-5H2,1-3H3',\n",
       "  [62]),\n",
       " ('InChI=1/C16H12ClN3O2/c1-9-6-7-13-11(8-9)15(22)20-16(18-13)19-14(21)10-4-2-3-5-12(10)17/h2-8H,1H3,(H2,11,18,19,20,21,22)',\n",
       "  [63]),\n",
       " ('InChI=1/C17H10ClNO2S/c18-15-13-3-1-2-4-14(13)22-16(15)17(20)21-12-7-5-11(6-8-12)9-10-19/h1-8H,9H2',\n",
       "  [64]),\n",
       " ('InChI=1/C17H10Cl3FN2O2/c1-8-14(17(24)22-9-5-6-13(21)12(20)7-9)16(23-25-8)15-10(18)3-2-4-11(15)19/h2-7H,1H3,(H,22,24)',\n",
       "  [65]),\n",
       " ('InChI=1/C14H8Cl2F2N2O2/c15-9-5-7(1-3-11(9)17)13(21)20-14(22)19-8-2-4-12(18)10(16)6-8/h1-6H,(H2,19,20,21,22)',\n",
       "  [67]),\n",
       " ('InChI=1/C12H14FNO3/c1-12(2,3)11(17)14-8-6-4-5-7(13)9(8)10(15)16/h4-6H,1-3H3,(H,14,17)(H,15,16)',\n",
       "  [68]),\n",
       " ('InChI=1/C15H15FN2O4/c1-3-21-14(19)11(15(20)22-4-2)9-18-13-7-5-6-12(16)10(13)8-17/h5-7,9,18H,3-4H2,1-2H3',\n",
       "  [69]),\n",
       " ('InChI=1/C17H13FN2O2S2/c18-12-5-1-6-13(20-16(21)14-7-3-9-24-14)15(12)17(22)19-10-11-4-2-8-23-11/h1-9H,10H2,(H,19,22)(H,20,21)',\n",
       "  [70]),\n",
       " ('InChI=1/C13H14F3N5OS/c14-13(15,16)10-3-4-17-11(21-10)18-5-6-19-12(23)20-8-9-2-1-7-22-9/h1-4,7H,5-6,8H2,(H,17,18,21)(H2,19,20,23)',\n",
       "  [71]),\n",
       " ('InChI=1/C9H7Br2NO2/c10-9(11)5-8(9)6-1-3-7(4-2-6)12(13)14/h1-4,8H,5H2',\n",
       "  [73]),\n",
       " ('InChI=1/C17H18N4O2S2/c22-25(23,16-8-4-7-15-17(16)19-24-18-15)21-11-9-20(10-12-21)13-14-5-2-1-3-6-14/h1-8H,9-13H2',\n",
       "  [76]),\n",
       " ('InChI=1/C16H18N2O/c1-12-7-6-8-13(2)15(12)18-16(19)17-11-14-9-4-3-5-10-14/h3-10H,11H2,1-2H3,(H2,17,18,19)',\n",
       "  [77]),\n",
       " ('InChI=1/C9H14N2O2S/c1-8-4-6-9(7-5-8)10-14(12,13)11(2)3/h4-7,10H,1-3H3',\n",
       "  [78]),\n",
       " ('InChI=1/C20H25N3O2S/c1-20(2,3)22-19(26)23-21-13-16-10-11-17(18(12-16)24-4)25-14-15-8-6-5-7-9-15/h5-13H,14H2,1-4H3,(H2,22,23,26)/b21-13+',\n",
       "  [79]),\n",
       " ('InChI=1/C16H12Cl2F3NOS/c17-12-5-13(18)7-14(6-12)22-15(23)9-24-8-10-2-1-3-11(4-10)16(19,20)21/h1-7H,8H2,(H3,9,22,23)',\n",
       "  [80]),\n",
       " ('InChI=1/C11H13F3N2O3/c1-10(2,6-17)15-8-4-3-7(11(12,13)14)5-9(8)16(18)19/h3-5,15,17H,6H2,1-2H3',\n",
       "  [82]),\n",
       " ('InChI=1/C18H14F3NO5/c1-24-12-8-11-13(15(26-3)14(12)25-2)22-16(27-17(11)23)9-5-4-6-10(7-9)18(19,20)21/h4-8H,1-3H3',\n",
       "  [83]),\n",
       " ('InChI=1/C11H9ClN2O/c12-8-1-4-10(5-2-8)15-11-6-3-9(13)7-14-11/h1-7H,13H2',\n",
       "  [84]),\n",
       " ('InChI=1/C11H8Cl2N2O/c12-8-2-1-3-9(13)11(8)16-10-5-4-7(14)6-15-10/h1-6H,14H2',\n",
       "  [85]),\n",
       " ('InChI=1/C16H8Cl2F3N/c17-14-5-4-11(15(18)8-14)6-12(9-22)10-2-1-3-13(7-10)16(19,20)21/h1-8H/b12-6+',\n",
       "  [86]),\n",
       " ('InChI=1/C10H12F3N3O/c11-10(12,13)8-1-4-14-9(15-8)16-5-2-7(17)3-6-16/h1,4,7,17H,2-3,5-6H2',\n",
       "  [87]),\n",
       " ('InChI=1/C25H27FN2O2S/c26-23-11-13-24(14-12-23)31(29,30)20-19-27-15-17-28(18-16-27)25(21-7-3-1-4-8-21)22-9-5-2-6-10-22/h1-14,25H,15-20H2',\n",
       "  [88]),\n",
       " ('InChI=1/C16H16N4O2S2/c21-24(22,15-8-4-7-14-16(15)18-23-17-14)20-11-9-19(10-12-20)13-5-2-1-3-6-13/h1-8H,9-12H2',\n",
       "  [89]),\n",
       " ('InChI=1/C28H25ClF3N3O4/c1-16-25(26(35-39-16)19-6-4-5-7-20(19)29)27(36)34-22-15-18(28(30,31)32)9-10-21(22)33-13-12-17-8-11-23(37-2)24(14-17)38-3/h4-11,14-15,33H,12-13H2,1-3H3,(H,34,36)',\n",
       "  [91]),\n",
       " ('InChI=1/C19H15ClN2O4/c1-11-17(18(22-26-11)14-4-2-3-5-15(14)20)19(23)21-13-6-7-16-12(8-13)9-24-10-25-16/h2-8H,9-10H2,1H3,(H,21,23)',\n",
       "  [92]),\n",
       " ('InChI=1/C21H26N2O5S/c1-3-11-23(12-4-2)29(25,26)19-8-5-16(6-9-19)21(24)22-18-7-10-20-17(13-18)14-27-15-28-20/h5-10,13H,3-4,11-12,14-15H2,1-2H3,(H,22,24)',\n",
       "  [93]),\n",
       " ('InChI=1/C16H18FNO3/c1-19-14-7-11(8-15(20-2)16(14)21-3)10-18-13-6-4-5-12(17)9-13/h4-9,18H,10H2,1-3H3',\n",
       "  [94]),\n",
       " ('InChI=1/C14H12FNO2/c15-11-2-1-3-12(7-11)16-8-10-4-5-13-14(6-10)18-9-17-13/h1-7,16H,8-9H2',\n",
       "  [95]),\n",
       " ('InChI=1/C17H12Cl2O2S/c1-10-12-4-2-3-5-15(12)22-16(10)9-21-17(20)13-7-6-11(18)8-14(13)19/h2-8H,9H2,1H3',\n",
       "  [96]),\n",
       " ('InChI=1/C18H14FNOS/c1-12-15-4-2-3-5-17(15)22-16(12)10-11-18(21)20-14-8-6-13(19)7-9-14/h2-11H,1H3,(H,20,21)/b11-10+',\n",
       "  [97]),\n",
       " ('InChI=1/C19H16OS2/c1-13-7-9-15(10-8-13)21-19(20)12-11-17-14(2)16-5-3-4-6-18(16)22-17/h3-12H,1-2H3/b12-11+',\n",
       "  [98])]"
      ]
     },
     "execution_count": 18,
     "metadata": {},
     "output_type": "execute_result"
    }
   ],
   "source": [
    "from collections import defaultdict\n",
    "counter = defaultdict(list)\n",
    "for i, mol in enumerate(molecules):\n",
    "    counter[mol.GetProp(\"InChI\")].append(i)\n",
    "result = sorted(counter.items(), key=lambda x: len(x[1]), reverse=True)\n",
    "result"
   ]
  },
  {
   "cell_type": "code",
   "execution_count": 19,
   "metadata": {},
   "outputs": [
    {
     "data": {
      "image/jpeg": "[encoded data removed]",
      "image/png": "[encoded data removed]",
      "text/plain": [
       "<PIL.PngImagePlugin.PngImageFile image mode=RGB size=300x300>"
      ]
     },
     "execution_count": 19,
     "metadata": {},
     "output_type": "execute_result"
    }
   ],
   "source": [
    "Draw.MolToImage(molecules[2], size=(300,300)) # , kekulize=True, wedgeBonds=True, \\\n",
    "                # fitImage=False, canvas=None)"
   ]
  },
  {
   "cell_type": "code",
   "execution_count": 20,
   "metadata": {},
   "outputs": [
    {
     "data": {
      "image/jpeg": "[encoded data removed]",
      "image/png": "[encoded data removed]",
      "text/plain": [
       "<PIL.PngImagePlugin.PngImageFile image mode=RGB size=300x300>"
      ]
     },
     "execution_count": 20,
     "metadata": {},
     "output_type": "execute_result"
    }
   ],
   "source": [
    "Draw.MolToImage(molecules[66], size=(300, 300))  # , kekulize=False, wedgeBonds=False, \\\n",
    "                # fitImage=True, options=None, canvas=None"
   ]
  },
  {
   "cell_type": "markdown",
   "metadata": {},
   "source": [
    "### <a name=\"duplSearchCanSmiles\">с использованием канонических SMILES</a>"
   ]
  },
  {
   "cell_type": "code",
   "execution_count": 21,
   "metadata": {
    "scrolled": true
   },
   "outputs": [
    {
     "data": {
      "text/plain": [
       "[('C/C(O)=C\\\\C(=O)c1ccc(C(C)C)cc1', [16, 75]),\n",
       " ('CC(C)=Cc1nc2cccc(F)c2c(=O)o1', [0]),\n",
       " ('CCOC(=O)/C(C#N)=C/Nc1cccc(F)c1C#N', [1]),\n",
       " ('CC(=O)CC(=O)C(C)C', [2]),\n",
       " ('Cc1onc(-c2c(Cl)cccc2Cl)c1C(=O)Nc1cccc(F)c1C(=O)Nc1ccc(F)cc1', [3]),\n",
       " ('O=c1oc(-c2cccc(C(F)(F)F)c2)nc2cccc(F)c12', [4]),\n",
       " ('O=C(CCC(=O)c1cccs1)c1cccs1', [5]),\n",
       " ('CCOC(=O)C(=CNc1cccc(C(=O)OC)c1)C(=O)OCC', [6]),\n",
       " ('CC(=O)CC(=O)c1ccc(C)cc1', [7]),\n",
       " ('CCOc1ccc2nc(NC(=O)c3ccc([N+](=O)[O-])o3)sc2c1', [8]),\n",
       " ('O=C(Nc1nc2ccccc2s1)c1ccc([N+](=O)[O-])o1', [9]),\n",
       " ('N/C(=N\\\\OC(=O)c1cc2ccccc2oc1=O)c1ccc(Oc2ccc(C(F)(F)F)cc2[N+](=O)[O-])cc1',\n",
       "  [10]),\n",
       " ('O=C(O/C(=C/c1nccn1C(=O)c1cccc(Cl)c1)c1cccc(Cl)c1)c1cccc(Cl)c1', [11]),\n",
       " ('CCOC(=O)c1c[nH]c2c(F)cc(F)cc2c1=O', [12]),\n",
       " ('C/C(O)=C\\\\C(=O)CC(C)(C)C', [13]),\n",
       " ('CCOC(=O)c1c[nH]c2cc(Cl)cc(Cl)c2c1=O', [14]),\n",
       " ('CC(NC(=O)c1cc([N+](=O)[O-])cc2c1-c1ccc([N+](=O)[O-])cc1C2=O)c1ccccc1.O',\n",
       "  [15]),\n",
       " ('COc1cc(Br)cc(/C=N/NC(=S)NC(C)(C)C)c1O', [17]),\n",
       " ('C/C(O)=C\\\\C(=O)c1ccccc1', [18]),\n",
       " ('Cc1c(Cl)cccc1NC(=O)N1CCC(O)CC1', [19]),\n",
       " ('OC1CCN(C(=S)Nc2cccc(C(F)(F)F)c2)CC1', [20]),\n",
       " ('CN1CCC(=NOC(=O)Nc2cccc(C(F)(F)F)c2)CC1', [21]),\n",
       " ('Cc1ccc(C(=O)CSC(=S)SC(C)(C)C)cc1', [22]),\n",
       " ('O=S(=O)(c1ccc(Cl)s1)N1CCN(c2ccccc2)CC1', [23]),\n",
       " ('O=S(=O)(c1ccc(Cl)s1)N1CCC(C(c2ccccc2)c2ccccc2)CC1', [24]),\n",
       " ('CC(=O)CC(=O)c1ccccc1', [25]),\n",
       " ('CCOC(=O)C1CCN(c2sccc2[N+](=O)[O-])CC1', [26]),\n",
       " ('CCOC(=O)c1cnc2c(c(C)nn2C)c1N1CCC(C(=O)OCC)CC1', [27]),\n",
       " ('FC(F)(F)c1ccc(NCCc2ccccn2)c(NC(=S)Nc2cc(Cl)ccc2Cl)c1', [28]),\n",
       " ('Cc1c(/C=C/C(=O)Nc2nccs2)sc2ccccc12', [29]),\n",
       " ('Cc1c(/C=C/C(=O)Oc2ccc(C#N)cc2)sc2ccccc12', [30]),\n",
       " ('COc1ccc(OC(=O)/C=C/c2sc3ccccc3c2C)cc1', [31]),\n",
       " ('Cc1c(COC(=O)c2ccccc2)sc2ccccc12', [32]),\n",
       " ('Cc1cc(C)nc(SCC(=O)Nc2ccc(F)c(Cl)c2)n1', [33]),\n",
       " ('CC(=O)CC(=O)CC(C)C', [34]),\n",
       " ('CCCCCCCCCc1ccc(-c2cnc(CCCCCC)nc2)cc1', [35]),\n",
       " ('C/C(O)=C\\\\C(=O)CC(C)C', [36]),\n",
       " ('O=[N+]([O-])c1ccc(N2CCCN(S(=O)(=O)c3ccc(Cl)cc3)CC2)nc1', [37]),\n",
       " ('CC(C)(COC(=O)c1ccc([N+](=O)[O-])o1)Nc1ccc(C(F)(F)F)cc1[N+](=O)[O-]', [38]),\n",
       " ('COCCCNC(=S)NNC(=O)c1cc(OC)c(OC)c(OC)c1[N+](=O)[O-]', [39]),\n",
       " ('O=C(N1CCOCC1)N1CCCN(c2ccc([N+](=O)[O-])cn2)CC1', [40]),\n",
       " ('COc1ccc2[nH]c(S)nc2c1', [41]),\n",
       " ('CCCN(C(=O)CC#N)C(=O)Nc1ccccc1C', [42]),\n",
       " ('COc1ccc(NC(=S)Nc2ccc3c(c2)C(=O)OC3)cc1', [43]),\n",
       " ('CCCn1c(=O)cc(N)n(-c2ccccc2C)c1=O', [44]),\n",
       " ('Br.Fc1ccc(-c2cn3c(n2)Cc2ccccc2C3)cc1', [45]),\n",
       " ('CCOC(=O)C(=CNc1ccc2nn[nH]c2c1)C(=O)OCC', [46]),\n",
       " ('Cc1c(C(=S)Nc2ccc(C(C)C)cc2)sc2ccccc12', [47]),\n",
       " ('O=C(CC1(O)C(=O)N(CN2CCOCC2)c2ccc(Br)cc21)c1ccc2ccccc2c1', [48]),\n",
       " ('CC(=O)CC(=O)CC(C)(C)C', [49]),\n",
       " ('N#C/C(=N\\\\Nc1cccc(C(F)(F)F)c1)C(=O)c1csc(-c2cccnc2)n1', [50]),\n",
       " ('Cc1c(/C=N/Nc2nc(-c3ccccc3Cl)cs2)sc2ccccc12', [51]),\n",
       " ('O=C(NCc1ccc(Cl)cc1)c1csc(-c2cccnc2)n1', [52]),\n",
       " ('N#C/C(=N\\\\Nc1ccc(Cl)cc1)C(=O)c1csc(-c2cccnc2)n1', [53]),\n",
       " ('O=C(Nc1nc2ccc([N+](=O)[O-])cc2s1)c1ccc([N+](=O)[O-])o1', [54]),\n",
       " ('O=C(CSc1ccc(C(F)(F)F)cn1)Nc1ccc(F)c(Cl)c1', [55]),\n",
       " ('Cn1cnnc1SCC(=O)Nc1ccc(F)c(Cl)c1', [56]),\n",
       " ('N/C(=N\\\\OC(=O)c1cccs1)c1ccc(Oc2ccc(C(F)(F)F)cc2[N+](=O)[O-])cc1', [57]),\n",
       " ('CCOC(=O)c1c[nH]c2cc3c(cc2c1=O)OCO3', [58]),\n",
       " ('Cc1cccc(C(=O)Nc2nc3ccc(C)cc3c(=O)[nH]2)c1', [59]),\n",
       " ('CCOC(=O)C(=CNc1ccc(Cl)cc1C)C(=O)OCC', [60]),\n",
       " ('C/C(O)=C\\\\C(=O)C(C)(C)C', [61]),\n",
       " ('CCOC(=O)C(=CNc1cc(C)ccc1[N+](=O)[O-])C(=O)OCC', [62]),\n",
       " ('Cc1ccc2nc(NC(=O)c3ccccc3Cl)[nH]c(=O)c2c1', [63]),\n",
       " ('N#CCc1ccc(OC(=O)c2sc3ccccc3c2Cl)cc1', [64]),\n",
       " ('Cc1onc(-c2c(Cl)cccc2Cl)c1C(=O)Nc1ccc(F)c(Cl)c1', [65]),\n",
       " ('C/C(O)=C\\\\C(=O)C(C)C', [66]),\n",
       " ('O=C(NC(=O)c1ccc(F)c(Cl)c1)Nc1ccc(F)c(Cl)c1', [67]),\n",
       " ('CC(C)(C)C(=O)Nc1cccc(F)c1C(=O)O', [68]),\n",
       " ('CCOC(=O)C(=CNc1cccc(F)c1C#N)C(=O)OCC', [69]),\n",
       " ('O=C(Nc1cccc(F)c1C(=O)NCc1cccs1)c1cccs1', [70]),\n",
       " ('FC(F)(F)c1ccnc(NCCNC(=S)NCc2ccco2)n1', [71]),\n",
       " ('CC(=O)/C=C(\\\\C)O', [72]),\n",
       " ('O=[N+]([O-])c1ccc(C2CC2(Br)Br)cc1', [73]),\n",
       " ('CC(=O)CC(=O)C(C)(C)C', [74]),\n",
       " ('O=S(=O)(c1cccc2nsnc12)N1CCN(Cc2ccccc2)CC1', [76]),\n",
       " ('Cc1cccc(C)c1NC(=O)NCc1ccccc1', [77]),\n",
       " ('Cc1ccc(NS(=O)(=O)N(C)C)cc1', [78]),\n",
       " ('COc1cc(/C=N/NC(=S)NC(C)(C)C)ccc1OCc1ccccc1', [79]),\n",
       " ('O=C(CSCc1cccc(C(F)(F)F)c1)Nc1cc(Cl)cc(Cl)c1', [80]),\n",
       " ('CC(=O)CC(=O)c1ccc(C(C)C)cc1', [81]),\n",
       " ('CC(C)(CO)Nc1ccc(C(F)(F)F)cc1[N+](=O)[O-]', [82]),\n",
       " ('COc1cc2c(=O)oc(-c3cccc(C(F)(F)F)c3)nc2c(OC)c1OC', [83]),\n",
       " ('Nc1ccc(Oc2ccc(Cl)cc2)nc1', [84]),\n",
       " ('Nc1ccc(Oc2c(Cl)cccc2Cl)nc1', [85]),\n",
       " ('N#C/C(=C\\\\c1ccc(Cl)cc1Cl)c1cccc(C(F)(F)F)c1', [86]),\n",
       " ('OC1CCN(c2nccc(C(F)(F)F)n2)CC1', [87]),\n",
       " ('O=S(=O)(CCN1CCN(C(c2ccccc2)c2ccccc2)CC1)c1ccc(F)cc1', [88]),\n",
       " ('O=S(=O)(c1cccc2nsnc12)N1CCN(c2ccccc2)CC1', [89]),\n",
       " ('C/C(O)=C\\\\C(=O)c1ccc(C)cc1', [90]),\n",
       " ('COc1ccc(CCNc2ccc(C(F)(F)F)cc2NC(=O)c2c(-c3ccccc3Cl)noc2C)cc1OC', [91]),\n",
       " ('Cc1onc(-c2ccccc2Cl)c1C(=O)Nc1ccc2c(c1)COCO2', [92]),\n",
       " ('CCCN(CCC)S(=O)(=O)c1ccc(C(=O)Nc2ccc3c(c2)COCO3)cc1', [93]),\n",
       " ('COc1cc(CNc2cccc(F)c2)cc(OC)c1OC', [94]),\n",
       " ('Fc1cccc(NCc2ccc3c(c2)OCO3)c1', [95]),\n",
       " ('Cc1c(COC(=O)c2ccc(Cl)cc2Cl)sc2ccccc12', [96]),\n",
       " ('Cc1c(/C=C/C(=O)Nc2ccc(F)cc2)sc2ccccc12', [97]),\n",
       " ('Cc1ccc(SC(=O)/C=C/c2sc3ccccc3c2C)cc1', [98]),\n",
       " ('CC(=O)CC(C)=O', [99])]"
      ]
     },
     "execution_count": 21,
     "metadata": {},
     "output_type": "execute_result"
    }
   ],
   "source": [
    "for mol in molecules:\n",
    "    mol.SetProp(\"SMILES\",Chem.MolToSmiles(mol))\n",
    "from collections import defaultdict\n",
    "counter = defaultdict(list)\n",
    "for i,mol in enumerate(molecules):\n",
    "    counter[mol.GetProp(\"SMILES\")].append(i)\n",
    "result = sorted(counter.items(), key=lambda x:len(x[1]), reverse=True)\n",
    "result"
   ]
  },
  {
   "cell_type": "markdown",
   "metadata": {},
   "source": [
    "## <a name=\"standardization\">Стандартизация</a>"
   ]
  },
  {
   "cell_type": "markdown",
   "metadata": {
    "collapsed": true
   },
   "source": [
    "При выполнении функции \"чтения\" молекулы по умолчанию выполняется операция «дезинфекции» (**sanitization**) данной молекулы. Идея состоит в том, чтобы генерировать полезные вычисляемые свойства (например, гибридизацию, участие в кольце и т. д.) для остальной части кода и гарантировать, что молекулы «разумны»: они могут быть представлены точечными структурами Льюиса.\n",
    "\n",
    "Ниже представлены этапы обработки молекулы:\n",
    "<ol><li>**_clearComputedProps_**: удаляет любые расчетные свойства, которые уже существуют для молекулы и ее атомов и связей. Этот шаг выполняется всегда.</li>\n",
    "<li>**_cleanUp_**: стандартизирует некоторые нестандартные состояния валентности. \n",
    "Операции очистки:\n",
    "\n",
    "<ul><li>           Нейтральные 5-валентные атомы N с двойными связями с атомами O преобразуются в цвиттерионную форму. Пример: N (= O) = O -> [N +] (= O) O-]</li>\n",
    "               <li> Нейтральные 5-валентные атомы N с тройными связями с другими N преобразуются в цвиттерионную форму. Пример: C-N = N # N -> C-N = [N +] = [N-]</li>\n",
    "                <li>Нейтральный 5-валентный фосфор с одной двойной связью с O и другой либо с C, либо с P преобразуется в цвиттерионную форму. Пример: C = P (= O) O -> C = [P +] ([O -]) O</li>\n",
    "               <li> Нейтральный Cl, Br или I с исключительно O соседями и валентностью 3, 5 или 7 превращаются в цвиттерионную форму. Это включая такие вещества, как хлорная кислота, хлорная кислота и перхлорная кислота. Пример: O = Cl (= O) O -> [O -] [Cl + 2] [O-] O</li></ul>\n",
    "\n",
    "        Этот шаг не должен генерировать исключения.</li>\n",
    "\n",
    "<li>        **_updatePropertyCache_**: вычисляет явные и неявные валентности для всех атомов. Это порождает исключения для атомов в более высоких разрешенных валентных состояниях. Этот шаг всегда выполняется, но если он «пропущен», тест на нестандартные валентности не будет выполнен.</li>\n",
    "\n",
    "<li>        **_symrizeSSSR_**: вызывает алгоритм наименьшего числа симметризованных алгоритмов наименьших колец.</li>\n",
    "\n",
    "<li>        **_Kekulize_**: превращает ароматические кольца в их форму Кекуле. Возбуждает исключение, если кольцо не может быть подвергнуто преобразованию в форму Кекуле или если ароматические связи найдены вне колец.</li>\n",
    "\n",
    "<li>        **_assignRadicals_**: определяет количество радикальных электронов (если они есть) на каждом атоме.</li>\n",
    "\n",
    "<li>        **_setAromaticity_**: идентифицирует ароматические кольца и кольцевые системы, устанавливает ароматический флаг на атомах и связях, преобразует порядок связей в ароматический.</li>\n",
    "<li>\n",
    "        **_setConjugation_**: идентифицирует, какие связи конъюгированы</li>\n",
    "\n",
    "<li>        **_setHybridization_**: вычисляет состояние гибридизации каждого атома</li>\n",
    "\n",
    "<li>        **_cleanupChirality_**: удаляет хиральные метки из атомов, которые не находятся в состоянии sp3 гибридизации.</li>\n",
    "\n",
    "<li>        **_adjustHs_**: добавляет явные атомы водорода, где необходимо, например, для гетероатомов в ароматических кольцах. Классическим примером является атом азота в пирроле.</li></ol>\n",
    "\n",
    "Отдельные шаги можно включать или отключать при вызове **_MolOps :: sanitizeMol_** или **_Chem.SanitizeMol_**."
   ]
  },
  {
   "cell_type": "markdown",
   "metadata": {},
   "source": [
    "## <a name=\"similarity\">Расчет и сравнение метрик сходства</a>"
   ]
  },
  {
   "cell_type": "markdown",
   "metadata": {
    "collapsed": true
   },
   "source": [
    "#### Расчет молекулярных отпечатков"
   ]
  },
  {
   "cell_type": "markdown",
   "metadata": {},
   "source": [
    "##### Топологические молекулярные отпечатки"
   ]
  },
  {
   "cell_type": "markdown",
   "metadata": {},
   "source": [
    "Топологические молекулярные отпечатки представляют собой топологические пути между парами атомов, находящимися на определенном расстоянии друг от друга (по умолчанию: min 1, max 7).\n"
   ]
  },
  {
   "cell_type": "code",
   "execution_count": 22,
   "metadata": {},
   "outputs": [],
   "source": [
    "mol1 = molecules[0]\n",
    "mol2 = molecules[1]"
   ]
  },
  {
   "cell_type": "code",
   "execution_count": 23,
   "metadata": {},
   "outputs": [],
   "source": [
    "fp1 = FingerprintMols.FingerprintMol(mol1)\n",
    "fp2 = FingerprintMols.FingerprintMol(mol2)"
   ]
  },
  {
   "cell_type": "code",
   "execution_count": 24,
   "metadata": {},
   "outputs": [
    {
     "data": {
      "text/plain": [
       "<rdkit.DataStructs.cDataStructs.ExplicitBitVect at 0x17b92cd2180>"
      ]
     },
     "execution_count": 24,
     "metadata": {},
     "output_type": "execute_result"
    }
   ],
   "source": [
    "fp1"
   ]
  },
  {
   "cell_type": "code",
   "execution_count": 25,
   "metadata": {},
   "outputs": [
    {
     "data": {
      "text/plain": [
       "0.3826530612244898"
      ]
     },
     "execution_count": 25,
     "metadata": {},
     "output_type": "execute_result"
    }
   ],
   "source": [
    "DataStructs.FingerprintSimilarity(fp1, fp2)"
   ]
  },
  {
   "cell_type": "code",
   "execution_count": 26,
   "metadata": {},
   "outputs": [
    {
     "data": {
      "text/plain": [
       "0.5535055350553506"
      ]
     },
     "execution_count": 26,
     "metadata": {},
     "output_type": "execute_result"
    }
   ],
   "source": [
    "DataStructs.FingerprintSimilarity(fp1,fp2, metric=DataStructs.DiceSimilarity)"
   ]
  },
  {
   "cell_type": "markdown",
   "metadata": {},
   "source": [
    "По умолчанию для рассчета используется индекс Танимото, однако имеется возможность использовать и некоторые другие индексы, перечисленные ниже:\n",
    "<ul><li>Индекс Танимото -  TanimotoSimilarity (именно индекс,а не метрика, т.е. отражает сходство (близость))</li>\n",
    "<li>Индекс Дайса - DiceSimilarity</li>\n",
    "<li>Индекс косинуса - CosineSimilarity</li>\n",
    "<li>\"Sokal\" - SokalSimilarity</li>\n",
    "<li>\"Russel\" - RusselSimilarity</li>\n",
    "<li>\"RogotGoldberg\" - RogotGoldbergSimilarity</li>\n",
    "<li>\"AllBit\" - AllBitSimilarity</li>\n",
    "<li>\"Kulczynski\" - KulczynskiSimilarity</li>\n",
    "<li>\"McConnaughey\" - McConnaugheySimilarity</li>\n",
    "<li>\"Asymmetric\" - AsymmetricSimilarity</li>\n",
    "<li>\"BraunBlanquet\" - BraunBlanquetSimilarity</li>\n",
    "</ul>"
   ]
  },
  {
   "cell_type": "markdown",
   "metadata": {
    "collapsed": true
   },
   "source": [
    "##### MACCS keys"
   ]
  },
  {
   "cell_type": "markdown",
   "metadata": {},
   "source": [
    "MACCS keys представляют собой SMARTS паттерны различных функциональных групп и общих фрагментов."
   ]
  },
  {
   "cell_type": "code",
   "execution_count": 27,
   "metadata": {},
   "outputs": [],
   "source": [
    "mol1 = Chem.MolFromSmiles(\"ClC1=CC=CC=C1\")\n",
    "mol2 = Chem.MolFromSmiles(\"BrC1=CC=CC=C1\")\n",
    "fp1 = MACCSkeys.GenMACCSKeys(mol1)\n",
    "fp2 = MACCSkeys.GenMACCSKeys(mol2)"
   ]
  },
  {
   "cell_type": "code",
   "execution_count": 28,
   "metadata": {},
   "outputs": [
    {
     "data": {
      "text/plain": [
       "<rdkit.DataStructs.cDataStructs.ExplicitBitVect at 0x17b92cd2730>"
      ]
     },
     "execution_count": 28,
     "metadata": {},
     "output_type": "execute_result"
    }
   ],
   "source": [
    "fp1"
   ]
  },
  {
   "cell_type": "code",
   "execution_count": 29,
   "metadata": {},
   "outputs": [
    {
     "data": {
      "text/plain": [
       "0.75"
      ]
     },
     "execution_count": 29,
     "metadata": {},
     "output_type": "execute_result"
    }
   ],
   "source": [
    "DataStructs.FingerprintSimilarity(fp1, fp2)"
   ]
  },
  {
   "cell_type": "markdown",
   "metadata": {},
   "source": [
    "#### Morgan fingerprints (Circular Fingerprints)"
   ]
  },
  {
   "cell_type": "markdown",
   "metadata": {},
   "source": [
    "Это семейство молекулярных отпечатков, более известных как круговые молекулярные отпечатки, построено путем применения алгоритма Моргана к набору пользовательских инвариантов атомов. При создании молекулярных отпечатков Моргана необходимо также указать радиус молекулярного отпечатка:"
   ]
  },
  {
   "cell_type": "code",
   "execution_count": 30,
   "metadata": {},
   "outputs": [
    {
     "name": "stderr",
     "output_type": "stream",
     "text": [
      "[17:45:53] DEPRECATION WARNING: please use MorganGenerator\n",
      "[17:45:53] DEPRECATION WARNING: please use MorganGenerator\n"
     ]
    }
   ],
   "source": [
    "fp1 = AllChem.GetMorganFingerprint(mol1, 1)\n",
    "fp2 = AllChem.GetMorganFingerprint(mol2, 1)"
   ]
  },
  {
   "cell_type": "markdown",
   "metadata": {},
   "source": [
    "Молекулярные отпечатки Моргана представляют собой счетчики (counts), таким образом, в качестве метрики должен использоваться индекс Дайса:"
   ]
  },
  {
   "cell_type": "code",
   "execution_count": 31,
   "metadata": {},
   "outputs": [
    {
     "data": {
      "text/plain": [
       "0.7857142857142857"
      ]
     },
     "execution_count": 31,
     "metadata": {},
     "output_type": "execute_result"
    }
   ],
   "source": [
    "DataStructs.DiceSimilarity(fp1, fp2)"
   ]
  },
  {
   "cell_type": "markdown",
   "metadata": {},
   "source": [
    "Однако молекулярные отпечатки Моргана можно рассчитать и в виде битовых векторов:"
   ]
  },
  {
   "cell_type": "code",
   "execution_count": 32,
   "metadata": {},
   "outputs": [
    {
     "name": "stderr",
     "output_type": "stream",
     "text": [
      "[17:45:53] DEPRECATION WARNING: please use MorganGenerator\n",
      "[17:45:53] DEPRECATION WARNING: please use MorganGenerator\n"
     ]
    }
   ],
   "source": [
    "fp1 = AllChem.GetMorganFingerprintAsBitVect(mol1, 2)\n",
    "fp2 = AllChem.GetMorganFingerprintAsBitVect(mol2, 2)"
   ]
  },
  {
   "cell_type": "code",
   "execution_count": 33,
   "metadata": {},
   "outputs": [
    {
     "data": {
      "text/plain": [
       "0.5454545454545454"
      ]
     },
     "execution_count": 33,
     "metadata": {},
     "output_type": "execute_result"
    }
   ],
   "source": [
    "DataStructs.DiceSimilarity(fp1,fp2)"
   ]
  },
  {
   "cell_type": "code",
   "execution_count": 34,
   "metadata": {},
   "outputs": [
    {
     "data": {
      "text/plain": [
       "0.375"
      ]
     },
     "execution_count": 34,
     "metadata": {},
     "output_type": "execute_result"
    }
   ],
   "source": [
    "DataStructs.FingerprintSimilarity(fp1, fp2)"
   ]
  },
  {
   "cell_type": "markdown",
   "metadata": {},
   "source": [
    "В случае, если дескрипторы планируется использовать для вычисления, к примеру, индексов сходства с помощью других библиотек, необходимо превратить объекты RDkit в обычные numpy array:"
   ]
  },
  {
   "cell_type": "markdown",
   "metadata": {},
   "source": [
    "Превратим битовые вектора молекулярных отпечатков Моргана в numpy array:"
   ]
  },
  {
   "cell_type": "code",
   "execution_count": 35,
   "metadata": {},
   "outputs": [
    {
     "name": "stderr",
     "output_type": "stream",
     "text": [
      "[17:45:53] DEPRECATION WARNING: please use MorganGenerator\n",
      "[17:45:53] DEPRECATION WARNING: please use MorganGenerator\n",
      "[17:45:53] DEPRECATION WARNING: please use MorganGenerator\n",
      "[17:45:53] DEPRECATION WARNING: please use MorganGenerator\n",
      "[17:45:53] DEPRECATION WARNING: please use MorganGenerator\n"
     ]
    }
   ],
   "source": [
    "fps_bit = [AllChem.GetMorganFingerprintAsBitVect(x, 2) for x in molecules[:5]]\n",
    "np_fps = []\n",
    "for fp in fps_bit:\n",
    "    arr = np.zeros((1,), dtype=np.int8)\n",
    "    DataStructs.ConvertToNumpyArray(fp, arr)\n",
    "    np_fps.append(arr)\n",
    "np_fps = np.array(np_fps)"
   ]
  },
  {
   "cell_type": "code",
   "execution_count": 36,
   "metadata": {},
   "outputs": [
    {
     "data": {
      "text/plain": [
       "array([[0, 0, 0, ..., 0, 0, 0],\n",
       "       [0, 0, 0, ..., 0, 0, 0],\n",
       "       [0, 1, 0, ..., 0, 0, 0],\n",
       "       [0, 0, 0, ..., 0, 0, 0],\n",
       "       [0, 0, 0, ..., 0, 0, 0]], dtype=int8)"
      ]
     },
     "execution_count": 36,
     "metadata": {},
     "output_type": "execute_result"
    }
   ],
   "source": [
    "np_fps"
   ]
  },
  {
   "cell_type": "markdown",
   "metadata": {},
   "source": [
    "Для случаев, когда молекулярные отпечатки Моргана представляют собой счетчики (counts):"
   ]
  },
  {
   "cell_type": "code",
   "execution_count": 37,
   "metadata": {},
   "outputs": [
    {
     "name": "stderr",
     "output_type": "stream",
     "text": [
      "[17:45:53] DEPRECATION WARNING: please use MorganGenerator\n",
      "[17:45:53] DEPRECATION WARNING: please use MorganGenerator\n",
      "[17:45:53] DEPRECATION WARNING: please use MorganGenerator\n",
      "[17:45:53] DEPRECATION WARNING: please use MorganGenerator\n",
      "[17:45:53] DEPRECATION WARNING: please use MorganGenerator\n"
     ]
    }
   ],
   "source": [
    "fps = [AllChem.GetHashedMorganFingerprint(x, 2, nBits=1024) for x in molecules[:5]]\n",
    "np_fps_count = []\n",
    "for fp in fps:\n",
    "    arr = np.zeros((1,), dtype=np.int8)\n",
    "    DataStructs.ConvertToNumpyArray(fp, arr)\n",
    "    np_fps_count.append(arr)\n",
    "np_fps_count = np.array(np_fps_count)"
   ]
  },
  {
   "cell_type": "code",
   "execution_count": 38,
   "metadata": {},
   "outputs": [
    {
     "data": {
      "text/plain": [
       "array([[0, 0, 0, ..., 0, 0, 0],\n",
       "       [0, 0, 0, ..., 0, 0, 0],\n",
       "       [0, 1, 0, ..., 0, 0, 0],\n",
       "       [0, 0, 0, ..., 0, 0, 0],\n",
       "       [0, 0, 0, ..., 0, 0, 0]], dtype=int8)"
      ]
     },
     "execution_count": 38,
     "metadata": {},
     "output_type": "execute_result"
    }
   ],
   "source": [
    "np_fps_count"
   ]
  },
  {
   "cell_type": "markdown",
   "metadata": {},
   "source": [
    "### Использование метрик сходства и различия"
   ]
  },
  {
   "cell_type": "code",
   "execution_count": 39,
   "metadata": {},
   "outputs": [
    {
     "name": "stdout",
     "output_type": "stream",
     "text": [
      "          mol1      mol2      mol3      mol4      mol5\n",
      "mol1  1.000000  0.206349  0.086957  0.202899  0.460000\n",
      "mol2  0.206349  1.000000  0.115385  0.229730  0.140845\n",
      "mol3  0.086957  0.115385  1.000000  0.083333  0.018519\n",
      "mol4  0.202899  0.229730  0.083333  1.000000  0.157895\n",
      "mol5  0.460000  0.140845  0.018519  0.157895  1.000000\n"
     ]
    }
   ],
   "source": [
    "tanimoto_dict = defaultdict(list)  # создадим словарь списков индексов сходства молекул\n",
    "index_list = [f'mol{k}' for k in range(1,6,1)]\n",
    "i = 1\n",
    "k = 1\n",
    "for mol1, mol2 in product(fps_bit, fps_bit):\n",
    "    tanimoto_dict[f'mol{k}'].append(DataStructs.FingerprintSimilarity(mol1, mol2))\n",
    "    if i % 5 == 0:\n",
    "        k += 1\n",
    "    i += 1\n",
    "a = pd.DataFrame.from_dict(tanimoto_dict, orient='index', columns=index_list)\n",
    "print(a)  # получили DataFrame индексов Танимото, вычисленных для всех пар молекул"
   ]
  },
  {
   "cell_type": "markdown",
   "metadata": {},
   "source": [
    "Визуализируем полученные результаты, построив heatmap.  \n",
    "Самый простой способ построить heatmap - использовать библиотеку seaborn [http://seaborn.pydata.org/generated/seaborn.heatmap.html, https://habr.com/ru/company/ods/blog/323210/, https://python-scripts.com/matplotlib ]."
   ]
  },
  {
   "cell_type": "code",
   "execution_count": 40,
   "metadata": {},
   "outputs": [
    {
     "data": {
      "image/svg+xml": [
       "<?xml version=\"1.0\" encoding=\"utf-8\" standalone=\"no\"?>\n",
       "<!DOCTYPE svg PUBLIC \"-//W3C//DTD SVG 1.1//EN\"\n",
       "  \"http://www.w3.org/Graphics/SVG/1.1/DTD/svg11.dtd\">\n",
       "<svg xmlns:xlink=\"http://www.w3.org/1999/xlink\" width=\"386.160725pt\" height=\"316.311219pt\" viewBox=\"0 0 386.160725 316.311219\" xmlns=\"http://www.w3.org/2000/svg\" version=\"1.1\">\n",
       " <metadata>\n",
       "  <rdf:RDF xmlns:dc=\"http://purl.org/dc/elements/1.1/\" xmlns:cc=\"http://creativecommons.org/ns#\" xmlns:rdf=\"http://www.w3.org/1999/02/22-rdf-syntax-ns#\">\n",
       "   <cc:Work>\n",
       "    <dc:type rdf:resource=\"http://purl.org/dc/dcmitype/StillImage\"/>\n",
       "    <dc:date>2025-01-05T17:45:54.237595</dc:date>\n",
       "    <dc:format>image/svg+xml</dc:format>\n",
       "    <dc:creator>\n",
       "     <cc:Agent>\n",
       "      <dc:title>Matplotlib v3.9.0, https://matplotlib.org/</dc:title>\n",
       "     </cc:Agent>\n",
       "    </dc:creator>\n",
       "   </cc:Work>\n",
       "  </rdf:RDF>\n",
       " </metadata>\n",
       " <defs>\n",
       "  <style type=\"text/css\">*{stroke-linejoin: round; stroke-linecap: butt}</style>\n",
       " </defs>\n",
       " <g id=\"figure_1\">\n",
       "  <g id=\"patch_1\">\n",
       "   <path d=\"M 0 316.311219 \n",
       "L 386.160725 316.311219 \n",
       "L 386.160725 0 \n",
       "L 0 0 \n",
       "z\n",
       "\" style=\"fill: #ffffff\"/>\n",
       "  </g>\n",
       "  <g id=\"axes_1\">\n",
       "   <g id=\"patch_2\">\n",
       "    <path d=\"M 39.2 277.111219 \n",
       "L 324.896 277.111219 \n",
       "L 324.896 10.999219 \n",
       "L 39.2 10.999219 \n",
       "z\n",
       "\" style=\"fill: #ffffff\"/>\n",
       "   </g>\n",
       "   <g id=\"QuadMesh_1\">\n",
       "    <path d=\"M 39.2 10.999219 \n",
       "L 96.3392 10.999219 \n",
       "L 96.3392 64.221619 \n",
       "L 39.2 64.221619 \n",
       "L 39.2 10.999219 \n",
       "\" clip-path=\"url(#pa0d802a0f9)\" style=\"fill: #081d58\"/>\n",
       "    <path d=\"M 96.3392 10.999219 \n",
       "L 153.4784 10.999219 \n",
       "L 153.4784 64.221619 \n",
       "L 96.3392 64.221619 \n",
       "L 96.3392 10.999219 \n",
       "\" clip-path=\"url(#pa0d802a0f9)\" style=\"fill: #daf0b3\"/>\n",
       "    <path d=\"M 153.4784 10.999219 \n",
       "L 210.6176 10.999219 \n",
       "L 210.6176 64.221619 \n",
       "L 153.4784 64.221619 \n",
       "L 153.4784 10.999219 \n",
       "\" clip-path=\"url(#pa0d802a0f9)\" style=\"fill: #f5fbc4\"/>\n",
       "    <path d=\"M 210.6176 10.999219 \n",
       "L 267.7568 10.999219 \n",
       "L 267.7568 64.221619 \n",
       "L 210.6176 64.221619 \n",
       "L 210.6176 10.999219 \n",
       "\" clip-path=\"url(#pa0d802a0f9)\" style=\"fill: #daf0b3\"/>\n",
       "    <path d=\"M 267.7568 10.999219 \n",
       "L 324.896 10.999219 \n",
       "L 324.896 64.221619 \n",
       "L 267.7568 64.221619 \n",
       "L 267.7568 10.999219 \n",
       "\" clip-path=\"url(#pa0d802a0f9)\" style=\"fill: #59bfc0\"/>\n",
       "    <path d=\"M 39.2 64.221619 \n",
       "L 96.3392 64.221619 \n",
       "L 96.3392 117.444019 \n",
       "L 39.2 117.444019 \n",
       "L 39.2 64.221619 \n",
       "\" clip-path=\"url(#pa0d802a0f9)\" style=\"fill: #daf0b3\"/>\n",
       "    <path d=\"M 96.3392 64.221619 \n",
       "L 153.4784 64.221619 \n",
       "L 153.4784 117.444019 \n",
       "L 96.3392 117.444019 \n",
       "L 96.3392 64.221619 \n",
       "\" clip-path=\"url(#pa0d802a0f9)\" style=\"fill: #081d58\"/>\n",
       "    <path d=\"M 153.4784 64.221619 \n",
       "L 210.6176 64.221619 \n",
       "L 210.6176 117.444019 \n",
       "L 153.4784 117.444019 \n",
       "L 153.4784 64.221619 \n",
       "\" clip-path=\"url(#pa0d802a0f9)\" style=\"fill: #f1faba\"/>\n",
       "    <path d=\"M 210.6176 64.221619 \n",
       "L 267.7568 64.221619 \n",
       "L 267.7568 117.444019 \n",
       "L 210.6176 117.444019 \n",
       "L 210.6176 64.221619 \n",
       "\" clip-path=\"url(#pa0d802a0f9)\" style=\"fill: #d1edb3\"/>\n",
       "    <path d=\"M 267.7568 64.221619 \n",
       "L 324.896 64.221619 \n",
       "L 324.896 117.444019 \n",
       "L 267.7568 117.444019 \n",
       "L 267.7568 64.221619 \n",
       "\" clip-path=\"url(#pa0d802a0f9)\" style=\"fill: #edf8b2\"/>\n",
       "    <path d=\"M 39.2 117.444019 \n",
       "L 96.3392 117.444019 \n",
       "L 96.3392 170.666419 \n",
       "L 39.2 170.666419 \n",
       "L 39.2 117.444019 \n",
       "\" clip-path=\"url(#pa0d802a0f9)\" style=\"fill: #f5fbc4\"/>\n",
       "    <path d=\"M 96.3392 117.444019 \n",
       "L 153.4784 117.444019 \n",
       "L 153.4784 170.666419 \n",
       "L 96.3392 170.666419 \n",
       "L 96.3392 117.444019 \n",
       "\" clip-path=\"url(#pa0d802a0f9)\" style=\"fill: #f1faba\"/>\n",
       "    <path d=\"M 153.4784 117.444019 \n",
       "L 210.6176 117.444019 \n",
       "L 210.6176 170.666419 \n",
       "L 153.4784 170.666419 \n",
       "L 153.4784 117.444019 \n",
       "\" clip-path=\"url(#pa0d802a0f9)\" style=\"fill: #081d58\"/>\n",
       "    <path d=\"M 210.6176 117.444019 \n",
       "L 267.7568 117.444019 \n",
       "L 267.7568 170.666419 \n",
       "L 210.6176 170.666419 \n",
       "L 210.6176 117.444019 \n",
       "\" clip-path=\"url(#pa0d802a0f9)\" style=\"fill: #f6fbc5\"/>\n",
       "    <path d=\"M 267.7568 117.444019 \n",
       "L 324.896 117.444019 \n",
       "L 324.896 170.666419 \n",
       "L 267.7568 170.666419 \n",
       "L 267.7568 117.444019 \n",
       "\" clip-path=\"url(#pa0d802a0f9)\" style=\"fill: #ffffd9\"/>\n",
       "    <path d=\"M 39.2 170.666419 \n",
       "L 96.3392 170.666419 \n",
       "L 96.3392 223.888819 \n",
       "L 39.2 223.888819 \n",
       "L 39.2 170.666419 \n",
       "\" clip-path=\"url(#pa0d802a0f9)\" style=\"fill: #daf0b3\"/>\n",
       "    <path d=\"M 96.3392 170.666419 \n",
       "L 153.4784 170.666419 \n",
       "L 153.4784 223.888819 \n",
       "L 96.3392 223.888819 \n",
       "L 96.3392 170.666419 \n",
       "\" clip-path=\"url(#pa0d802a0f9)\" style=\"fill: #d1edb3\"/>\n",
       "    <path d=\"M 153.4784 170.666419 \n",
       "L 210.6176 170.666419 \n",
       "L 210.6176 223.888819 \n",
       "L 153.4784 223.888819 \n",
       "L 153.4784 170.666419 \n",
       "\" clip-path=\"url(#pa0d802a0f9)\" style=\"fill: #f6fbc5\"/>\n",
       "    <path d=\"M 210.6176 170.666419 \n",
       "L 267.7568 170.666419 \n",
       "L 267.7568 223.888819 \n",
       "L 210.6176 223.888819 \n",
       "L 210.6176 170.666419 \n",
       "\" clip-path=\"url(#pa0d802a0f9)\" style=\"fill: #081d58\"/>\n",
       "    <path d=\"M 267.7568 170.666419 \n",
       "L 324.896 170.666419 \n",
       "L 324.896 223.888819 \n",
       "L 267.7568 223.888819 \n",
       "L 267.7568 170.666419 \n",
       "\" clip-path=\"url(#pa0d802a0f9)\" style=\"fill: #e8f6b1\"/>\n",
       "    <path d=\"M 39.2 223.888819 \n",
       "L 96.3392 223.888819 \n",
       "L 96.3392 277.111219 \n",
       "L 39.2 277.111219 \n",
       "L 39.2 223.888819 \n",
       "\" clip-path=\"url(#pa0d802a0f9)\" style=\"fill: #59bfc0\"/>\n",
       "    <path d=\"M 96.3392 223.888819 \n",
       "L 153.4784 223.888819 \n",
       "L 153.4784 277.111219 \n",
       "L 96.3392 277.111219 \n",
       "L 96.3392 223.888819 \n",
       "\" clip-path=\"url(#pa0d802a0f9)\" style=\"fill: #edf8b2\"/>\n",
       "    <path d=\"M 153.4784 223.888819 \n",
       "L 210.6176 223.888819 \n",
       "L 210.6176 277.111219 \n",
       "L 153.4784 277.111219 \n",
       "L 153.4784 223.888819 \n",
       "\" clip-path=\"url(#pa0d802a0f9)\" style=\"fill: #ffffd9\"/>\n",
       "    <path d=\"M 210.6176 223.888819 \n",
       "L 267.7568 223.888819 \n",
       "L 267.7568 277.111219 \n",
       "L 210.6176 277.111219 \n",
       "L 210.6176 223.888819 \n",
       "\" clip-path=\"url(#pa0d802a0f9)\" style=\"fill: #e8f6b1\"/>\n",
       "    <path d=\"M 267.7568 223.888819 \n",
       "L 324.896 223.888819 \n",
       "L 324.896 277.111219 \n",
       "L 267.7568 277.111219 \n",
       "L 267.7568 223.888819 \n",
       "\" clip-path=\"url(#pa0d802a0f9)\" style=\"fill: #081d58\"/>\n",
       "   </g>\n",
       "   <g id=\"matplotlib.axis_1\">\n",
       "    <g id=\"xtick_1\">\n",
       "     <g id=\"line2d_1\">\n",
       "      <defs>\n",
       "       <path id=\"m88f5c18646\" d=\"M 0 0 \n",
       "L 0 3.5 \n",
       "\" style=\"stroke: #000000; stroke-width: 0.8\"/>\n",
       "      </defs>\n",
       "      <g>\n",
       "       <use xlink:href=\"#m88f5c18646\" x=\"67.7696\" y=\"277.111219\" style=\"stroke: #000000; stroke-width: 0.8\"/>\n",
       "      </g>\n",
       "     </g>\n",
       "     <g id=\"text_1\">\n",
       "      <!-- mol1 -->\n",
       "      <g transform=\"translate(70.528975 309.111219) rotate(-90) scale(0.1 -0.1)\">\n",
       "       <defs>\n",
       "        <path id=\"DejaVuSans-6d\" d=\"M 3328 2828 \n",
       "Q 3544 3216 3844 3400 \n",
       "Q 4144 3584 4550 3584 \n",
       "Q 5097 3584 5394 3201 \n",
       "Q 5691 2819 5691 2113 \n",
       "L 5691 0 \n",
       "L 5113 0 \n",
       "L 5113 2094 \n",
       "Q 5113 2597 4934 2840 \n",
       "Q 4756 3084 4391 3084 \n",
       "Q 3944 3084 3684 2787 \n",
       "Q 3425 2491 3425 1978 \n",
       "L 3425 0 \n",
       "L 2847 0 \n",
       "L 2847 2094 \n",
       "Q 2847 2600 2669 2842 \n",
       "Q 2491 3084 2119 3084 \n",
       "Q 1678 3084 1418 2786 \n",
       "Q 1159 2488 1159 1978 \n",
       "L 1159 0 \n",
       "L 581 0 \n",
       "L 581 3500 \n",
       "L 1159 3500 \n",
       "L 1159 2956 \n",
       "Q 1356 3278 1631 3431 \n",
       "Q 1906 3584 2284 3584 \n",
       "Q 2666 3584 2933 3390 \n",
       "Q 3200 3197 3328 2828 \n",
       "z\n",
       "\" transform=\"scale(0.015625)\"/>\n",
       "        <path id=\"DejaVuSans-6f\" d=\"M 1959 3097 \n",
       "Q 1497 3097 1228 2736 \n",
       "Q 959 2375 959 1747 \n",
       "Q 959 1119 1226 758 \n",
       "Q 1494 397 1959 397 \n",
       "Q 2419 397 2687 759 \n",
       "Q 2956 1122 2956 1747 \n",
       "Q 2956 2369 2687 2733 \n",
       "Q 2419 3097 1959 3097 \n",
       "z\n",
       "M 1959 3584 \n",
       "Q 2709 3584 3137 3096 \n",
       "Q 3566 2609 3566 1747 \n",
       "Q 3566 888 3137 398 \n",
       "Q 2709 -91 1959 -91 \n",
       "Q 1206 -91 779 398 \n",
       "Q 353 888 353 1747 \n",
       "Q 353 2609 779 3096 \n",
       "Q 1206 3584 1959 3584 \n",
       "z\n",
       "\" transform=\"scale(0.015625)\"/>\n",
       "        <path id=\"DejaVuSans-6c\" d=\"M 603 4863 \n",
       "L 1178 4863 \n",
       "L 1178 0 \n",
       "L 603 0 \n",
       "L 603 4863 \n",
       "z\n",
       "\" transform=\"scale(0.015625)\"/>\n",
       "        <path id=\"DejaVuSans-31\" d=\"M 794 531 \n",
       "L 1825 531 \n",
       "L 1825 4091 \n",
       "L 703 3866 \n",
       "L 703 4441 \n",
       "L 1819 4666 \n",
       "L 2450 4666 \n",
       "L 2450 531 \n",
       "L 3481 531 \n",
       "L 3481 0 \n",
       "L 794 0 \n",
       "L 794 531 \n",
       "z\n",
       "\" transform=\"scale(0.015625)\"/>\n",
       "       </defs>\n",
       "       <use xlink:href=\"#DejaVuSans-6d\"/>\n",
       "       <use xlink:href=\"#DejaVuSans-6f\" x=\"97.412109\"/>\n",
       "       <use xlink:href=\"#DejaVuSans-6c\" x=\"158.59375\"/>\n",
       "       <use xlink:href=\"#DejaVuSans-31\" x=\"186.376953\"/>\n",
       "      </g>\n",
       "     </g>\n",
       "    </g>\n",
       "    <g id=\"xtick_2\">\n",
       "     <g id=\"line2d_2\">\n",
       "      <g>\n",
       "       <use xlink:href=\"#m88f5c18646\" x=\"124.9088\" y=\"277.111219\" style=\"stroke: #000000; stroke-width: 0.8\"/>\n",
       "      </g>\n",
       "     </g>\n",
       "     <g id=\"text_2\">\n",
       "      <!-- mol2 -->\n",
       "      <g transform=\"translate(127.668175 309.111219) rotate(-90) scale(0.1 -0.1)\">\n",
       "       <defs>\n",
       "        <path id=\"DejaVuSans-32\" d=\"M 1228 531 \n",
       "L 3431 531 \n",
       "L 3431 0 \n",
       "L 469 0 \n",
       "L 469 531 \n",
       "Q 828 903 1448 1529 \n",
       "Q 2069 2156 2228 2338 \n",
       "Q 2531 2678 2651 2914 \n",
       "Q 2772 3150 2772 3378 \n",
       "Q 2772 3750 2511 3984 \n",
       "Q 2250 4219 1831 4219 \n",
       "Q 1534 4219 1204 4116 \n",
       "Q 875 4013 500 3803 \n",
       "L 500 4441 \n",
       "Q 881 4594 1212 4672 \n",
       "Q 1544 4750 1819 4750 \n",
       "Q 2544 4750 2975 4387 \n",
       "Q 3406 4025 3406 3419 \n",
       "Q 3406 3131 3298 2873 \n",
       "Q 3191 2616 2906 2266 \n",
       "Q 2828 2175 2409 1742 \n",
       "Q 1991 1309 1228 531 \n",
       "z\n",
       "\" transform=\"scale(0.015625)\"/>\n",
       "       </defs>\n",
       "       <use xlink:href=\"#DejaVuSans-6d\"/>\n",
       "       <use xlink:href=\"#DejaVuSans-6f\" x=\"97.412109\"/>\n",
       "       <use xlink:href=\"#DejaVuSans-6c\" x=\"158.59375\"/>\n",
       "       <use xlink:href=\"#DejaVuSans-32\" x=\"186.376953\"/>\n",
       "      </g>\n",
       "     </g>\n",
       "    </g>\n",
       "    <g id=\"xtick_3\">\n",
       "     <g id=\"line2d_3\">\n",
       "      <g>\n",
       "       <use xlink:href=\"#m88f5c18646\" x=\"182.048\" y=\"277.111219\" style=\"stroke: #000000; stroke-width: 0.8\"/>\n",
       "      </g>\n",
       "     </g>\n",
       "     <g id=\"text_3\">\n",
       "      <!-- mol3 -->\n",
       "      <g transform=\"translate(184.807375 309.111219) rotate(-90) scale(0.1 -0.1)\">\n",
       "       <defs>\n",
       "        <path id=\"DejaVuSans-33\" d=\"M 2597 2516 \n",
       "Q 3050 2419 3304 2112 \n",
       "Q 3559 1806 3559 1356 \n",
       "Q 3559 666 3084 287 \n",
       "Q 2609 -91 1734 -91 \n",
       "Q 1441 -91 1130 -33 \n",
       "Q 819 25 488 141 \n",
       "L 488 750 \n",
       "Q 750 597 1062 519 \n",
       "Q 1375 441 1716 441 \n",
       "Q 2309 441 2620 675 \n",
       "Q 2931 909 2931 1356 \n",
       "Q 2931 1769 2642 2001 \n",
       "Q 2353 2234 1838 2234 \n",
       "L 1294 2234 \n",
       "L 1294 2753 \n",
       "L 1863 2753 \n",
       "Q 2328 2753 2575 2939 \n",
       "Q 2822 3125 2822 3475 \n",
       "Q 2822 3834 2567 4026 \n",
       "Q 2313 4219 1838 4219 \n",
       "Q 1578 4219 1281 4162 \n",
       "Q 984 4106 628 3988 \n",
       "L 628 4550 \n",
       "Q 988 4650 1302 4700 \n",
       "Q 1616 4750 1894 4750 \n",
       "Q 2613 4750 3031 4423 \n",
       "Q 3450 4097 3450 3541 \n",
       "Q 3450 3153 3228 2886 \n",
       "Q 3006 2619 2597 2516 \n",
       "z\n",
       "\" transform=\"scale(0.015625)\"/>\n",
       "       </defs>\n",
       "       <use xlink:href=\"#DejaVuSans-6d\"/>\n",
       "       <use xlink:href=\"#DejaVuSans-6f\" x=\"97.412109\"/>\n",
       "       <use xlink:href=\"#DejaVuSans-6c\" x=\"158.59375\"/>\n",
       "       <use xlink:href=\"#DejaVuSans-33\" x=\"186.376953\"/>\n",
       "      </g>\n",
       "     </g>\n",
       "    </g>\n",
       "    <g id=\"xtick_4\">\n",
       "     <g id=\"line2d_4\">\n",
       "      <g>\n",
       "       <use xlink:href=\"#m88f5c18646\" x=\"239.1872\" y=\"277.111219\" style=\"stroke: #000000; stroke-width: 0.8\"/>\n",
       "      </g>\n",
       "     </g>\n",
       "     <g id=\"text_4\">\n",
       "      <!-- mol4 -->\n",
       "      <g transform=\"translate(241.946575 309.111219) rotate(-90) scale(0.1 -0.1)\">\n",
       "       <defs>\n",
       "        <path id=\"DejaVuSans-34\" d=\"M 2419 4116 \n",
       "L 825 1625 \n",
       "L 2419 1625 \n",
       "L 2419 4116 \n",
       "z\n",
       "M 2253 4666 \n",
       "L 3047 4666 \n",
       "L 3047 1625 \n",
       "L 3713 1625 \n",
       "L 3713 1100 \n",
       "L 3047 1100 \n",
       "L 3047 0 \n",
       "L 2419 0 \n",
       "L 2419 1100 \n",
       "L 313 1100 \n",
       "L 313 1709 \n",
       "L 2253 4666 \n",
       "z\n",
       "\" transform=\"scale(0.015625)\"/>\n",
       "       </defs>\n",
       "       <use xlink:href=\"#DejaVuSans-6d\"/>\n",
       "       <use xlink:href=\"#DejaVuSans-6f\" x=\"97.412109\"/>\n",
       "       <use xlink:href=\"#DejaVuSans-6c\" x=\"158.59375\"/>\n",
       "       <use xlink:href=\"#DejaVuSans-34\" x=\"186.376953\"/>\n",
       "      </g>\n",
       "     </g>\n",
       "    </g>\n",
       "    <g id=\"xtick_5\">\n",
       "     <g id=\"line2d_5\">\n",
       "      <g>\n",
       "       <use xlink:href=\"#m88f5c18646\" x=\"296.3264\" y=\"277.111219\" style=\"stroke: #000000; stroke-width: 0.8\"/>\n",
       "      </g>\n",
       "     </g>\n",
       "     <g id=\"text_5\">\n",
       "      <!-- mol5 -->\n",
       "      <g transform=\"translate(299.085775 309.111219) rotate(-90) scale(0.1 -0.1)\">\n",
       "       <defs>\n",
       "        <path id=\"DejaVuSans-35\" d=\"M 691 4666 \n",
       "L 3169 4666 \n",
       "L 3169 4134 \n",
       "L 1269 4134 \n",
       "L 1269 2991 \n",
       "Q 1406 3038 1543 3061 \n",
       "Q 1681 3084 1819 3084 \n",
       "Q 2600 3084 3056 2656 \n",
       "Q 3513 2228 3513 1497 \n",
       "Q 3513 744 3044 326 \n",
       "Q 2575 -91 1722 -91 \n",
       "Q 1428 -91 1123 -41 \n",
       "Q 819 9 494 109 \n",
       "L 494 744 \n",
       "Q 775 591 1075 516 \n",
       "Q 1375 441 1709 441 \n",
       "Q 2250 441 2565 725 \n",
       "Q 2881 1009 2881 1497 \n",
       "Q 2881 1984 2565 2268 \n",
       "Q 2250 2553 1709 2553 \n",
       "Q 1456 2553 1204 2497 \n",
       "Q 953 2441 691 2322 \n",
       "L 691 4666 \n",
       "z\n",
       "\" transform=\"scale(0.015625)\"/>\n",
       "       </defs>\n",
       "       <use xlink:href=\"#DejaVuSans-6d\"/>\n",
       "       <use xlink:href=\"#DejaVuSans-6f\" x=\"97.412109\"/>\n",
       "       <use xlink:href=\"#DejaVuSans-6c\" x=\"158.59375\"/>\n",
       "       <use xlink:href=\"#DejaVuSans-35\" x=\"186.376953\"/>\n",
       "      </g>\n",
       "     </g>\n",
       "    </g>\n",
       "   </g>\n",
       "   <g id=\"matplotlib.axis_2\">\n",
       "    <g id=\"ytick_1\">\n",
       "     <g id=\"line2d_6\">\n",
       "      <defs>\n",
       "       <path id=\"m412901ab08\" d=\"M 0 0 \n",
       "L -3.5 0 \n",
       "\" style=\"stroke: #000000; stroke-width: 0.8\"/>\n",
       "      </defs>\n",
       "      <g>\n",
       "       <use xlink:href=\"#m412901ab08\" x=\"39.2\" y=\"37.610419\" style=\"stroke: #000000; stroke-width: 0.8\"/>\n",
       "      </g>\n",
       "     </g>\n",
       "     <g id=\"text_6\">\n",
       "      <!-- mol1 -->\n",
       "      <g transform=\"translate(7.2 40.369794) scale(0.1 -0.1)\">\n",
       "       <use xlink:href=\"#DejaVuSans-6d\"/>\n",
       "       <use xlink:href=\"#DejaVuSans-6f\" x=\"97.412109\"/>\n",
       "       <use xlink:href=\"#DejaVuSans-6c\" x=\"158.59375\"/>\n",
       "       <use xlink:href=\"#DejaVuSans-31\" x=\"186.376953\"/>\n",
       "      </g>\n",
       "     </g>\n",
       "    </g>\n",
       "    <g id=\"ytick_2\">\n",
       "     <g id=\"line2d_7\">\n",
       "      <g>\n",
       "       <use xlink:href=\"#m412901ab08\" x=\"39.2\" y=\"90.832819\" style=\"stroke: #000000; stroke-width: 0.8\"/>\n",
       "      </g>\n",
       "     </g>\n",
       "     <g id=\"text_7\">\n",
       "      <!-- mol2 -->\n",
       "      <g transform=\"translate(7.2 93.592194) scale(0.1 -0.1)\">\n",
       "       <use xlink:href=\"#DejaVuSans-6d\"/>\n",
       "       <use xlink:href=\"#DejaVuSans-6f\" x=\"97.412109\"/>\n",
       "       <use xlink:href=\"#DejaVuSans-6c\" x=\"158.59375\"/>\n",
       "       <use xlink:href=\"#DejaVuSans-32\" x=\"186.376953\"/>\n",
       "      </g>\n",
       "     </g>\n",
       "    </g>\n",
       "    <g id=\"ytick_3\">\n",
       "     <g id=\"line2d_8\">\n",
       "      <g>\n",
       "       <use xlink:href=\"#m412901ab08\" x=\"39.2\" y=\"144.055219\" style=\"stroke: #000000; stroke-width: 0.8\"/>\n",
       "      </g>\n",
       "     </g>\n",
       "     <g id=\"text_8\">\n",
       "      <!-- mol3 -->\n",
       "      <g transform=\"translate(7.2 146.814594) scale(0.1 -0.1)\">\n",
       "       <use xlink:href=\"#DejaVuSans-6d\"/>\n",
       "       <use xlink:href=\"#DejaVuSans-6f\" x=\"97.412109\"/>\n",
       "       <use xlink:href=\"#DejaVuSans-6c\" x=\"158.59375\"/>\n",
       "       <use xlink:href=\"#DejaVuSans-33\" x=\"186.376953\"/>\n",
       "      </g>\n",
       "     </g>\n",
       "    </g>\n",
       "    <g id=\"ytick_4\">\n",
       "     <g id=\"line2d_9\">\n",
       "      <g>\n",
       "       <use xlink:href=\"#m412901ab08\" x=\"39.2\" y=\"197.277619\" style=\"stroke: #000000; stroke-width: 0.8\"/>\n",
       "      </g>\n",
       "     </g>\n",
       "     <g id=\"text_9\">\n",
       "      <!-- mol4 -->\n",
       "      <g transform=\"translate(7.2 200.036994) scale(0.1 -0.1)\">\n",
       "       <use xlink:href=\"#DejaVuSans-6d\"/>\n",
       "       <use xlink:href=\"#DejaVuSans-6f\" x=\"97.412109\"/>\n",
       "       <use xlink:href=\"#DejaVuSans-6c\" x=\"158.59375\"/>\n",
       "       <use xlink:href=\"#DejaVuSans-34\" x=\"186.376953\"/>\n",
       "      </g>\n",
       "     </g>\n",
       "    </g>\n",
       "    <g id=\"ytick_5\">\n",
       "     <g id=\"line2d_10\">\n",
       "      <g>\n",
       "       <use xlink:href=\"#m412901ab08\" x=\"39.2\" y=\"250.500019\" style=\"stroke: #000000; stroke-width: 0.8\"/>\n",
       "      </g>\n",
       "     </g>\n",
       "     <g id=\"text_10\">\n",
       "      <!-- mol5 -->\n",
       "      <g transform=\"translate(7.2 253.259394) scale(0.1 -0.1)\">\n",
       "       <use xlink:href=\"#DejaVuSans-6d\"/>\n",
       "       <use xlink:href=\"#DejaVuSans-6f\" x=\"97.412109\"/>\n",
       "       <use xlink:href=\"#DejaVuSans-6c\" x=\"158.59375\"/>\n",
       "       <use xlink:href=\"#DejaVuSans-35\" x=\"186.376953\"/>\n",
       "      </g>\n",
       "     </g>\n",
       "    </g>\n",
       "   </g>\n",
       "  </g>\n",
       "  <g id=\"axes_2\">\n",
       "   <g id=\"patch_3\">\n",
       "    <path d=\"M 342.752 277.111219 \n",
       "L 356.0576 277.111219 \n",
       "L 356.0576 10.999219 \n",
       "L 342.752 10.999219 \n",
       "z\n",
       "\" style=\"fill: #ffffff\"/>\n",
       "   </g>\n",
       "   <image xlink:href=\"data:image/png;base64,\n",
       "iVBORw0KGgoAAAANSUhEUgAAABMAAAFyCAYAAAAXj+GHAAACBklEQVR4nO2dgQ3CQAwD8+j3349h2meGvE7iJOcHsHAcOynQdp3zPQWdDwVUVbVPYR+sdtWLgcE0D0qTAxs1+4dVE66ZtzU4Nc00U4w+arbBQsIxJM9Yo0eoSYKxNMk+2+dkhGOK0UE1YxyAYcE0OS2rNsjSXDOY5sLAxDTfFDU5sBCaaATRo44E47BwmlwEiWmSESSm6TW6t2YprZFCE8yzmU4XYNotCL3c8e60aJ692iuUh6XJgambFgxHUgC1AzgwMc1Ha/QUNUkwUk1zzTJaAx51EUZ/OCxza6AT3UszZdnLMLrWm+rWiPheg/0yTusAtmk5LDXNccBfwSbP+sfrADNNDmsccHHErTETvX3MNMcBF2AZDtDGNvvLawrNiP/Tgn+ONtOEJzoHpnYAB0Y3rdSb4pqNA/4Lpo5t600tWjVjlj2wz8w0xWpKR51YzZcMR/C2OvqOP3ILKu0MWCxNDEutJggG00RvuyeNvrQOmNa4ANMuLjBNq5ra2BbXLKQ1JrYvwMQ0UbCQmoE01+y03UPHNgqmpemd6Nqaabcg9eKCYalpaptWu21PzfoHzjPWARhWyqgz59nUrA+mNTqaZ+ZrdBLMS9O6n4lrBj83VPuAYPYHZivNSlGTpDk1uwCbPGseM01vnpEvcAipWciTwEfNCzCrncQ1E7/0ImOn1TrAS/MHx9XkbS+IL/EAAAAASUVORK5CYII=\" id=\"image26fd83eb2f\" transform=\"scale(1 -1) translate(0 -266.4)\" x=\"342.72\" y=\"-10.8\" width=\"13.68\" height=\"266.4\"/>\n",
       "   <g id=\"matplotlib.axis_3\"/>\n",
       "   <g id=\"matplotlib.axis_4\">\n",
       "    <g id=\"ytick_6\">\n",
       "     <g id=\"line2d_11\">\n",
       "      <defs>\n",
       "       <path id=\"m8689618db4\" d=\"M 0 0 \n",
       "L 3.5 0 \n",
       "\" style=\"stroke: #000000; stroke-width: 0.8\"/>\n",
       "      </defs>\n",
       "      <g>\n",
       "       <use xlink:href=\"#m8689618db4\" x=\"356.0576\" y=\"227.905604\" style=\"stroke: #000000; stroke-width: 0.8\"/>\n",
       "      </g>\n",
       "     </g>\n",
       "     <g id=\"text_11\">\n",
       "      <!-- 0.2 -->\n",
       "      <g transform=\"translate(363.0576 231.704822) scale(0.1 -0.1)\">\n",
       "       <defs>\n",
       "        <path id=\"DejaVuSans-30\" d=\"M 2034 4250 \n",
       "Q 1547 4250 1301 3770 \n",
       "Q 1056 3291 1056 2328 \n",
       "Q 1056 1369 1301 889 \n",
       "Q 1547 409 2034 409 \n",
       "Q 2525 409 2770 889 \n",
       "Q 3016 1369 3016 2328 \n",
       "Q 3016 3291 2770 3770 \n",
       "Q 2525 4250 2034 4250 \n",
       "z\n",
       "M 2034 4750 \n",
       "Q 2819 4750 3233 4129 \n",
       "Q 3647 3509 3647 2328 \n",
       "Q 3647 1150 3233 529 \n",
       "Q 2819 -91 2034 -91 \n",
       "Q 1250 -91 836 529 \n",
       "Q 422 1150 422 2328 \n",
       "Q 422 3509 836 4129 \n",
       "Q 1250 4750 2034 4750 \n",
       "z\n",
       "\" transform=\"scale(0.015625)\"/>\n",
       "        <path id=\"DejaVuSans-2e\" d=\"M 684 794 \n",
       "L 1344 794 \n",
       "L 1344 0 \n",
       "L 684 0 \n",
       "L 684 794 \n",
       "z\n",
       "\" transform=\"scale(0.015625)\"/>\n",
       "       </defs>\n",
       "       <use xlink:href=\"#DejaVuSans-30\"/>\n",
       "       <use xlink:href=\"#DejaVuSans-2e\" x=\"63.623047\"/>\n",
       "       <use xlink:href=\"#DejaVuSans-32\" x=\"95.410156\"/>\n",
       "      </g>\n",
       "     </g>\n",
       "    </g>\n",
       "    <g id=\"ytick_7\">\n",
       "     <g id=\"line2d_12\">\n",
       "      <g>\n",
       "       <use xlink:href=\"#m8689618db4\" x=\"356.0576\" y=\"173.679007\" style=\"stroke: #000000; stroke-width: 0.8\"/>\n",
       "      </g>\n",
       "     </g>\n",
       "     <g id=\"text_12\">\n",
       "      <!-- 0.4 -->\n",
       "      <g transform=\"translate(363.0576 177.478226) scale(0.1 -0.1)\">\n",
       "       <use xlink:href=\"#DejaVuSans-30\"/>\n",
       "       <use xlink:href=\"#DejaVuSans-2e\" x=\"63.623047\"/>\n",
       "       <use xlink:href=\"#DejaVuSans-34\" x=\"95.410156\"/>\n",
       "      </g>\n",
       "     </g>\n",
       "    </g>\n",
       "    <g id=\"ytick_8\">\n",
       "     <g id=\"line2d_13\">\n",
       "      <g>\n",
       "       <use xlink:href=\"#m8689618db4\" x=\"356.0576\" y=\"119.452411\" style=\"stroke: #000000; stroke-width: 0.8\"/>\n",
       "      </g>\n",
       "     </g>\n",
       "     <g id=\"text_13\">\n",
       "      <!-- 0.6 -->\n",
       "      <g transform=\"translate(363.0576 123.25163) scale(0.1 -0.1)\">\n",
       "       <defs>\n",
       "        <path id=\"DejaVuSans-36\" d=\"M 2113 2584 \n",
       "Q 1688 2584 1439 2293 \n",
       "Q 1191 2003 1191 1497 \n",
       "Q 1191 994 1439 701 \n",
       "Q 1688 409 2113 409 \n",
       "Q 2538 409 2786 701 \n",
       "Q 3034 994 3034 1497 \n",
       "Q 3034 2003 2786 2293 \n",
       "Q 2538 2584 2113 2584 \n",
       "z\n",
       "M 3366 4563 \n",
       "L 3366 3988 \n",
       "Q 3128 4100 2886 4159 \n",
       "Q 2644 4219 2406 4219 \n",
       "Q 1781 4219 1451 3797 \n",
       "Q 1122 3375 1075 2522 \n",
       "Q 1259 2794 1537 2939 \n",
       "Q 1816 3084 2150 3084 \n",
       "Q 2853 3084 3261 2657 \n",
       "Q 3669 2231 3669 1497 \n",
       "Q 3669 778 3244 343 \n",
       "Q 2819 -91 2113 -91 \n",
       "Q 1303 -91 875 529 \n",
       "Q 447 1150 447 2328 \n",
       "Q 447 3434 972 4092 \n",
       "Q 1497 4750 2381 4750 \n",
       "Q 2619 4750 2861 4703 \n",
       "Q 3103 4656 3366 4563 \n",
       "z\n",
       "\" transform=\"scale(0.015625)\"/>\n",
       "       </defs>\n",
       "       <use xlink:href=\"#DejaVuSans-30\"/>\n",
       "       <use xlink:href=\"#DejaVuSans-2e\" x=\"63.623047\"/>\n",
       "       <use xlink:href=\"#DejaVuSans-36\" x=\"95.410156\"/>\n",
       "      </g>\n",
       "     </g>\n",
       "    </g>\n",
       "    <g id=\"ytick_9\">\n",
       "     <g id=\"line2d_14\">\n",
       "      <g>\n",
       "       <use xlink:href=\"#m8689618db4\" x=\"356.0576\" y=\"65.225815\" style=\"stroke: #000000; stroke-width: 0.8\"/>\n",
       "      </g>\n",
       "     </g>\n",
       "     <g id=\"text_14\">\n",
       "      <!-- 0.8 -->\n",
       "      <g transform=\"translate(363.0576 69.025034) scale(0.1 -0.1)\">\n",
       "       <defs>\n",
       "        <path id=\"DejaVuSans-38\" d=\"M 2034 2216 \n",
       "Q 1584 2216 1326 1975 \n",
       "Q 1069 1734 1069 1313 \n",
       "Q 1069 891 1326 650 \n",
       "Q 1584 409 2034 409 \n",
       "Q 2484 409 2743 651 \n",
       "Q 3003 894 3003 1313 \n",
       "Q 3003 1734 2745 1975 \n",
       "Q 2488 2216 2034 2216 \n",
       "z\n",
       "M 1403 2484 \n",
       "Q 997 2584 770 2862 \n",
       "Q 544 3141 544 3541 \n",
       "Q 544 4100 942 4425 \n",
       "Q 1341 4750 2034 4750 \n",
       "Q 2731 4750 3128 4425 \n",
       "Q 3525 4100 3525 3541 \n",
       "Q 3525 3141 3298 2862 \n",
       "Q 3072 2584 2669 2484 \n",
       "Q 3125 2378 3379 2068 \n",
       "Q 3634 1759 3634 1313 \n",
       "Q 3634 634 3220 271 \n",
       "Q 2806 -91 2034 -91 \n",
       "Q 1263 -91 848 271 \n",
       "Q 434 634 434 1313 \n",
       "Q 434 1759 690 2068 \n",
       "Q 947 2378 1403 2484 \n",
       "z\n",
       "M 1172 3481 \n",
       "Q 1172 3119 1398 2916 \n",
       "Q 1625 2713 2034 2713 \n",
       "Q 2441 2713 2670 2916 \n",
       "Q 2900 3119 2900 3481 \n",
       "Q 2900 3844 2670 4047 \n",
       "Q 2441 4250 2034 4250 \n",
       "Q 1625 4250 1398 4047 \n",
       "Q 1172 3844 1172 3481 \n",
       "z\n",
       "\" transform=\"scale(0.015625)\"/>\n",
       "       </defs>\n",
       "       <use xlink:href=\"#DejaVuSans-30\"/>\n",
       "       <use xlink:href=\"#DejaVuSans-2e\" x=\"63.623047\"/>\n",
       "       <use xlink:href=\"#DejaVuSans-38\" x=\"95.410156\"/>\n",
       "      </g>\n",
       "     </g>\n",
       "    </g>\n",
       "    <g id=\"ytick_10\">\n",
       "     <g id=\"line2d_15\">\n",
       "      <g>\n",
       "       <use xlink:href=\"#m8689618db4\" x=\"356.0576\" y=\"10.999219\" style=\"stroke: #000000; stroke-width: 0.8\"/>\n",
       "      </g>\n",
       "     </g>\n",
       "     <g id=\"text_15\">\n",
       "      <!-- 1.0 -->\n",
       "      <g transform=\"translate(363.0576 14.798437) scale(0.1 -0.1)\">\n",
       "       <use xlink:href=\"#DejaVuSans-31\"/>\n",
       "       <use xlink:href=\"#DejaVuSans-2e\" x=\"63.623047\"/>\n",
       "       <use xlink:href=\"#DejaVuSans-30\" x=\"95.410156\"/>\n",
       "      </g>\n",
       "     </g>\n",
       "    </g>\n",
       "   </g>\n",
       "   <g id=\"LineCollection_1\"/>\n",
       "   <g id=\"patch_4\">\n",
       "    <path d=\"M 342.752 277.111219 \n",
       "L 349.4048 277.111219 \n",
       "L 356.0576 277.111219 \n",
       "L 356.0576 10.999219 \n",
       "L 349.4048 10.999219 \n",
       "L 342.752 10.999219 \n",
       "L 342.752 277.111219 \n",
       "z\n",
       "\" style=\"fill: none\"/>\n",
       "   </g>\n",
       "  </g>\n",
       " </g>\n",
       " <defs>\n",
       "  <clipPath id=\"pa0d802a0f9\">\n",
       "   <rect x=\"39.2\" y=\"10.999219\" width=\"285.696\" height=\"266.112\"/>\n",
       "  </clipPath>\n",
       " </defs>\n",
       "</svg>\n"
      ],
      "text/plain": [
       "<Figure size 640x480 with 2 Axes>"
      ]
     },
     "metadata": {},
     "output_type": "display_data"
    }
   ],
   "source": [
    "ax = sns.heatmap(a, cmap='YlGnBu')\n",
    "\n",
    "# turn the axis label\n",
    "for item in ax.get_yticklabels():\n",
    "    item.set_rotation(0)\n",
    "\n",
    "for item in ax.get_xticklabels():\n",
    "    item.set_rotation(90)\n",
    "\n",
    "# save figure\n",
    "plt.savefig('seabornPandas.png', dpi=100)\n",
    "plt.show()"
   ]
  },
  {
   "cell_type": "markdown",
   "metadata": {},
   "source": [
    "Выбор представленных в RDkit метрик сходства и различия не так уж и широк.  \n",
    "Соответственно, стоит использовать и другие библиотеки, в которых представлены метрики сходства и различия. Например, [scikit-learn](https://scikit-learn.org/stable/modules/generated/sklearn.neighbors.DistanceMetric.html) (по ссылке представлен список доступных дескрипторов). "
   ]
  },
  {
   "cell_type": "code",
   "execution_count": 41,
   "metadata": {},
   "outputs": [],
   "source": [
    "array_dif = pairwise_distances(np_fps, np_fps, metric='jaccard')"
   ]
  },
  {
   "cell_type": "code",
   "execution_count": 42,
   "metadata": {},
   "outputs": [
    {
     "data": {
      "text/plain": [
       "array([[0.        , 0.79365079, 0.91304348, 0.79710145, 0.54      ],\n",
       "       [0.79365079, 0.        , 0.88461538, 0.77027027, 0.85915493],\n",
       "       [0.91304348, 0.88461538, 0.        , 0.91666667, 0.98148148],\n",
       "       [0.79710145, 0.77027027, 0.91666667, 0.        , 0.84210526],\n",
       "       [0.54      , 0.85915493, 0.98148148, 0.84210526, 0.        ]])"
      ]
     },
     "execution_count": 42,
     "metadata": {},
     "output_type": "execute_result"
    }
   ],
   "source": [
    "array_dif"
   ]
  },
  {
   "cell_type": "code",
   "execution_count": 43,
   "metadata": {},
   "outputs": [
    {
     "data": {
      "image/svg+xml": [
       "<?xml version=\"1.0\" encoding=\"utf-8\" standalone=\"no\"?>\n",
       "<!DOCTYPE svg PUBLIC \"-//W3C//DTD SVG 1.1//EN\"\n",
       "  \"http://www.w3.org/Graphics/SVG/1.1/DTD/svg11.dtd\">\n",
       "<svg xmlns:xlink=\"http://www.w3.org/1999/xlink\" width=\"367.523225pt\" height=\"293.8745pt\" viewBox=\"0 0 367.523225 293.8745\" xmlns=\"http://www.w3.org/2000/svg\" version=\"1.1\">\n",
       " <metadata>\n",
       "  <rdf:RDF xmlns:dc=\"http://purl.org/dc/elements/1.1/\" xmlns:cc=\"http://creativecommons.org/ns#\" xmlns:rdf=\"http://www.w3.org/1999/02/22-rdf-syntax-ns#\">\n",
       "   <cc:Work>\n",
       "    <dc:type rdf:resource=\"http://purl.org/dc/dcmitype/StillImage\"/>\n",
       "    <dc:date>2025-01-05T17:45:54.566866</dc:date>\n",
       "    <dc:format>image/svg+xml</dc:format>\n",
       "    <dc:creator>\n",
       "     <cc:Agent>\n",
       "      <dc:title>Matplotlib v3.9.0, https://matplotlib.org/</dc:title>\n",
       "     </cc:Agent>\n",
       "    </dc:creator>\n",
       "   </cc:Work>\n",
       "  </rdf:RDF>\n",
       " </metadata>\n",
       " <defs>\n",
       "  <style type=\"text/css\">*{stroke-linejoin: round; stroke-linecap: butt}</style>\n",
       " </defs>\n",
       " <g id=\"figure_1\">\n",
       "  <g id=\"patch_1\">\n",
       "   <path d=\"M 0 293.8745 \n",
       "L 367.523225 293.8745 \n",
       "L 367.523225 0 \n",
       "L 0 0 \n",
       "z\n",
       "\" style=\"fill: #ffffff\"/>\n",
       "  </g>\n",
       "  <g id=\"axes_1\">\n",
       "   <g id=\"patch_2\">\n",
       "    <path d=\"M 20.5625 273.312 \n",
       "L 306.2585 273.312 \n",
       "L 306.2585 7.2 \n",
       "L 20.5625 7.2 \n",
       "z\n",
       "\" style=\"fill: #ffffff\"/>\n",
       "   </g>\n",
       "   <g id=\"QuadMesh_1\">\n",
       "    <path d=\"M 20.5625 7.2 \n",
       "L 77.7017 7.2 \n",
       "L 77.7017 60.4224 \n",
       "L 20.5625 60.4224 \n",
       "L 20.5625 7.2 \n",
       "\" clip-path=\"url(#pf48ef4e300)\" style=\"fill: #ffffd9\"/>\n",
       "    <path d=\"M 77.7017 7.2 \n",
       "L 134.8409 7.2 \n",
       "L 134.8409 60.4224 \n",
       "L 77.7017 60.4224 \n",
       "L 77.7017 7.2 \n",
       "\" clip-path=\"url(#pf48ef4e300)\" style=\"fill: #23499e\"/>\n",
       "    <path d=\"M 134.8409 7.2 \n",
       "L 191.9801 7.2 \n",
       "L 191.9801 60.4224 \n",
       "L 134.8409 60.4224 \n",
       "L 134.8409 7.2 \n",
       "\" clip-path=\"url(#pf48ef4e300)\" style=\"fill: #172978\"/>\n",
       "    <path d=\"M 191.9801 7.2 \n",
       "L 249.1193 7.2 \n",
       "L 249.1193 60.4224 \n",
       "L 191.9801 60.4224 \n",
       "L 191.9801 7.2 \n",
       "\" clip-path=\"url(#pf48ef4e300)\" style=\"fill: #23499e\"/>\n",
       "    <path d=\"M 249.1193 7.2 \n",
       "L 306.2585 7.2 \n",
       "L 306.2585 60.4224 \n",
       "L 249.1193 60.4224 \n",
       "L 249.1193 7.2 \n",
       "\" clip-path=\"url(#pf48ef4e300)\" style=\"fill: #33a7c2\"/>\n",
       "    <path d=\"M 20.5625 60.4224 \n",
       "L 77.7017 60.4224 \n",
       "L 77.7017 113.6448 \n",
       "L 20.5625 113.6448 \n",
       "L 20.5625 60.4224 \n",
       "\" clip-path=\"url(#pf48ef4e300)\" style=\"fill: #23499e\"/>\n",
       "    <path d=\"M 77.7017 60.4224 \n",
       "L 134.8409 60.4224 \n",
       "L 134.8409 113.6448 \n",
       "L 77.7017 113.6448 \n",
       "L 77.7017 60.4224 \n",
       "\" clip-path=\"url(#pf48ef4e300)\" style=\"fill: #ffffd9\"/>\n",
       "    <path d=\"M 134.8409 60.4224 \n",
       "L 191.9801 60.4224 \n",
       "L 191.9801 113.6448 \n",
       "L 134.8409 113.6448 \n",
       "L 134.8409 60.4224 \n",
       "\" clip-path=\"url(#pf48ef4e300)\" style=\"fill: #1f2f87\"/>\n",
       "    <path d=\"M 191.9801 60.4224 \n",
       "L 249.1193 60.4224 \n",
       "L 249.1193 113.6448 \n",
       "L 191.9801 113.6448 \n",
       "L 191.9801 60.4224 \n",
       "\" clip-path=\"url(#pf48ef4e300)\" style=\"fill: #2352a3\"/>\n",
       "    <path d=\"M 249.1193 60.4224 \n",
       "L 306.2585 60.4224 \n",
       "L 306.2585 113.6448 \n",
       "L 249.1193 113.6448 \n",
       "L 249.1193 60.4224 \n",
       "\" clip-path=\"url(#pf48ef4e300)\" style=\"fill: #243392\"/>\n",
       "    <path d=\"M 20.5625 113.6448 \n",
       "L 77.7017 113.6448 \n",
       "L 77.7017 166.8672 \n",
       "L 20.5625 166.8672 \n",
       "L 20.5625 113.6448 \n",
       "\" clip-path=\"url(#pf48ef4e300)\" style=\"fill: #172978\"/>\n",
       "    <path d=\"M 77.7017 113.6448 \n",
       "L 134.8409 113.6448 \n",
       "L 134.8409 166.8672 \n",
       "L 77.7017 166.8672 \n",
       "L 77.7017 113.6448 \n",
       "\" clip-path=\"url(#pf48ef4e300)\" style=\"fill: #1f2f87\"/>\n",
       "    <path d=\"M 134.8409 113.6448 \n",
       "L 191.9801 113.6448 \n",
       "L 191.9801 166.8672 \n",
       "L 134.8409 166.8672 \n",
       "L 134.8409 113.6448 \n",
       "\" clip-path=\"url(#pf48ef4e300)\" style=\"fill: #ffffd9\"/>\n",
       "    <path d=\"M 191.9801 113.6448 \n",
       "L 249.1193 113.6448 \n",
       "L 249.1193 166.8672 \n",
       "L 191.9801 166.8672 \n",
       "L 191.9801 113.6448 \n",
       "\" clip-path=\"url(#pf48ef4e300)\" style=\"fill: #172976\"/>\n",
       "    <path d=\"M 249.1193 113.6448 \n",
       "L 306.2585 113.6448 \n",
       "L 306.2585 166.8672 \n",
       "L 249.1193 166.8672 \n",
       "L 249.1193 113.6448 \n",
       "\" clip-path=\"url(#pf48ef4e300)\" style=\"fill: #081d58\"/>\n",
       "    <path d=\"M 20.5625 166.8672 \n",
       "L 77.7017 166.8672 \n",
       "L 77.7017 220.0896 \n",
       "L 20.5625 220.0896 \n",
       "L 20.5625 166.8672 \n",
       "\" clip-path=\"url(#pf48ef4e300)\" style=\"fill: #23499e\"/>\n",
       "    <path d=\"M 77.7017 166.8672 \n",
       "L 134.8409 166.8672 \n",
       "L 134.8409 220.0896 \n",
       "L 77.7017 220.0896 \n",
       "L 77.7017 166.8672 \n",
       "\" clip-path=\"url(#pf48ef4e300)\" style=\"fill: #2352a3\"/>\n",
       "    <path d=\"M 134.8409 166.8672 \n",
       "L 191.9801 166.8672 \n",
       "L 191.9801 220.0896 \n",
       "L 134.8409 220.0896 \n",
       "L 134.8409 166.8672 \n",
       "\" clip-path=\"url(#pf48ef4e300)\" style=\"fill: #172976\"/>\n",
       "    <path d=\"M 191.9801 166.8672 \n",
       "L 249.1193 166.8672 \n",
       "L 249.1193 220.0896 \n",
       "L 191.9801 220.0896 \n",
       "L 191.9801 166.8672 \n",
       "\" clip-path=\"url(#pf48ef4e300)\" style=\"fill: #ffffd9\"/>\n",
       "    <path d=\"M 249.1193 166.8672 \n",
       "L 306.2585 166.8672 \n",
       "L 306.2585 220.0896 \n",
       "L 249.1193 220.0896 \n",
       "L 249.1193 166.8672 \n",
       "\" clip-path=\"url(#pf48ef4e300)\" style=\"fill: #253997\"/>\n",
       "    <path d=\"M 20.5625 220.0896 \n",
       "L 77.7017 220.0896 \n",
       "L 77.7017 273.312 \n",
       "L 20.5625 273.312 \n",
       "L 20.5625 220.0896 \n",
       "\" clip-path=\"url(#pf48ef4e300)\" style=\"fill: #33a7c2\"/>\n",
       "    <path d=\"M 77.7017 220.0896 \n",
       "L 134.8409 220.0896 \n",
       "L 134.8409 273.312 \n",
       "L 77.7017 273.312 \n",
       "L 77.7017 220.0896 \n",
       "\" clip-path=\"url(#pf48ef4e300)\" style=\"fill: #243392\"/>\n",
       "    <path d=\"M 134.8409 220.0896 \n",
       "L 191.9801 220.0896 \n",
       "L 191.9801 273.312 \n",
       "L 134.8409 273.312 \n",
       "L 134.8409 220.0896 \n",
       "\" clip-path=\"url(#pf48ef4e300)\" style=\"fill: #081d58\"/>\n",
       "    <path d=\"M 191.9801 220.0896 \n",
       "L 249.1193 220.0896 \n",
       "L 249.1193 273.312 \n",
       "L 191.9801 273.312 \n",
       "L 191.9801 220.0896 \n",
       "\" clip-path=\"url(#pf48ef4e300)\" style=\"fill: #253997\"/>\n",
       "    <path d=\"M 249.1193 220.0896 \n",
       "L 306.2585 220.0896 \n",
       "L 306.2585 273.312 \n",
       "L 249.1193 273.312 \n",
       "L 249.1193 220.0896 \n",
       "\" clip-path=\"url(#pf48ef4e300)\" style=\"fill: #ffffd9\"/>\n",
       "   </g>\n",
       "   <g id=\"matplotlib.axis_1\">\n",
       "    <g id=\"xtick_1\">\n",
       "     <g id=\"line2d_1\">\n",
       "      <defs>\n",
       "       <path id=\"me3b80f71de\" d=\"M 0 0 \n",
       "L 0 3.5 \n",
       "\" style=\"stroke: #000000; stroke-width: 0.8\"/>\n",
       "      </defs>\n",
       "      <g>\n",
       "       <use xlink:href=\"#me3b80f71de\" x=\"49.1321\" y=\"273.312\" style=\"stroke: #000000; stroke-width: 0.8\"/>\n",
       "      </g>\n",
       "     </g>\n",
       "     <g id=\"text_1\">\n",
       "      <!-- 0 -->\n",
       "      <g transform=\"translate(51.891475 286.6745) rotate(-90) scale(0.1 -0.1)\">\n",
       "       <defs>\n",
       "        <path id=\"DejaVuSans-30\" d=\"M 2034 4250 \n",
       "Q 1547 4250 1301 3770 \n",
       "Q 1056 3291 1056 2328 \n",
       "Q 1056 1369 1301 889 \n",
       "Q 1547 409 2034 409 \n",
       "Q 2525 409 2770 889 \n",
       "Q 3016 1369 3016 2328 \n",
       "Q 3016 3291 2770 3770 \n",
       "Q 2525 4250 2034 4250 \n",
       "z\n",
       "M 2034 4750 \n",
       "Q 2819 4750 3233 4129 \n",
       "Q 3647 3509 3647 2328 \n",
       "Q 3647 1150 3233 529 \n",
       "Q 2819 -91 2034 -91 \n",
       "Q 1250 -91 836 529 \n",
       "Q 422 1150 422 2328 \n",
       "Q 422 3509 836 4129 \n",
       "Q 1250 4750 2034 4750 \n",
       "z\n",
       "\" transform=\"scale(0.015625)\"/>\n",
       "       </defs>\n",
       "       <use xlink:href=\"#DejaVuSans-30\"/>\n",
       "      </g>\n",
       "     </g>\n",
       "    </g>\n",
       "    <g id=\"xtick_2\">\n",
       "     <g id=\"line2d_2\">\n",
       "      <g>\n",
       "       <use xlink:href=\"#me3b80f71de\" x=\"106.2713\" y=\"273.312\" style=\"stroke: #000000; stroke-width: 0.8\"/>\n",
       "      </g>\n",
       "     </g>\n",
       "     <g id=\"text_2\">\n",
       "      <!-- 1 -->\n",
       "      <g transform=\"translate(109.030675 286.6745) rotate(-90) scale(0.1 -0.1)\">\n",
       "       <defs>\n",
       "        <path id=\"DejaVuSans-31\" d=\"M 794 531 \n",
       "L 1825 531 \n",
       "L 1825 4091 \n",
       "L 703 3866 \n",
       "L 703 4441 \n",
       "L 1819 4666 \n",
       "L 2450 4666 \n",
       "L 2450 531 \n",
       "L 3481 531 \n",
       "L 3481 0 \n",
       "L 794 0 \n",
       "L 794 531 \n",
       "z\n",
       "\" transform=\"scale(0.015625)\"/>\n",
       "       </defs>\n",
       "       <use xlink:href=\"#DejaVuSans-31\"/>\n",
       "      </g>\n",
       "     </g>\n",
       "    </g>\n",
       "    <g id=\"xtick_3\">\n",
       "     <g id=\"line2d_3\">\n",
       "      <g>\n",
       "       <use xlink:href=\"#me3b80f71de\" x=\"163.4105\" y=\"273.312\" style=\"stroke: #000000; stroke-width: 0.8\"/>\n",
       "      </g>\n",
       "     </g>\n",
       "     <g id=\"text_3\">\n",
       "      <!-- 2 -->\n",
       "      <g transform=\"translate(166.169875 286.6745) rotate(-90) scale(0.1 -0.1)\">\n",
       "       <defs>\n",
       "        <path id=\"DejaVuSans-32\" d=\"M 1228 531 \n",
       "L 3431 531 \n",
       "L 3431 0 \n",
       "L 469 0 \n",
       "L 469 531 \n",
       "Q 828 903 1448 1529 \n",
       "Q 2069 2156 2228 2338 \n",
       "Q 2531 2678 2651 2914 \n",
       "Q 2772 3150 2772 3378 \n",
       "Q 2772 3750 2511 3984 \n",
       "Q 2250 4219 1831 4219 \n",
       "Q 1534 4219 1204 4116 \n",
       "Q 875 4013 500 3803 \n",
       "L 500 4441 \n",
       "Q 881 4594 1212 4672 \n",
       "Q 1544 4750 1819 4750 \n",
       "Q 2544 4750 2975 4387 \n",
       "Q 3406 4025 3406 3419 \n",
       "Q 3406 3131 3298 2873 \n",
       "Q 3191 2616 2906 2266 \n",
       "Q 2828 2175 2409 1742 \n",
       "Q 1991 1309 1228 531 \n",
       "z\n",
       "\" transform=\"scale(0.015625)\"/>\n",
       "       </defs>\n",
       "       <use xlink:href=\"#DejaVuSans-32\"/>\n",
       "      </g>\n",
       "     </g>\n",
       "    </g>\n",
       "    <g id=\"xtick_4\">\n",
       "     <g id=\"line2d_4\">\n",
       "      <g>\n",
       "       <use xlink:href=\"#me3b80f71de\" x=\"220.5497\" y=\"273.312\" style=\"stroke: #000000; stroke-width: 0.8\"/>\n",
       "      </g>\n",
       "     </g>\n",
       "     <g id=\"text_4\">\n",
       "      <!-- 3 -->\n",
       "      <g transform=\"translate(223.309075 286.6745) rotate(-90) scale(0.1 -0.1)\">\n",
       "       <defs>\n",
       "        <path id=\"DejaVuSans-33\" d=\"M 2597 2516 \n",
       "Q 3050 2419 3304 2112 \n",
       "Q 3559 1806 3559 1356 \n",
       "Q 3559 666 3084 287 \n",
       "Q 2609 -91 1734 -91 \n",
       "Q 1441 -91 1130 -33 \n",
       "Q 819 25 488 141 \n",
       "L 488 750 \n",
       "Q 750 597 1062 519 \n",
       "Q 1375 441 1716 441 \n",
       "Q 2309 441 2620 675 \n",
       "Q 2931 909 2931 1356 \n",
       "Q 2931 1769 2642 2001 \n",
       "Q 2353 2234 1838 2234 \n",
       "L 1294 2234 \n",
       "L 1294 2753 \n",
       "L 1863 2753 \n",
       "Q 2328 2753 2575 2939 \n",
       "Q 2822 3125 2822 3475 \n",
       "Q 2822 3834 2567 4026 \n",
       "Q 2313 4219 1838 4219 \n",
       "Q 1578 4219 1281 4162 \n",
       "Q 984 4106 628 3988 \n",
       "L 628 4550 \n",
       "Q 988 4650 1302 4700 \n",
       "Q 1616 4750 1894 4750 \n",
       "Q 2613 4750 3031 4423 \n",
       "Q 3450 4097 3450 3541 \n",
       "Q 3450 3153 3228 2886 \n",
       "Q 3006 2619 2597 2516 \n",
       "z\n",
       "\" transform=\"scale(0.015625)\"/>\n",
       "       </defs>\n",
       "       <use xlink:href=\"#DejaVuSans-33\"/>\n",
       "      </g>\n",
       "     </g>\n",
       "    </g>\n",
       "    <g id=\"xtick_5\">\n",
       "     <g id=\"line2d_5\">\n",
       "      <g>\n",
       "       <use xlink:href=\"#me3b80f71de\" x=\"277.6889\" y=\"273.312\" style=\"stroke: #000000; stroke-width: 0.8\"/>\n",
       "      </g>\n",
       "     </g>\n",
       "     <g id=\"text_5\">\n",
       "      <!-- 4 -->\n",
       "      <g transform=\"translate(280.448275 286.6745) rotate(-90) scale(0.1 -0.1)\">\n",
       "       <defs>\n",
       "        <path id=\"DejaVuSans-34\" d=\"M 2419 4116 \n",
       "L 825 1625 \n",
       "L 2419 1625 \n",
       "L 2419 4116 \n",
       "z\n",
       "M 2253 4666 \n",
       "L 3047 4666 \n",
       "L 3047 1625 \n",
       "L 3713 1625 \n",
       "L 3713 1100 \n",
       "L 3047 1100 \n",
       "L 3047 0 \n",
       "L 2419 0 \n",
       "L 2419 1100 \n",
       "L 313 1100 \n",
       "L 313 1709 \n",
       "L 2253 4666 \n",
       "z\n",
       "\" transform=\"scale(0.015625)\"/>\n",
       "       </defs>\n",
       "       <use xlink:href=\"#DejaVuSans-34\"/>\n",
       "      </g>\n",
       "     </g>\n",
       "    </g>\n",
       "   </g>\n",
       "   <g id=\"matplotlib.axis_2\">\n",
       "    <g id=\"ytick_1\">\n",
       "     <g id=\"line2d_6\">\n",
       "      <defs>\n",
       "       <path id=\"m0ac5c4218e\" d=\"M 0 0 \n",
       "L -3.5 0 \n",
       "\" style=\"stroke: #000000; stroke-width: 0.8\"/>\n",
       "      </defs>\n",
       "      <g>\n",
       "       <use xlink:href=\"#m0ac5c4218e\" x=\"20.5625\" y=\"33.8112\" style=\"stroke: #000000; stroke-width: 0.8\"/>\n",
       "      </g>\n",
       "     </g>\n",
       "     <g id=\"text_6\">\n",
       "      <!-- 0 -->\n",
       "      <g transform=\"translate(7.2 36.570575) scale(0.1 -0.1)\">\n",
       "       <use xlink:href=\"#DejaVuSans-30\"/>\n",
       "      </g>\n",
       "     </g>\n",
       "    </g>\n",
       "    <g id=\"ytick_2\">\n",
       "     <g id=\"line2d_7\">\n",
       "      <g>\n",
       "       <use xlink:href=\"#m0ac5c4218e\" x=\"20.5625\" y=\"87.0336\" style=\"stroke: #000000; stroke-width: 0.8\"/>\n",
       "      </g>\n",
       "     </g>\n",
       "     <g id=\"text_7\">\n",
       "      <!-- 1 -->\n",
       "      <g transform=\"translate(7.2 89.792975) scale(0.1 -0.1)\">\n",
       "       <use xlink:href=\"#DejaVuSans-31\"/>\n",
       "      </g>\n",
       "     </g>\n",
       "    </g>\n",
       "    <g id=\"ytick_3\">\n",
       "     <g id=\"line2d_8\">\n",
       "      <g>\n",
       "       <use xlink:href=\"#m0ac5c4218e\" x=\"20.5625\" y=\"140.256\" style=\"stroke: #000000; stroke-width: 0.8\"/>\n",
       "      </g>\n",
       "     </g>\n",
       "     <g id=\"text_8\">\n",
       "      <!-- 2 -->\n",
       "      <g transform=\"translate(7.2 143.015375) scale(0.1 -0.1)\">\n",
       "       <use xlink:href=\"#DejaVuSans-32\"/>\n",
       "      </g>\n",
       "     </g>\n",
       "    </g>\n",
       "    <g id=\"ytick_4\">\n",
       "     <g id=\"line2d_9\">\n",
       "      <g>\n",
       "       <use xlink:href=\"#m0ac5c4218e\" x=\"20.5625\" y=\"193.4784\" style=\"stroke: #000000; stroke-width: 0.8\"/>\n",
       "      </g>\n",
       "     </g>\n",
       "     <g id=\"text_9\">\n",
       "      <!-- 3 -->\n",
       "      <g transform=\"translate(7.2 196.237775) scale(0.1 -0.1)\">\n",
       "       <use xlink:href=\"#DejaVuSans-33\"/>\n",
       "      </g>\n",
       "     </g>\n",
       "    </g>\n",
       "    <g id=\"ytick_5\">\n",
       "     <g id=\"line2d_10\">\n",
       "      <g>\n",
       "       <use xlink:href=\"#m0ac5c4218e\" x=\"20.5625\" y=\"246.7008\" style=\"stroke: #000000; stroke-width: 0.8\"/>\n",
       "      </g>\n",
       "     </g>\n",
       "     <g id=\"text_10\">\n",
       "      <!-- 4 -->\n",
       "      <g transform=\"translate(7.2 249.460175) scale(0.1 -0.1)\">\n",
       "       <use xlink:href=\"#DejaVuSans-34\"/>\n",
       "      </g>\n",
       "     </g>\n",
       "    </g>\n",
       "   </g>\n",
       "  </g>\n",
       "  <g id=\"axes_2\">\n",
       "   <g id=\"patch_3\">\n",
       "    <path d=\"M 324.1145 273.312 \n",
       "L 337.4201 273.312 \n",
       "L 337.4201 7.2 \n",
       "L 324.1145 7.2 \n",
       "z\n",
       "\" style=\"fill: #ffffff\"/>\n",
       "   </g>\n",
       "   <image xlink:href=\"data:image/png;base64,\n",
       "iVBORw0KGgoAAAANSUhEUgAAABMAAAFxCAYAAACRG5MpAAACD0lEQVR4nO2dgW3DQAwD5eL336/D2MoMMg7wAdQPcACfEqXUjXN1/3dB53RhrDpVDwb7w0hVdbpRmRwMlrluzmFaN8k6Ow26ae6AlEZfN8cwrUwyaekZYL0zuNG1o46dAVY32VHXVjfhiR7S6NJwNJcGx4Jlcl5WHVAlXrQkjGPV6b4wGD3qQNij7QDYTQ62MucHzjNratDhyEWQWCYZQWKZIY2unU7m0kiRCeYZOVDWzflhZaLrgXenRfPs0X5CuVmZHEy8066b38LEjX5rSyPFTRK2bn4LU4djRGncHMssk3QzpwM4WEhpwG6SsHXzBQxDqe/M+3iNLQ2OpZbpdROFpYy6zbM5TNsBm2cvYNsBU9hO9PExy/S6icJC7ixjcWGfvKbItP6nLysTjA1xacATnYOZS8MrE7TTLNM6nVLuTCyTje2MUad1U9ubaJ1tacwP/A1msUwQ9miLFvyOXp0it6DSzoCLlYmx6NJAZYIwugNQmRiLLlpWphS2pTE/tEyrmxvbL2AZpUH2Jpq0IaUhdlNctNbePFdIOIpLA4VpZYZMdLLRU7agXd0/hZnzTBzb0t4U3xn7dw1vnm1sz2HaotXuZyl3Zv6MTsK8Mnc/G8Pg94ZaXykLP2C2yqwUN0mZWjfR19fDd2adATF5Ji0N8yv/tTK1borfBK69M7PMzbMxTPyjFxk77XbA+PwABg7ka3efOd0AAAAASUVORK5CYII=\" id=\"image5e818d32bd\" transform=\"scale(1 -1) translate(0 -265.68)\" x=\"324\" y=\"-7.2\" width=\"13.68\" height=\"265.68\"/>\n",
       "   <g id=\"matplotlib.axis_3\"/>\n",
       "   <g id=\"matplotlib.axis_4\">\n",
       "    <g id=\"ytick_6\">\n",
       "     <g id=\"line2d_11\">\n",
       "      <defs>\n",
       "       <path id=\"m6e4d097dca\" d=\"M 0 0 \n",
       "L 3.5 0 \n",
       "\" style=\"stroke: #000000; stroke-width: 0.8\"/>\n",
       "      </defs>\n",
       "      <g>\n",
       "       <use xlink:href=\"#m6e4d097dca\" x=\"337.4201\" y=\"273.312\" style=\"stroke: #000000; stroke-width: 0.8\"/>\n",
       "      </g>\n",
       "     </g>\n",
       "     <g id=\"text_11\">\n",
       "      <!-- 0.0 -->\n",
       "      <g transform=\"translate(344.4201 277.111219) scale(0.1 -0.1)\">\n",
       "       <defs>\n",
       "        <path id=\"DejaVuSans-2e\" d=\"M 684 794 \n",
       "L 1344 794 \n",
       "L 1344 0 \n",
       "L 684 0 \n",
       "L 684 794 \n",
       "z\n",
       "\" transform=\"scale(0.015625)\"/>\n",
       "       </defs>\n",
       "       <use xlink:href=\"#DejaVuSans-30\"/>\n",
       "       <use xlink:href=\"#DejaVuSans-2e\" x=\"63.623047\"/>\n",
       "       <use xlink:href=\"#DejaVuSans-30\" x=\"95.410156\"/>\n",
       "      </g>\n",
       "     </g>\n",
       "    </g>\n",
       "    <g id=\"ytick_7\">\n",
       "     <g id=\"line2d_12\">\n",
       "      <g>\n",
       "       <use xlink:href=\"#m6e4d097dca\" x=\"337.4201\" y=\"219.085404\" style=\"stroke: #000000; stroke-width: 0.8\"/>\n",
       "      </g>\n",
       "     </g>\n",
       "     <g id=\"text_12\">\n",
       "      <!-- 0.2 -->\n",
       "      <g transform=\"translate(344.4201 222.884623) scale(0.1 -0.1)\">\n",
       "       <use xlink:href=\"#DejaVuSans-30\"/>\n",
       "       <use xlink:href=\"#DejaVuSans-2e\" x=\"63.623047\"/>\n",
       "       <use xlink:href=\"#DejaVuSans-32\" x=\"95.410156\"/>\n",
       "      </g>\n",
       "     </g>\n",
       "    </g>\n",
       "    <g id=\"ytick_8\">\n",
       "     <g id=\"line2d_13\">\n",
       "      <g>\n",
       "       <use xlink:href=\"#m6e4d097dca\" x=\"337.4201\" y=\"164.858808\" style=\"stroke: #000000; stroke-width: 0.8\"/>\n",
       "      </g>\n",
       "     </g>\n",
       "     <g id=\"text_13\">\n",
       "      <!-- 0.4 -->\n",
       "      <g transform=\"translate(344.4201 168.658026) scale(0.1 -0.1)\">\n",
       "       <use xlink:href=\"#DejaVuSans-30\"/>\n",
       "       <use xlink:href=\"#DejaVuSans-2e\" x=\"63.623047\"/>\n",
       "       <use xlink:href=\"#DejaVuSans-34\" x=\"95.410156\"/>\n",
       "      </g>\n",
       "     </g>\n",
       "    </g>\n",
       "    <g id=\"ytick_9\">\n",
       "     <g id=\"line2d_14\">\n",
       "      <g>\n",
       "       <use xlink:href=\"#m6e4d097dca\" x=\"337.4201\" y=\"110.632211\" style=\"stroke: #000000; stroke-width: 0.8\"/>\n",
       "      </g>\n",
       "     </g>\n",
       "     <g id=\"text_14\">\n",
       "      <!-- 0.6 -->\n",
       "      <g transform=\"translate(344.4201 114.43143) scale(0.1 -0.1)\">\n",
       "       <defs>\n",
       "        <path id=\"DejaVuSans-36\" d=\"M 2113 2584 \n",
       "Q 1688 2584 1439 2293 \n",
       "Q 1191 2003 1191 1497 \n",
       "Q 1191 994 1439 701 \n",
       "Q 1688 409 2113 409 \n",
       "Q 2538 409 2786 701 \n",
       "Q 3034 994 3034 1497 \n",
       "Q 3034 2003 2786 2293 \n",
       "Q 2538 2584 2113 2584 \n",
       "z\n",
       "M 3366 4563 \n",
       "L 3366 3988 \n",
       "Q 3128 4100 2886 4159 \n",
       "Q 2644 4219 2406 4219 \n",
       "Q 1781 4219 1451 3797 \n",
       "Q 1122 3375 1075 2522 \n",
       "Q 1259 2794 1537 2939 \n",
       "Q 1816 3084 2150 3084 \n",
       "Q 2853 3084 3261 2657 \n",
       "Q 3669 2231 3669 1497 \n",
       "Q 3669 778 3244 343 \n",
       "Q 2819 -91 2113 -91 \n",
       "Q 1303 -91 875 529 \n",
       "Q 447 1150 447 2328 \n",
       "Q 447 3434 972 4092 \n",
       "Q 1497 4750 2381 4750 \n",
       "Q 2619 4750 2861 4703 \n",
       "Q 3103 4656 3366 4563 \n",
       "z\n",
       "\" transform=\"scale(0.015625)\"/>\n",
       "       </defs>\n",
       "       <use xlink:href=\"#DejaVuSans-30\"/>\n",
       "       <use xlink:href=\"#DejaVuSans-2e\" x=\"63.623047\"/>\n",
       "       <use xlink:href=\"#DejaVuSans-36\" x=\"95.410156\"/>\n",
       "      </g>\n",
       "     </g>\n",
       "    </g>\n",
       "    <g id=\"ytick_10\">\n",
       "     <g id=\"line2d_15\">\n",
       "      <g>\n",
       "       <use xlink:href=\"#m6e4d097dca\" x=\"337.4201\" y=\"56.405615\" style=\"stroke: #000000; stroke-width: 0.8\"/>\n",
       "      </g>\n",
       "     </g>\n",
       "     <g id=\"text_15\">\n",
       "      <!-- 0.8 -->\n",
       "      <g transform=\"translate(344.4201 60.204834) scale(0.1 -0.1)\">\n",
       "       <defs>\n",
       "        <path id=\"DejaVuSans-38\" d=\"M 2034 2216 \n",
       "Q 1584 2216 1326 1975 \n",
       "Q 1069 1734 1069 1313 \n",
       "Q 1069 891 1326 650 \n",
       "Q 1584 409 2034 409 \n",
       "Q 2484 409 2743 651 \n",
       "Q 3003 894 3003 1313 \n",
       "Q 3003 1734 2745 1975 \n",
       "Q 2488 2216 2034 2216 \n",
       "z\n",
       "M 1403 2484 \n",
       "Q 997 2584 770 2862 \n",
       "Q 544 3141 544 3541 \n",
       "Q 544 4100 942 4425 \n",
       "Q 1341 4750 2034 4750 \n",
       "Q 2731 4750 3128 4425 \n",
       "Q 3525 4100 3525 3541 \n",
       "Q 3525 3141 3298 2862 \n",
       "Q 3072 2584 2669 2484 \n",
       "Q 3125 2378 3379 2068 \n",
       "Q 3634 1759 3634 1313 \n",
       "Q 3634 634 3220 271 \n",
       "Q 2806 -91 2034 -91 \n",
       "Q 1263 -91 848 271 \n",
       "Q 434 634 434 1313 \n",
       "Q 434 1759 690 2068 \n",
       "Q 947 2378 1403 2484 \n",
       "z\n",
       "M 1172 3481 \n",
       "Q 1172 3119 1398 2916 \n",
       "Q 1625 2713 2034 2713 \n",
       "Q 2441 2713 2670 2916 \n",
       "Q 2900 3119 2900 3481 \n",
       "Q 2900 3844 2670 4047 \n",
       "Q 2441 4250 2034 4250 \n",
       "Q 1625 4250 1398 4047 \n",
       "Q 1172 3844 1172 3481 \n",
       "z\n",
       "\" transform=\"scale(0.015625)\"/>\n",
       "       </defs>\n",
       "       <use xlink:href=\"#DejaVuSans-30\"/>\n",
       "       <use xlink:href=\"#DejaVuSans-2e\" x=\"63.623047\"/>\n",
       "       <use xlink:href=\"#DejaVuSans-38\" x=\"95.410156\"/>\n",
       "      </g>\n",
       "     </g>\n",
       "    </g>\n",
       "   </g>\n",
       "   <g id=\"LineCollection_1\"/>\n",
       "   <g id=\"patch_4\">\n",
       "    <path d=\"M 324.1145 273.312 \n",
       "L 330.7673 273.312 \n",
       "L 337.4201 273.312 \n",
       "L 337.4201 7.2 \n",
       "L 330.7673 7.2 \n",
       "L 324.1145 7.2 \n",
       "L 324.1145 273.312 \n",
       "z\n",
       "\" style=\"fill: none\"/>\n",
       "   </g>\n",
       "  </g>\n",
       " </g>\n",
       " <defs>\n",
       "  <clipPath id=\"pf48ef4e300\">\n",
       "   <rect x=\"20.5625\" y=\"7.2\" width=\"285.696\" height=\"266.112\"/>\n",
       "  </clipPath>\n",
       " </defs>\n",
       "</svg>\n"
      ],
      "text/plain": [
       "<Figure size 640x480 with 2 Axes>"
      ]
     },
     "metadata": {},
     "output_type": "display_data"
    }
   ],
   "source": [
    "ax = sns.heatmap(array_dif, cmap='YlGnBu')\n",
    "\n",
    "# turn the axis label\n",
    "for item in ax.get_yticklabels():\n",
    "    item.set_rotation(0)\n",
    "\n",
    "for item in ax.get_xticklabels():\n",
    "    item.set_rotation(90)\n",
    "\n",
    "# save figure\n",
    "plt.show()"
   ]
  },
  {
   "cell_type": "markdown",
   "metadata": {},
   "source": [
    "--------------\n",
    "\n",
    "# Домашнее задание \n",
    "\n",
    "\n",
    "Используя нижеперечисленные индексы сходства и различия, постройте heatmapы для всех молекул из data.sdf: индекс Танимото, индекс Дайса и индекс косинуса из RDkit и манхэттэнское расстояние, евклидово расстояние, индекс Жаккарда, индекс Дайса из scikit-learn. В качестве дескрипторов используйте Morgan fingerprints из RDkit. Обратите внимание на требования к дескрипторам при вычислении индексов (битовый вектор? численные дескрипторы?). Сравните полученные heatmapы. Сделайте выводы. Опишите в отчете."
   ]
  },
  {
   "cell_type": "code",
   "execution_count": null,
   "metadata": {},
   "outputs": [
    {
     "name": "stderr",
     "output_type": "stream",
     "text": [
      "[18:49:09] DEPRECATION WARNING: please use MorganGenerator\n",
      "[18:49:09] DEPRECATION WARNING: please use MorganGenerator\n",
      "[18:49:09] DEPRECATION WARNING: please use MorganGenerator\n",
      "[18:49:09] DEPRECATION WARNING: please use MorganGenerator\n",
      "[18:49:09] DEPRECATION WARNING: please use MorganGenerator\n",
      "[18:49:09] DEPRECATION WARNING: please use MorganGenerator\n",
      "[18:49:09] DEPRECATION WARNING: please use MorganGenerator\n",
      "[18:49:09] DEPRECATION WARNING: please use MorganGenerator\n",
      "[18:49:09] DEPRECATION WARNING: please use MorganGenerator\n",
      "[18:49:09] DEPRECATION WARNING: please use MorganGenerator\n",
      "[18:49:09] DEPRECATION WARNING: please use MorganGenerator\n"
     ]
    }
   ],
   "source": [
    "def similarity_matrix(fps, metric):\n",
    "    n = len(fps)\n",
    "    sim_matrix = np.zeros((n, n))\n",
    "    \n",
    "    for i in range(n):\n",
    "        for j in range(i, n):\n",
    "            if metric == \"Tanimoto\":\n",
    "            sim = DataStructs.TanimotoSimilarity(fps[i], fps[j])\n",
    "            sim_matrix[i, j] = sim\n",
    "            sim_matrix[j, i] = sim  # Матрица симметрична\n",
    "    return sim_matrix\n",
    "\n",
    "# Отдельная функция для вычисления косинусного сходства\n",
    "def cosine_matrix(fps):\n",
    "    n = len(fps)\n",
    "    sim_matrix = np.zeros((n, n))\n",
    "    \n",
    "    for i in range(n):\n",
    "        similarities = DataStructs.BulkCosineSimilarity(fps[i], fps)\n",
    "        sim_matrix[i, :] = similarities\n",
    "    \n",
    "    return sim_matrix\n",
    "\n",
    "def heatmap(matrix, title, filename):\n",
    "    plt.figure(figsize=(10, 8))\n",
    "    sns.heatmap(matrix, cmap=\"coolwarm\", annot=False, square=True)\n",
    "    plt.title(title)\n",
    "    plt.savefig(filename)\n",
    "    plt.close()\n",
    "supplier = Chem.SDMolSupplier(\"data/data.sdf\")\n",
    "\n",
    "fingerprints = []\n",
    "\n",
    "count = 0\n",
    "for mol in supplier:\n",
    "    if count > 10: # возьмем первые 10 молекул для читаемости\n",
    "        break\n",
    "    if mol is not None:\n",
    "        count += 1\n",
    "        fingerprints.append(AllChem.GetMorganFingerprintAsBitVect(mol, radius=2, nBits=2048))\n",
    "\n",
    "\n",
    "sim_matrix = similarity_matrix(fingerprints, \"Tanimoto\")\n",
    "heatmap(sim_matrix, f\"Similarity Heatmap ({metric})\", f\"{metric}_heatmap.png\")\n",
    "\n",
    "\n",
    "cos_matrix = cosine_matrix(fingerprints)\n",
    "heatmap(cos_matrix, \"Similarity Heatmap (Cosine)\", \"Cosine_heatmap.png\")"
   ]
  },
  {
   "cell_type": "code",
   "execution_count": 61,
   "metadata": {},
   "outputs": [],
   "source": [
    "# биты в численные дескрипторы\n",
    "fingerprints_array = np.array([np.array(list(fp)) for fp in fingerprints])\n",
    "sklearn_metrics = {\n",
    "    \"Manhattan\": \"manhattan\",\n",
    "    \"Euclidean\": \"euclidean\",\n",
    "    \"Jaccard\": \"jaccard\",\n",
    "    \"Dice\": \"dice\",\n",
    "}\n",
    "\n",
    "for metric_name, sklearn_metric in sklearn_metrics.items():\n",
    "    dist_matrix = pairwise_distances(fingerprints_array, metric=sklearn_metric)\n",
    "    \n",
    "    # Для сходства используем инверсию расстояния (1 - расстояние)\n",
    "    if sklearn_metric in [\"jaccard\", \"dice\"]:\n",
    "        sim_matrix = 1 - dist_matrix\n",
    "    else:\n",
    "        sim_matrix = dist_matrix\n",
    "    \n",
    "    heatmap(sim_matrix, f\"Similarity Heatmap ({metric_name})\", f\"{metric_name}_heatmap.png\")"
   ]
  },
  {
   "cell_type": "code",
   "execution_count": null,
   "metadata": {},
   "outputs": [],
   "source": []
  }
 ],
 "metadata": {
  "kernelspec": {
   "display_name": "ds",
   "language": "python",
   "name": "python3"
  },
  "language_info": {
   "codemirror_mode": {
    "name": "ipython",
    "version": 3
   },
   "file_extension": ".py",
   "mimetype": "text/x-python",
   "name": "python",
   "nbconvert_exporter": "python",
   "pygments_lexer": "ipython3",
   "version": "3.12.3"
  }
 },
 "nbformat": 4,
 "nbformat_minor": 2
}
