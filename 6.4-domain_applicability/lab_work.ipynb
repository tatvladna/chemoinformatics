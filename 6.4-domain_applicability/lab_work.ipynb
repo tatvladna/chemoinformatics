{
 "cells": [
  {
   "cell_type": "markdown",
   "metadata": {},
   "source": [
    "<h1 align=\"center\">Домен применимости (общая концепция, валидация, отбор, оценка)</h1>"
   ]
  },
  {
   "cell_type": "markdown",
   "metadata": {},
   "source": [
    "Организацией Экономического Сотрудничества и Развития (ОЭСР) сформулирован набор принципов, которым должны отвечать модели «структура-свойство» для того, чтобы их можно было использовать для нормативных целей.\n",
    "Модели \"структура-свойства\" должны удовлетворять следующим принципам:\n",
    "\n",
    "\n",
    "\n",
    "**Общая идея определения области применимости моделей: в область применимости модели должны попадать только те химические объекты, которые похожи на объекты, использованные для ее построения.**\n",
    "\n",
    "**Условно методы, используемые для определения областей применимости моделей \"структура-свойства\",  можно разделить на следующие:**\n",
    "\n",
    "* основанные на интервалах значений дескрипторов:\n",
    " 1. Bounding box\n",
    " 2. PCA Bounding box\n",
    " 3. TOPKAT Optimap Prediction Space\n",
    " 4. Standartization approach\n",
    " 5. Fragment Control\n",
    "* основанные на расстоянии до модели в химическом пространстве дескрипторов:\n",
    " 1. Leverage\n",
    " 2. Nearest Neighbors approach\n",
    " 3. Euclidean, Mahalanobis, City Block Distances\n",
    " 4. Hotelling T2 Test\n",
    " 5. DModX (Distance to the Model in X-Space)\n",
    " 6. Tanimoto Similarity\n",
    "* на основе оценки дисперсии плотности прогноза:\n",
    " 1. Parametric method\n",
    " 2. Nonparametric method (Gaussian Process)\n",
    "* базирующиеся на оценке плотностей распределения в химическом пространстве дескрипторов\n",
    "* на основе алгоритмов одноклассовой классификации:\n",
    " 1. One-Class Support Vector Machine\n",
    " 2. Isolation Forest\n",
    "* прочие \n",
    "  \n",
    "Несмотря на широкое разнообразие предложенных подходов к оценке домена применимости моделей, большинство их объединяет общая идея – в домен применимости модели должны попадать только те химические объекты, которые похожи на объекты, использованные для ее построения."
   ]
  },
  {
   "cell_type": "markdown",
   "metadata": {},
   "source": [
    "Все необходимые функции и объекты реализованы в пакетах scikit-learn (sklearn) [6] и CIMtools [7]."
   ]
  },
  {
   "cell_type": "markdown",
   "metadata": {},
   "source": [
    "### Импортируем все необходимые библиотеки"
   ]
  },
  {
   "cell_type": "code",
   "execution_count": 1,
   "metadata": {},
   "outputs": [],
   "source": [
    "from CIMtools.preprocessing import DictToConditions, ConditionsToDataFrame, \\\n",
    "                                   EquationTransformer, SolventVectorizer, Fragmentor, CGR\n",
    "from CIMtools.applicability_domain import Box, ReactionTypeControl, Leverage\n",
    "from CGRtools.files import RDFRead\n",
    "\n",
    "# from os import environ\n",
    "# from os.path import expanduser\n",
    "\n",
    "from sklearn.model_selection import KFold, train_test_split\n",
    "from sklearn.compose import ColumnTransformer\n",
    "from sklearn.pipeline import Pipeline\n",
    "from sklearn.preprocessing import StandardScaler, FunctionTransformer\n",
    "from sklearn.ensemble import RandomForestRegressor\n",
    "from sklearn.metrics import r2_score, mean_squared_error\n",
    "\n",
    "import numpy as np\n",
    "import pandas as pd"
   ]
  },
  {
   "cell_type": "markdown",
   "metadata": {},
   "source": [
    "\n",
    "### Функции для расчета характеристик качества моделей с использованием области применимости модели"
   ]
  },
  {
   "cell_type": "markdown",
   "metadata": {},
   "source": [
    "Определим функции для расчета характеристик качества моделей с использованием домена применимости модели."
   ]
  },
  {
   "cell_type": "markdown",
   "metadata": {},
   "source": [
    "*Расчет среднеквадратичной ошибки (RMSE) для объектов внутри области применимости модели:*"
   ]
  },
  {
   "cell_type": "code",
   "execution_count": 2,
   "metadata": {},
   "outputs": [],
   "source": [
    "def rmse_score_with_ad(Y_true, Y_pred, AD):\n",
    "    if AD.sum():  # количество объектов внутри области применимости модели\n",
    "        return np.sqrt(mean_squared_error(Y_true[AD], Y_pred[AD]))\n",
    "    return np.inf"
   ]
  },
  {
   "cell_type": "markdown",
   "metadata": {},
   "source": [
    "*Расчет коэффициента детерминации (R<sup>2</sup>) для объектов внутри области применимости модели:*"
   ]
  },
  {
   "cell_type": "code",
   "execution_count": 3,
   "metadata": {},
   "outputs": [],
   "source": [
    "def r2_score_with_ad(Y_true, Y_pred, AD):\n",
    "    if AD.sum():  # количество объектов внутри области применимости модели\n",
    "        return r2_score(Y_true[AD], Y_pred[AD])\n",
    "    return -np.inf"
   ]
  },
  {
   "cell_type": "markdown",
   "metadata": {},
   "source": [
    "*Доля объектов, принадлежащих области применимости модели:*"
   ]
  },
  {
   "cell_type": "code",
   "execution_count": 4,
   "metadata": {},
   "outputs": [],
   "source": [
    "def coverage(AD):\n",
    "    return sum(AD)/len(AD)"
   ]
  },
  {
   "cell_type": "markdown",
   "metadata": {},
   "source": [
    "### Генерируем фрагментные дескрипторы для реакций Дильс-Альдера "
   ]
  },
  {
   "cell_type": "markdown",
   "metadata": {},
   "source": [
    "Построение модели и оценка ее домена применимости будут показаны на наборе реакций Дильса-Альдера. Данный набор больше, чем использованный ранее, что позволит избежать ряда проблем небольших выборок, таких как смещенность и переобучение. Однако, все описанные манипуляции точно так же подходят и для моделирования свойств молекул."
   ]
  },
  {
   "cell_type": "code",
   "execution_count": 5,
   "metadata": {},
   "outputs": [],
   "source": [
    "data = RDFRead('data/DA.rdf').read()"
   ]
  },
  {
   "cell_type": "markdown",
   "metadata": {},
   "source": [
    "В отличие от молекул, свойства реакций сильно зависят от условий проведения, таких как: температура и растворитель. Поэтому здесь мы подготовим конвейер для извлечения дескрипторов растворителей и температуры."
   ]
  },
  {
   "cell_type": "code",
   "execution_count": 6,
   "metadata": {},
   "outputs": [],
   "source": [
    "def extract_meta(x):\n",
    "    return [y[0].meta for y in x]\n",
    "\n",
    "\n",
    "features = ColumnTransformer([('temp', EquationTransformer('1/x'), ['temperature']),\n",
    "                              ('solv', SolventVectorizer(), ['solvent.1']),\n",
    "                              ('amount', 'passthrough', ['solvent_amount.1']),])\n",
    "\n",
    "conditions = Pipeline([('meta', FunctionTransformer(extract_meta)),\n",
    "                       ('cond', DictToConditions(solvents=('additive.1',), \n",
    "                                                 temperature='temperature', \n",
    "                                                 amounts=('amount.1',))),\n",
    "                       ('desc', ConditionsToDataFrame()),\n",
    "                       ('final', features)])"
   ]
  },
  {
   "cell_type": "markdown",
   "metadata": {},
   "source": [
    "Конвейер выше принимает на вход объекты реакций и извлекает из них метаданные, в которых содержится информация об условиях. Температура преобразовывается в обратное значение (1/T, К<sup>-1</sup> ), а названия растворителей\n",
    "заменяются на вектора из 13 физико-химических параметров."
   ]
  },
  {
   "cell_type": "code",
   "execution_count": 7,
   "metadata": {},
   "outputs": [],
   "source": [
    "graph = Pipeline([('CGR', CGR()),\n",
    "                  ('frg', Fragmentor(max_length=4, useformalcharge=True)),\n",
    "                  ('scaler', StandardScaler())])"
   ]
  },
  {
   "cell_type": "markdown",
   "metadata": {},
   "source": [
    "Второй конвейер позволяет обработать структурную информацию реакций. Для этого воспользуемся подходом КГР (Конденсированного Графа Реакции). Поскольку фрагментные дескрипторы ISIDA поддерживают КГР, мы можем закодировать реакцию с вниманием на саму трансформацию (механизм реакции)."
   ]
  },
  {
   "cell_type": "code",
   "execution_count": 8,
   "metadata": {},
   "outputs": [],
   "source": [
    "dsc = ColumnTransformer([('cond', conditions, [0]),\n",
    "                         ('graph', graph, [0])])"
   ]
  },
  {
   "cell_type": "markdown",
   "metadata": {},
   "source": [
    "Объединив оба конвейера, можно получить итоговый конвейер, который преобразует структуру и условия в дескрипторы. Интерфейс полученного объекта аналогичен интерфейсу описанных ранее генераторов дескрипторов.\n",
    "Обратите внимание, что исходные данные из простого списка пришлось преобразовать во вложенные списки. Данное преобразование превратило список структур в матрицу с одной колонкой, потому что в scikit-learn свойства\n",
    "объектов должны описываться в виде матриц."
   ]
  },
  {
   "cell_type": "code",
   "execution_count": 9,
   "metadata": {},
   "outputs": [],
   "source": [
    "X = dsc.fit_transform([[x] for x in data])"
   ]
  },
  {
   "cell_type": "code",
   "execution_count": 10,
   "metadata": {},
   "outputs": [],
   "source": [
    "Y = np.array([float(r.meta['logK'])for r in data])  # предсказываемые свойства"
   ]
  },
  {
   "cell_type": "markdown",
   "metadata": {},
   "source": [
    "### Делим данные (X, Y, data) на обучающую и тестовую выборки"
   ]
  },
  {
   "cell_type": "code",
   "execution_count": 11,
   "metadata": {},
   "outputs": [],
   "source": [
    "X_train, X_test, \\\n",
    "y_train, y_test, \\\n",
    "data_train, data_test = train_test_split(X, Y, data, test_size=0.2, random_state=0)"
   ]
  },
  {
   "cell_type": "code",
   "execution_count": 12,
   "metadata": {},
   "outputs": [
    {
     "data": {
      "text/plain": [
       "((1492, 464), 1492, 1492)"
      ]
     },
     "execution_count": 12,
     "metadata": {},
     "output_type": "execute_result"
    }
   ],
   "source": [
    "X_train.shape, len(y_train), len(data_train)"
   ]
  },
  {
   "cell_type": "code",
   "execution_count": 13,
   "metadata": {},
   "outputs": [
    {
     "data": {
      "text/plain": [
       "((374, 464), 374, 374)"
      ]
     },
     "execution_count": 13,
     "metadata": {},
     "output_type": "execute_result"
    }
   ],
   "source": [
    "X_test.shape, len(y_test), len(data_test)"
   ]
  },
  {
   "cell_type": "markdown",
   "metadata": {},
   "source": [
    "### Строим регрессионную модель"
   ]
  },
  {
   "cell_type": "code",
   "execution_count": 14,
   "metadata": {},
   "outputs": [],
   "source": [
    "est = RandomForestRegressor(random_state=1, n_estimators=500, max_features=0.35, n_jobs=4)"
   ]
  },
  {
   "cell_type": "code",
   "execution_count": 15,
   "metadata": {},
   "outputs": [
    {
     "data": {
      "text/html": [
       "<style>#sk-container-id-1 {\n",
       "  /* Definition of color scheme common for light and dark mode */\n",
       "  --sklearn-color-text: black;\n",
       "  --sklearn-color-line: gray;\n",
       "  /* Definition of color scheme for unfitted estimators */\n",
       "  --sklearn-color-unfitted-level-0: #fff5e6;\n",
       "  --sklearn-color-unfitted-level-1: #f6e4d2;\n",
       "  --sklearn-color-unfitted-level-2: #ffe0b3;\n",
       "  --sklearn-color-unfitted-level-3: chocolate;\n",
       "  /* Definition of color scheme for fitted estimators */\n",
       "  --sklearn-color-fitted-level-0: #f0f8ff;\n",
       "  --sklearn-color-fitted-level-1: #d4ebff;\n",
       "  --sklearn-color-fitted-level-2: #b3dbfd;\n",
       "  --sklearn-color-fitted-level-3: cornflowerblue;\n",
       "\n",
       "  /* Specific color for light theme */\n",
       "  --sklearn-color-text-on-default-background: var(--sg-text-color, var(--theme-code-foreground, var(--jp-content-font-color1, black)));\n",
       "  --sklearn-color-background: var(--sg-background-color, var(--theme-background, var(--jp-layout-color0, white)));\n",
       "  --sklearn-color-border-box: var(--sg-text-color, var(--theme-code-foreground, var(--jp-content-font-color1, black)));\n",
       "  --sklearn-color-icon: #696969;\n",
       "\n",
       "  @media (prefers-color-scheme: dark) {\n",
       "    /* Redefinition of color scheme for dark theme */\n",
       "    --sklearn-color-text-on-default-background: var(--sg-text-color, var(--theme-code-foreground, var(--jp-content-font-color1, white)));\n",
       "    --sklearn-color-background: var(--sg-background-color, var(--theme-background, var(--jp-layout-color0, #111)));\n",
       "    --sklearn-color-border-box: var(--sg-text-color, var(--theme-code-foreground, var(--jp-content-font-color1, white)));\n",
       "    --sklearn-color-icon: #878787;\n",
       "  }\n",
       "}\n",
       "\n",
       "#sk-container-id-1 {\n",
       "  color: var(--sklearn-color-text);\n",
       "}\n",
       "\n",
       "#sk-container-id-1 pre {\n",
       "  padding: 0;\n",
       "}\n",
       "\n",
       "#sk-container-id-1 input.sk-hidden--visually {\n",
       "  border: 0;\n",
       "  clip: rect(1px 1px 1px 1px);\n",
       "  clip: rect(1px, 1px, 1px, 1px);\n",
       "  height: 1px;\n",
       "  margin: -1px;\n",
       "  overflow: hidden;\n",
       "  padding: 0;\n",
       "  position: absolute;\n",
       "  width: 1px;\n",
       "}\n",
       "\n",
       "#sk-container-id-1 div.sk-dashed-wrapped {\n",
       "  border: 1px dashed var(--sklearn-color-line);\n",
       "  margin: 0 0.4em 0.5em 0.4em;\n",
       "  box-sizing: border-box;\n",
       "  padding-bottom: 0.4em;\n",
       "  background-color: var(--sklearn-color-background);\n",
       "}\n",
       "\n",
       "#sk-container-id-1 div.sk-container {\n",
       "  /* jupyter's `normalize.less` sets `[hidden] { display: none; }`\n",
       "     but bootstrap.min.css set `[hidden] { display: none !important; }`\n",
       "     so we also need the `!important` here to be able to override the\n",
       "     default hidden behavior on the sphinx rendered scikit-learn.org.\n",
       "     See: https://github.com/scikit-learn/scikit-learn/issues/21755 */\n",
       "  display: inline-block !important;\n",
       "  position: relative;\n",
       "}\n",
       "\n",
       "#sk-container-id-1 div.sk-text-repr-fallback {\n",
       "  display: none;\n",
       "}\n",
       "\n",
       "div.sk-parallel-item,\n",
       "div.sk-serial,\n",
       "div.sk-item {\n",
       "  /* draw centered vertical line to link estimators */\n",
       "  background-image: linear-gradient(var(--sklearn-color-text-on-default-background), var(--sklearn-color-text-on-default-background));\n",
       "  background-size: 2px 100%;\n",
       "  background-repeat: no-repeat;\n",
       "  background-position: center center;\n",
       "}\n",
       "\n",
       "/* Parallel-specific style estimator block */\n",
       "\n",
       "#sk-container-id-1 div.sk-parallel-item::after {\n",
       "  content: \"\";\n",
       "  width: 100%;\n",
       "  border-bottom: 2px solid var(--sklearn-color-text-on-default-background);\n",
       "  flex-grow: 1;\n",
       "}\n",
       "\n",
       "#sk-container-id-1 div.sk-parallel {\n",
       "  display: flex;\n",
       "  align-items: stretch;\n",
       "  justify-content: center;\n",
       "  background-color: var(--sklearn-color-background);\n",
       "  position: relative;\n",
       "}\n",
       "\n",
       "#sk-container-id-1 div.sk-parallel-item {\n",
       "  display: flex;\n",
       "  flex-direction: column;\n",
       "}\n",
       "\n",
       "#sk-container-id-1 div.sk-parallel-item:first-child::after {\n",
       "  align-self: flex-end;\n",
       "  width: 50%;\n",
       "}\n",
       "\n",
       "#sk-container-id-1 div.sk-parallel-item:last-child::after {\n",
       "  align-self: flex-start;\n",
       "  width: 50%;\n",
       "}\n",
       "\n",
       "#sk-container-id-1 div.sk-parallel-item:only-child::after {\n",
       "  width: 0;\n",
       "}\n",
       "\n",
       "/* Serial-specific style estimator block */\n",
       "\n",
       "#sk-container-id-1 div.sk-serial {\n",
       "  display: flex;\n",
       "  flex-direction: column;\n",
       "  align-items: center;\n",
       "  background-color: var(--sklearn-color-background);\n",
       "  padding-right: 1em;\n",
       "  padding-left: 1em;\n",
       "}\n",
       "\n",
       "\n",
       "/* Toggleable style: style used for estimator/Pipeline/ColumnTransformer box that is\n",
       "clickable and can be expanded/collapsed.\n",
       "- Pipeline and ColumnTransformer use this feature and define the default style\n",
       "- Estimators will overwrite some part of the style using the `sk-estimator` class\n",
       "*/\n",
       "\n",
       "/* Pipeline and ColumnTransformer style (default) */\n",
       "\n",
       "#sk-container-id-1 div.sk-toggleable {\n",
       "  /* Default theme specific background. It is overwritten whether we have a\n",
       "  specific estimator or a Pipeline/ColumnTransformer */\n",
       "  background-color: var(--sklearn-color-background);\n",
       "}\n",
       "\n",
       "/* Toggleable label */\n",
       "#sk-container-id-1 label.sk-toggleable__label {\n",
       "  cursor: pointer;\n",
       "  display: block;\n",
       "  width: 100%;\n",
       "  margin-bottom: 0;\n",
       "  padding: 0.5em;\n",
       "  box-sizing: border-box;\n",
       "  text-align: center;\n",
       "}\n",
       "\n",
       "#sk-container-id-1 label.sk-toggleable__label-arrow:before {\n",
       "  /* Arrow on the left of the label */\n",
       "  content: \"▸\";\n",
       "  float: left;\n",
       "  margin-right: 0.25em;\n",
       "  color: var(--sklearn-color-icon);\n",
       "}\n",
       "\n",
       "#sk-container-id-1 label.sk-toggleable__label-arrow:hover:before {\n",
       "  color: var(--sklearn-color-text);\n",
       "}\n",
       "\n",
       "/* Toggleable content - dropdown */\n",
       "\n",
       "#sk-container-id-1 div.sk-toggleable__content {\n",
       "  max-height: 0;\n",
       "  max-width: 0;\n",
       "  overflow: hidden;\n",
       "  text-align: left;\n",
       "  /* unfitted */\n",
       "  background-color: var(--sklearn-color-unfitted-level-0);\n",
       "}\n",
       "\n",
       "#sk-container-id-1 div.sk-toggleable__content.fitted {\n",
       "  /* fitted */\n",
       "  background-color: var(--sklearn-color-fitted-level-0);\n",
       "}\n",
       "\n",
       "#sk-container-id-1 div.sk-toggleable__content pre {\n",
       "  margin: 0.2em;\n",
       "  border-radius: 0.25em;\n",
       "  color: var(--sklearn-color-text);\n",
       "  /* unfitted */\n",
       "  background-color: var(--sklearn-color-unfitted-level-0);\n",
       "}\n",
       "\n",
       "#sk-container-id-1 div.sk-toggleable__content.fitted pre {\n",
       "  /* unfitted */\n",
       "  background-color: var(--sklearn-color-fitted-level-0);\n",
       "}\n",
       "\n",
       "#sk-container-id-1 input.sk-toggleable__control:checked~div.sk-toggleable__content {\n",
       "  /* Expand drop-down */\n",
       "  max-height: 200px;\n",
       "  max-width: 100%;\n",
       "  overflow: auto;\n",
       "}\n",
       "\n",
       "#sk-container-id-1 input.sk-toggleable__control:checked~label.sk-toggleable__label-arrow:before {\n",
       "  content: \"▾\";\n",
       "}\n",
       "\n",
       "/* Pipeline/ColumnTransformer-specific style */\n",
       "\n",
       "#sk-container-id-1 div.sk-label input.sk-toggleable__control:checked~label.sk-toggleable__label {\n",
       "  color: var(--sklearn-color-text);\n",
       "  background-color: var(--sklearn-color-unfitted-level-2);\n",
       "}\n",
       "\n",
       "#sk-container-id-1 div.sk-label.fitted input.sk-toggleable__control:checked~label.sk-toggleable__label {\n",
       "  background-color: var(--sklearn-color-fitted-level-2);\n",
       "}\n",
       "\n",
       "/* Estimator-specific style */\n",
       "\n",
       "/* Colorize estimator box */\n",
       "#sk-container-id-1 div.sk-estimator input.sk-toggleable__control:checked~label.sk-toggleable__label {\n",
       "  /* unfitted */\n",
       "  background-color: var(--sklearn-color-unfitted-level-2);\n",
       "}\n",
       "\n",
       "#sk-container-id-1 div.sk-estimator.fitted input.sk-toggleable__control:checked~label.sk-toggleable__label {\n",
       "  /* fitted */\n",
       "  background-color: var(--sklearn-color-fitted-level-2);\n",
       "}\n",
       "\n",
       "#sk-container-id-1 div.sk-label label.sk-toggleable__label,\n",
       "#sk-container-id-1 div.sk-label label {\n",
       "  /* The background is the default theme color */\n",
       "  color: var(--sklearn-color-text-on-default-background);\n",
       "}\n",
       "\n",
       "/* On hover, darken the color of the background */\n",
       "#sk-container-id-1 div.sk-label:hover label.sk-toggleable__label {\n",
       "  color: var(--sklearn-color-text);\n",
       "  background-color: var(--sklearn-color-unfitted-level-2);\n",
       "}\n",
       "\n",
       "/* Label box, darken color on hover, fitted */\n",
       "#sk-container-id-1 div.sk-label.fitted:hover label.sk-toggleable__label.fitted {\n",
       "  color: var(--sklearn-color-text);\n",
       "  background-color: var(--sklearn-color-fitted-level-2);\n",
       "}\n",
       "\n",
       "/* Estimator label */\n",
       "\n",
       "#sk-container-id-1 div.sk-label label {\n",
       "  font-family: monospace;\n",
       "  font-weight: bold;\n",
       "  display: inline-block;\n",
       "  line-height: 1.2em;\n",
       "}\n",
       "\n",
       "#sk-container-id-1 div.sk-label-container {\n",
       "  text-align: center;\n",
       "}\n",
       "\n",
       "/* Estimator-specific */\n",
       "#sk-container-id-1 div.sk-estimator {\n",
       "  font-family: monospace;\n",
       "  border: 1px dotted var(--sklearn-color-border-box);\n",
       "  border-radius: 0.25em;\n",
       "  box-sizing: border-box;\n",
       "  margin-bottom: 0.5em;\n",
       "  /* unfitted */\n",
       "  background-color: var(--sklearn-color-unfitted-level-0);\n",
       "}\n",
       "\n",
       "#sk-container-id-1 div.sk-estimator.fitted {\n",
       "  /* fitted */\n",
       "  background-color: var(--sklearn-color-fitted-level-0);\n",
       "}\n",
       "\n",
       "/* on hover */\n",
       "#sk-container-id-1 div.sk-estimator:hover {\n",
       "  /* unfitted */\n",
       "  background-color: var(--sklearn-color-unfitted-level-2);\n",
       "}\n",
       "\n",
       "#sk-container-id-1 div.sk-estimator.fitted:hover {\n",
       "  /* fitted */\n",
       "  background-color: var(--sklearn-color-fitted-level-2);\n",
       "}\n",
       "\n",
       "/* Specification for estimator info (e.g. \"i\" and \"?\") */\n",
       "\n",
       "/* Common style for \"i\" and \"?\" */\n",
       "\n",
       ".sk-estimator-doc-link,\n",
       "a:link.sk-estimator-doc-link,\n",
       "a:visited.sk-estimator-doc-link {\n",
       "  float: right;\n",
       "  font-size: smaller;\n",
       "  line-height: 1em;\n",
       "  font-family: monospace;\n",
       "  background-color: var(--sklearn-color-background);\n",
       "  border-radius: 1em;\n",
       "  height: 1em;\n",
       "  width: 1em;\n",
       "  text-decoration: none !important;\n",
       "  margin-left: 1ex;\n",
       "  /* unfitted */\n",
       "  border: var(--sklearn-color-unfitted-level-1) 1pt solid;\n",
       "  color: var(--sklearn-color-unfitted-level-1);\n",
       "}\n",
       "\n",
       ".sk-estimator-doc-link.fitted,\n",
       "a:link.sk-estimator-doc-link.fitted,\n",
       "a:visited.sk-estimator-doc-link.fitted {\n",
       "  /* fitted */\n",
       "  border: var(--sklearn-color-fitted-level-1) 1pt solid;\n",
       "  color: var(--sklearn-color-fitted-level-1);\n",
       "}\n",
       "\n",
       "/* On hover */\n",
       "div.sk-estimator:hover .sk-estimator-doc-link:hover,\n",
       ".sk-estimator-doc-link:hover,\n",
       "div.sk-label-container:hover .sk-estimator-doc-link:hover,\n",
       ".sk-estimator-doc-link:hover {\n",
       "  /* unfitted */\n",
       "  background-color: var(--sklearn-color-unfitted-level-3);\n",
       "  color: var(--sklearn-color-background);\n",
       "  text-decoration: none;\n",
       "}\n",
       "\n",
       "div.sk-estimator.fitted:hover .sk-estimator-doc-link.fitted:hover,\n",
       ".sk-estimator-doc-link.fitted:hover,\n",
       "div.sk-label-container:hover .sk-estimator-doc-link.fitted:hover,\n",
       ".sk-estimator-doc-link.fitted:hover {\n",
       "  /* fitted */\n",
       "  background-color: var(--sklearn-color-fitted-level-3);\n",
       "  color: var(--sklearn-color-background);\n",
       "  text-decoration: none;\n",
       "}\n",
       "\n",
       "/* Span, style for the box shown on hovering the info icon */\n",
       ".sk-estimator-doc-link span {\n",
       "  display: none;\n",
       "  z-index: 9999;\n",
       "  position: relative;\n",
       "  font-weight: normal;\n",
       "  right: .2ex;\n",
       "  padding: .5ex;\n",
       "  margin: .5ex;\n",
       "  width: min-content;\n",
       "  min-width: 20ex;\n",
       "  max-width: 50ex;\n",
       "  color: var(--sklearn-color-text);\n",
       "  box-shadow: 2pt 2pt 4pt #999;\n",
       "  /* unfitted */\n",
       "  background: var(--sklearn-color-unfitted-level-0);\n",
       "  border: .5pt solid var(--sklearn-color-unfitted-level-3);\n",
       "}\n",
       "\n",
       ".sk-estimator-doc-link.fitted span {\n",
       "  /* fitted */\n",
       "  background: var(--sklearn-color-fitted-level-0);\n",
       "  border: var(--sklearn-color-fitted-level-3);\n",
       "}\n",
       "\n",
       ".sk-estimator-doc-link:hover span {\n",
       "  display: block;\n",
       "}\n",
       "\n",
       "/* \"?\"-specific style due to the `<a>` HTML tag */\n",
       "\n",
       "#sk-container-id-1 a.estimator_doc_link {\n",
       "  float: right;\n",
       "  font-size: 1rem;\n",
       "  line-height: 1em;\n",
       "  font-family: monospace;\n",
       "  background-color: var(--sklearn-color-background);\n",
       "  border-radius: 1rem;\n",
       "  height: 1rem;\n",
       "  width: 1rem;\n",
       "  text-decoration: none;\n",
       "  /* unfitted */\n",
       "  color: var(--sklearn-color-unfitted-level-1);\n",
       "  border: var(--sklearn-color-unfitted-level-1) 1pt solid;\n",
       "}\n",
       "\n",
       "#sk-container-id-1 a.estimator_doc_link.fitted {\n",
       "  /* fitted */\n",
       "  border: var(--sklearn-color-fitted-level-1) 1pt solid;\n",
       "  color: var(--sklearn-color-fitted-level-1);\n",
       "}\n",
       "\n",
       "/* On hover */\n",
       "#sk-container-id-1 a.estimator_doc_link:hover {\n",
       "  /* unfitted */\n",
       "  background-color: var(--sklearn-color-unfitted-level-3);\n",
       "  color: var(--sklearn-color-background);\n",
       "  text-decoration: none;\n",
       "}\n",
       "\n",
       "#sk-container-id-1 a.estimator_doc_link.fitted:hover {\n",
       "  /* fitted */\n",
       "  background-color: var(--sklearn-color-fitted-level-3);\n",
       "}\n",
       "</style><div id=\"sk-container-id-1\" class=\"sk-top-container\"><div class=\"sk-text-repr-fallback\"><pre>RandomForestRegressor(max_features=0.35, n_estimators=500, n_jobs=4,\n",
       "                      random_state=1)</pre><b>In a Jupyter environment, please rerun this cell to show the HTML representation or trust the notebook. <br />On GitHub, the HTML representation is unable to render, please try loading this page with nbviewer.org.</b></div><div class=\"sk-container\" hidden><div class=\"sk-item\"><div class=\"sk-estimator fitted sk-toggleable\"><input class=\"sk-toggleable__control sk-hidden--visually\" id=\"sk-estimator-id-1\" type=\"checkbox\" checked><label for=\"sk-estimator-id-1\" class=\"sk-toggleable__label fitted sk-toggleable__label-arrow fitted\">&nbsp;&nbsp;RandomForestRegressor<a class=\"sk-estimator-doc-link fitted\" rel=\"noreferrer\" target=\"_blank\" href=\"https://scikit-learn.org/1.5/modules/generated/sklearn.ensemble.RandomForestRegressor.html\">?<span>Documentation for RandomForestRegressor</span></a><span class=\"sk-estimator-doc-link fitted\">i<span>Fitted</span></span></label><div class=\"sk-toggleable__content fitted\"><pre>RandomForestRegressor(max_features=0.35, n_estimators=500, n_jobs=4,\n",
       "                      random_state=1)</pre></div> </div></div></div></div>"
      ],
      "text/plain": [
       "RandomForestRegressor(max_features=0.35, n_estimators=500, n_jobs=4,\n",
       "                      random_state=1)"
      ]
     },
     "execution_count": 15,
     "metadata": {},
     "output_type": "execute_result"
    }
   ],
   "source": [
    "est.fit(X_train, y_train)"
   ]
  },
  {
   "cell_type": "markdown",
   "metadata": {},
   "source": [
    "### Предсказываем константу скорости (lоgK) реакций "
   ]
  },
  {
   "cell_type": "code",
   "execution_count": 16,
   "metadata": {},
   "outputs": [],
   "source": [
    "y_pred = est.predict(X_test)"
   ]
  },
  {
   "cell_type": "markdown",
   "metadata": {},
   "source": [
    "Оцениваем предсказательную способность модели."
   ]
  },
  {
   "cell_type": "code",
   "execution_count": 17,
   "metadata": {},
   "outputs": [],
   "source": [
    "r2 = r2_score(y_test, y_pred)\n",
    "rmse = np.sqrt(mean_squared_error(y_test, y_pred))"
   ]
  },
  {
   "cell_type": "code",
   "execution_count": 18,
   "metadata": {},
   "outputs": [
    {
     "data": {
      "text/plain": [
       "(np.float64(0.64), 0.89)"
      ]
     },
     "execution_count": 18,
     "metadata": {},
     "output_type": "execute_result"
    }
   ],
   "source": [
    "round(rmse, 2), round(r2, 2)"
   ]
  },
  {
   "cell_type": "markdown",
   "metadata": {},
   "source": [
    "### Строим область применимости модели"
   ]
  },
  {
   "cell_type": "markdown",
   "metadata": {},
   "source": [
    "### Bounding Box"
   ]
  },
  {
   "cell_type": "markdown",
   "metadata": {},
   "source": [
    "В данном случае домен применимости моделей представляет собой D-мерный прямоугольный параллелепипед, определенный на основе максимальных и минимальных значений каждого дескриптора, используемого для построения модели. Объект принадлежит домену применимости моделей, если рассчитанные для него значения всех присутствующих в модели дескрипторов не выходят за границы соответствующего интервала. Метод не имеет внутренних настраиваемых параметров. Интерфейс метода аналогичен обычным моделям."
   ]
  },
  {
   "cell_type": "markdown",
   "metadata": {},
   "source": [
    "<img src='images/Bounding_Box.png'>"
   ]
  },
  {
   "cell_type": "code",
   "execution_count": 19,
   "metadata": {},
   "outputs": [],
   "source": [
    "bb = Box()\n",
    "\n",
    "bb.fit(X_train)  # обучаем метод\n",
    "\n",
    "ad_bb = bb.predict(X_test)  # предсказываем принадлежность объектов из тестовой выборки \n",
    "                            # домену применимости модели"
   ]
  },
  {
   "cell_type": "markdown",
   "metadata": {},
   "source": [
    "Проверяем, как изменилось качество модели с использованием Bounding Box в качестве области применимости модели.  \n",
    "  \n",
    "Для этого вызовем функции `rmse_score_with_ad( )`, `r2_score_with_ad( )` и рассчитаем показатели качества моделей для объектов внутри области применимости модели и для объектов вне области применимости модели.\n",
    "  \n",
    "После чего рассчитаем долю объектов из тестовой выборки, которые остались в области применимости модели после применения метода. Для этого вызовем функцию `coverage( )`."
   ]
  },
  {
   "cell_type": "code",
   "execution_count": 20,
   "metadata": {},
   "outputs": [],
   "source": [
    "rmse_inliers_with_bb = rmse_score_with_ad(y_test, y_pred, ad_bb)\n",
    "r2_inliers_with_bb = r2_score_with_ad(y_test, y_pred, ad_bb)\n",
    "coverage_inliers_bb = coverage(ad_bb)"
   ]
  },
  {
   "cell_type": "code",
   "execution_count": 21,
   "metadata": {},
   "outputs": [],
   "source": [
    "rmse_outliers_with_bb = rmse_score_with_ad(y_test, y_pred, ~ad_bb)\n",
    "r2_outliers_with_bb = r2_score_with_ad(y_test, y_pred, ~ad_bb)\n",
    "coverage_outliers_bb = coverage(~ad_bb)  # ~ - инвертирование булевого значения"
   ]
  },
  {
   "cell_type": "code",
   "execution_count": 22,
   "metadata": {},
   "outputs": [],
   "source": [
    "result_df = pd.DataFrame(\n",
    "    {'RMSE': [f\"{rmse_inliers_with_bb:.2f}\", \n",
    "              f\"{rmse_outliers_with_bb:.2f}\"],  \n",
    "     'R2': [f\"{r2_inliers_with_bb:.2f}\", \n",
    "            f\"{r2_outliers_with_bb:.2f}\"],\n",
    "     'Coverage': [f\"{coverage_inliers_bb:.3f}\", \n",
    "                  f\"{coverage_outliers_bb:.3f}\"]}, \n",
    "    index=['Внутри', 'Снаружи'])"
   ]
  },
  {
   "cell_type": "code",
   "execution_count": 23,
   "metadata": {},
   "outputs": [
    {
     "data": {
      "text/html": [
       "<div>\n",
       "<style scoped>\n",
       "    .dataframe tbody tr th:only-of-type {\n",
       "        vertical-align: middle;\n",
       "    }\n",
       "\n",
       "    .dataframe tbody tr th {\n",
       "        vertical-align: top;\n",
       "    }\n",
       "\n",
       "    .dataframe thead th {\n",
       "        text-align: right;\n",
       "    }\n",
       "</style>\n",
       "<table border=\"1\" class=\"dataframe\">\n",
       "  <thead>\n",
       "    <tr style=\"text-align: right;\">\n",
       "      <th></th>\n",
       "      <th>RMSE</th>\n",
       "      <th>R2</th>\n",
       "      <th>Coverage</th>\n",
       "    </tr>\n",
       "  </thead>\n",
       "  <tbody>\n",
       "    <tr>\n",
       "      <th>Внутри</th>\n",
       "      <td>0.59</td>\n",
       "      <td>0.90</td>\n",
       "      <td>0.987</td>\n",
       "    </tr>\n",
       "    <tr>\n",
       "      <th>Снаружи</th>\n",
       "      <td>2.16</td>\n",
       "      <td>0.42</td>\n",
       "      <td>0.013</td>\n",
       "    </tr>\n",
       "  </tbody>\n",
       "</table>\n",
       "</div>"
      ],
      "text/plain": [
       "         RMSE    R2 Coverage\n",
       "Внутри   0.59  0.90    0.987\n",
       "Снаружи  2.16  0.42    0.013"
      ]
     },
     "execution_count": 23,
     "metadata": {},
     "output_type": "execute_result"
    }
   ],
   "source": [
    "result_df"
   ]
  },
  {
   "cell_type": "markdown",
   "metadata": {},
   "source": [
    "Как видно из таблицы, реакции, не попавшие в домен применимости, предсказываются плохо."
   ]
  },
  {
   "cell_type": "markdown",
   "metadata": {},
   "source": [
    "## Reaction Type Control"
   ]
  },
  {
   "cell_type": "markdown",
   "metadata": {},
   "source": [
    "Этот способ оценки домена применимости моделей предложен в нашей лаборатории [8] специально для моделирования связи «структура-реакционная способность» (Quantitative Structure-Reactivity Relationship, QSRR). Метод основан на использовании реакционных центров и их окружения. Тип реакционного центра определяется с помощью сигнатуры КГР, сгенерированной библиотекой **CGRtools**. Под реакционной сигнатурой понимается уникальное символьное представление\n",
    "подструктуры реакции, обусловленное определенным окружением атомов реакционного центра. Создание сигнатуры включает в себя: 1 – кодирование реакции в виде КГР, 2 – выделение на КГР одного или нескольких реакционных центров (т.е. подграфов КГР, вершины которых связаны путями, проходящими исключительно по динамическим связям либо по смежным динамическим атомам, связанным обычными связями), выделение атомов окружения каждого из реакционных центров определенного радиуса (топологического расстояния от атома окружения до ближайшего динамического атома или атома, инцидентного динамической связи), 3 – введение канонической нумерации атомов реакционного центра с окружением с использованием алгоритма, аналогичного алгоритму Моргана, 4 – создание уникального алфавитно-цифрового (линейного) преставления. Радиус окружения, включенный в сигнатуру, являлся гиперпараметром метода. Если радиус равен 0, сигнатура реакции включает в себя только атомы реакционного центра. Обучение в данном методе представляет собой запоминание сигнатуры реакционных центров реакций. Если тестовая реакция с таким реакционный центром была в обучающей выборке, то объект принадлежит домену применимости модели."
   ]
  },
  {
   "cell_type": "code",
   "execution_count": 24,
   "metadata": {},
   "outputs": [],
   "source": [
    "rtc = ReactionTypeControl(env=2)\n",
    "\n",
    "rtc.fit(data_train) # обучаем метод\n",
    "\n",
    "ad_rtc = rtc.predict(data_test)\n",
    "\n",
    "rmse_inliers_with_rtc = rmse_score_with_ad(y_test, y_pred, ad_rtc)\n",
    "r2_inliers_with_rtc = r2_score_with_ad(y_test, y_pred, ad_rtc)\n",
    "coverage_inliers_with_rtc = coverage(ad_rtc)\n",
    "\n",
    "rmse_outliers_with_rtc = rmse_score_with_ad(y_test, y_pred, ~ad_rtc)\n",
    "r2_outliers_with_rtc = r2_score_with_ad(y_test, y_pred, ~ad_rtc)\n",
    "coverage_outliers_with_rtc = coverage(~ad_rtc)"
   ]
  },
  {
   "cell_type": "code",
   "execution_count": 25,
   "metadata": {},
   "outputs": [],
   "source": [
    "result_df = pd.DataFrame(\n",
    "    {'RMSE': [f\"{rmse_inliers_with_rtc:.2f}\", \n",
    "              f\"{rmse_outliers_with_rtc:.2f}\"],  \n",
    "     'R2': [f\"{r2_inliers_with_rtc:.2f}\", \n",
    "            f\"{r2_outliers_with_rtc:.2f}\"],\n",
    "     'Coverage': [f\"{coverage_inliers_with_rtc:.3f}\", \n",
    "                  f\"{coverage_outliers_with_rtc:.3f}\"]}, \n",
    "    index=['Внутри', 'Снаружи'])"
   ]
  },
  {
   "cell_type": "code",
   "execution_count": 26,
   "metadata": {},
   "outputs": [
    {
     "data": {
      "text/html": [
       "<div>\n",
       "<style scoped>\n",
       "    .dataframe tbody tr th:only-of-type {\n",
       "        vertical-align: middle;\n",
       "    }\n",
       "\n",
       "    .dataframe tbody tr th {\n",
       "        vertical-align: top;\n",
       "    }\n",
       "\n",
       "    .dataframe thead th {\n",
       "        text-align: right;\n",
       "    }\n",
       "</style>\n",
       "<table border=\"1\" class=\"dataframe\">\n",
       "  <thead>\n",
       "    <tr style=\"text-align: right;\">\n",
       "      <th></th>\n",
       "      <th>RMSE</th>\n",
       "      <th>R2</th>\n",
       "      <th>Coverage</th>\n",
       "    </tr>\n",
       "  </thead>\n",
       "  <tbody>\n",
       "    <tr>\n",
       "      <th>Внутри</th>\n",
       "      <td>0.46</td>\n",
       "      <td>0.94</td>\n",
       "      <td>0.936</td>\n",
       "    </tr>\n",
       "    <tr>\n",
       "      <th>Снаружи</th>\n",
       "      <td>1.81</td>\n",
       "      <td>0.58</td>\n",
       "      <td>0.064</td>\n",
       "    </tr>\n",
       "  </tbody>\n",
       "</table>\n",
       "</div>"
      ],
      "text/plain": [
       "         RMSE    R2 Coverage\n",
       "Внутри   0.46  0.94    0.936\n",
       "Снаружи  1.81  0.58    0.064"
      ]
     },
     "execution_count": 26,
     "metadata": {},
     "output_type": "execute_result"
    }
   ],
   "source": [
    "result_df"
   ]
  },
  {
   "cell_type": "markdown",
   "metadata": {},
   "source": [
    "Данный тип домена применимости тоже отделил часть реакций за область применимости."
   ]
  },
  {
   "cell_type": "markdown",
   "metadata": {},
   "source": [
    "## Leverage"
   ]
  },
  {
   "cell_type": "markdown",
   "metadata": {},
   "source": [
    "Для определения домена применимости модели в данном случае используется числовая характеристика (показатель\n",
    "влиятельности), характеризующая расстояние между рассматриваемым химическим объектом и геометрическим центром облака точек, образованного входящими в обучающую выборку объектами. Показатель влиятельности (англ. *Leverage*) – это величина h, определяемая как  \n",
    "*h = х<sup>T</sup>(X<sup>T</sup>X)<sup>-1</sup>х,*  \n",
    "где *X* – матрица, первый столбец которой состоит из единиц, а элемент на пересечении *i*-ой строки и *(j+1)*-ого столбца равен значению *j*-ого дескриптора для *i*-ого химического объекта из обучающей выборки. Считается, что объект принадлежит домену применимости модели, если для него значение показателя влиятельности не превышает пороговое. Недостатком данного метода является отсутствие строгих правил в литературе по определению порогового значения. Однако мы можем найти оптимальный порог *h** в ходе процедуры внутренней перекрестной проверки с использованием некоторой метрики качества."
   ]
  },
  {
   "cell_type": "markdown",
   "metadata": {},
   "source": [
    "<img src='images/Leverage.png'>"
   ]
  },
  {
   "cell_type": "code",
   "execution_count": 27,
   "metadata": {},
   "outputs": [],
   "source": [
    "lev = Leverage(threshold='auto') # если threshold='auto', то отсечка будет определяться как h*=3*(M+1)/N\n",
    "                                 # если threshold='cv', то отсечка будет найдена с помощью внутренней \n",
    "                                 # кросс-валидации\n",
    "\n",
    "lev.fit(X_train)\n",
    "\n",
    "ad_lev = lev.predict(X_test)\n",
    "\n",
    "rmse_inliers_with_lev = rmse_score_with_ad(y_test, y_pred, ad_lev)\n",
    "r2_inliers_with_lev = r2_score_with_ad(y_test, y_pred, ad_lev)\n",
    "coverage_inliers_with_lev = coverage(ad_lev)\n",
    "\n",
    "rmse_outliers_with_lev = rmse_score_with_ad(y_test, y_pred, ~ad_lev)\n",
    "r2_outliers_with_lev = r2_score_with_ad(y_test, y_pred, ~ad_lev)\n",
    "coverage_outliers_with_lev = coverage(~ad_lev)"
   ]
  },
  {
   "cell_type": "code",
   "execution_count": 28,
   "metadata": {},
   "outputs": [],
   "source": [
    "result_df = pd.DataFrame(\n",
    "    {'RMSE': [f\"{rmse_inliers_with_lev:.2f}\", \n",
    "              f\"{rmse_outliers_with_lev:.2f}\"],  \n",
    "     'R2': [f\"{r2_inliers_with_lev:.2f}\", \n",
    "            f\"{r2_outliers_with_lev:.2f}\"],\n",
    "     'Coverage': [f\"{coverage_inliers_with_lev:.3f}\", \n",
    "                  f\"{coverage_outliers_with_lev:.3f}\"]}, \n",
    "    index=['Внутри', 'Снаружи'])"
   ]
  },
  {
   "cell_type": "code",
   "execution_count": 29,
   "metadata": {},
   "outputs": [
    {
     "data": {
      "text/html": [
       "<div>\n",
       "<style scoped>\n",
       "    .dataframe tbody tr th:only-of-type {\n",
       "        vertical-align: middle;\n",
       "    }\n",
       "\n",
       "    .dataframe tbody tr th {\n",
       "        vertical-align: top;\n",
       "    }\n",
       "\n",
       "    .dataframe thead th {\n",
       "        text-align: right;\n",
       "    }\n",
       "</style>\n",
       "<table border=\"1\" class=\"dataframe\">\n",
       "  <thead>\n",
       "    <tr style=\"text-align: right;\">\n",
       "      <th></th>\n",
       "      <th>RMSE</th>\n",
       "      <th>R2</th>\n",
       "      <th>Coverage</th>\n",
       "    </tr>\n",
       "  </thead>\n",
       "  <tbody>\n",
       "    <tr>\n",
       "      <th>Внутри</th>\n",
       "      <td>0.51</td>\n",
       "      <td>0.92</td>\n",
       "      <td>0.960</td>\n",
       "    </tr>\n",
       "    <tr>\n",
       "      <th>Снаружи</th>\n",
       "      <td>1.95</td>\n",
       "      <td>0.49</td>\n",
       "      <td>0.040</td>\n",
       "    </tr>\n",
       "  </tbody>\n",
       "</table>\n",
       "</div>"
      ],
      "text/plain": [
       "         RMSE    R2 Coverage\n",
       "Внутри   0.51  0.92    0.960\n",
       "Снаружи  1.95  0.49    0.040"
      ]
     },
     "execution_count": 29,
     "metadata": {},
     "output_type": "execute_result"
    }
   ],
   "source": [
    "result_df"
   ]
  },
  {
   "cell_type": "markdown",
   "metadata": {},
   "source": [
    "Данный метод тоже показал аналогичную тенденцию."
   ]
  },
  {
   "cell_type": "markdown",
   "metadata": {},
   "source": [
    "Как видно из приведенных примеров, домен применимости позволяет контролировать, когда стоит доверять модели, а когда нет. Применительно к разработке лекарств, это позволит значительно сократить число ложноположительных или ложноотрицательных предсказаний модели. Особенно это полезно на стадии поиска структур с желаемой активностью."
   ]
  },
  {
   "cell_type": "markdown",
   "metadata": {},
   "source": [
    "C некоторыми другими методами определения области применимости моделей, а также с примерами использования домена применимости модели в процессе QSPR моделирования, можно ознакомиться по ссылке https://cimtools.readthedocs.io/en/latest/tutorial/applicability_domain.html#  "
   ]
  }
 ],
 "metadata": {
  "kernelspec": {
   "display_name": "env_chemoinformatics",
   "language": "python",
   "name": "python3"
  },
  "language_info": {
   "codemirror_mode": {
    "name": "ipython",
    "version": 3
   },
   "file_extension": ".py",
   "mimetype": "text/x-python",
   "name": "python",
   "nbconvert_exporter": "python",
   "pygments_lexer": "ipython3",
   "version": "3.12.8"
  }
 },
 "nbformat": 4,
 "nbformat_minor": 2
}
