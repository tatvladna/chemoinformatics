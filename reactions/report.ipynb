{
 "cells": [
  {
   "cell_type": "markdown",
   "metadata": {},
   "source": [
    "----------------\n",
    "\n",
    "# Отчет по лабораторной работе: \"Работа с реакциями\"\n",
    "\n",
    "---------"
   ]
  },
  {
   "cell_type": "markdown",
   "metadata": {},
   "source": [
    "## Дата выполнения лабораторной работы\n",
    "\n",
    "`04.01.2025`"
   ]
  },
  {
   "cell_type": "markdown",
   "metadata": {},
   "source": [
    "---\n",
    "\n",
    "## Название лабораторной работы \n",
    "\n",
    "`\"Работа с реакциями\"`"
   ]
  },
  {
   "cell_type": "markdown",
   "metadata": {},
   "source": [
    "---\n",
    "\n",
    "## Цель лабораторной работы\n"
   ]
  },
  {
   "cell_type": "markdown",
   "metadata": {},
   "source": [
    "----------------------\n",
    "\n",
    "## Задачи лабораторной работы\n"
   ]
  },
  {
   "cell_type": "markdown",
   "metadata": {},
   "source": [
    "----\n",
    "\n",
    "## Материалы, использовавшиеся для выполнения лабораторной работы (программы, исходные файлы ?) \n",
    "\n",
    "1. [Официальная документация RDKit](https://www.rdkit.org/docs/source/rdkit.Chem.html)\n",
    "2. [PubChem](https://pubchem.ncbi.nlm.nih.gov/) для создания локальной база данных хиимических соединений для изучения хемоинформатических библиотек.\n",
    "3. [Официальная документация CGRtools](https://github.com/cimm-kzn/CGRtools)"
   ]
  },
  {
   "cell_type": "markdown",
   "metadata": {},
   "source": [
    "----\n",
    "\n",
    "## Поэтапное изложение процедуры\n",
    "\n",
    "\n"
   ]
  },
  {
   "cell_type": "markdown",
   "metadata": {},
   "source": [
    "-----\n",
    "\n",
    "## Результаты работы (+ таблицы, графики, иллюстрации?, если требуются)\n",
    "\n"
   ]
  },
  {
   "cell_type": "markdown",
   "metadata": {},
   "source": [
    "----\n",
    "\n",
    "## Выводы \n"
   ]
  },
  {
   "cell_type": "markdown",
   "metadata": {},
   "source": []
  }
 ],
 "metadata": {
  "language_info": {
   "name": "python"
  }
 },
 "nbformat": 4,
 "nbformat_minor": 2
}
