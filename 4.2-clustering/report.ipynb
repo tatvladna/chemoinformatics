{
 "cells": [
  {
   "cell_type": "markdown",
   "metadata": {},
   "source": [
    "----------------\n",
    "\n",
    "# Отчет по лабораторной работе: \"Кластеризация\"\n",
    "\n",
    "---------"
   ]
  },
  {
   "cell_type": "markdown",
   "metadata": {},
   "source": [
    "## Дата выполнения лабораторной работы\n",
    "\n",
    "`04.01.2025`"
   ]
  },
  {
   "cell_type": "markdown",
   "metadata": {},
   "source": [
    "---\n",
    "\n",
    "## Название лабораторной работы \n",
    "\n",
    "`\"Кластеризация\"`"
   ]
  },
  {
   "cell_type": "markdown",
   "metadata": {},
   "source": [
    "---\n",
    "\n",
    "## Цель лабораторной работы\n",
    "\n",
    "`Изучение кластеризации с помощью библиотеки scikit-learn на языке программирования Python.`"
   ]
  },
  {
   "cell_type": "markdown",
   "metadata": {},
   "source": [
    "----------------------\n",
    "\n",
    "## Задачи лабораторной работы\n",
    "\n",
    "- Изучение популярного алгоритма кластеризации: k-means. Создание примера использование данного алгоритма.\n",
    "- Изучение подбора оптимального количества кластеров. \n",
    "- Построение и интрепретация вспомогательных графиков при изучении алгоритма кластеризации.\n",
    "- Знакомтсво со сложностью алгоритма.\n",
    "- Изучение агломеративной кластеризации\n",
    "\n"
   ]
  },
  {
   "cell_type": "markdown",
   "metadata": {},
   "source": [
    "----\n",
    "\n",
    "## Материалы, использовавшиеся для выполнения лабораторной работы (программы, исходные файлы ?) \n",
    "\n",
    "1. [Официальная документация RDKit](https://www.rdkit.org/docs/source/rdkit.Chem.html)\n",
    "2. [Официальная документация метода k-means из scikit-learn](https://scikit-learn.org/1.5/modules/generated/sklearn.cluster.KMeans.html)"
   ]
  },
  {
   "cell_type": "markdown",
   "metadata": {},
   "source": [
    "----\n",
    "\n",
    "## Поэтапное изложение процедуры\n",
    "\n",
    "Были сгенерированы дескрипторы в виде отпечатков Моргана с длиной битовой строки 1024 и радиусом окружения 2 на основе локальной базы данных из 1100 SMILES химических соединений. Далее, для сравнения, было создано несколько выборок из 110 молекул: \n",
    "\n",
    "- Случайная выборка.\n",
    "- Выборка с использованием агломеративной иерархической кластеризации.\n",
    "- Выборка с использованием метода сфер исключения (sphere_exclusion).\n",
    "\n",
    "После этого был произведен расчет среднего количества активных соединений из каждой выборки.\n"
   ]
  },
  {
   "cell_type": "markdown",
   "metadata": {},
   "source": [
    "-----\n",
    "\n",
    "## Результаты работы (+ таблицы, графики, иллюстрации?, если требуются)\n",
    "\n",
    "Методы кластеризации (average и complete) выявляют меньше активных молекул, чем случайная выборка или метод исключения сфер.\n",
    "Метод исключения сфер близок по эффективности к случайной выборке, но даёт немного более высокие проценты.\n",
    "\n",
    "Увеличение числа повторений незначительно влияет на результат для методов кластеризации, но заметно усредняет результаты для случайной выборки."
   ]
  },
  {
   "cell_type": "code",
   "execution_count": 1,
   "metadata": {},
   "outputs": [
    {
     "data": {
      "text/html": [
       "<div>\n",
       "<style scoped>\n",
       "    .dataframe tbody tr th:only-of-type {\n",
       "        vertical-align: middle;\n",
       "    }\n",
       "\n",
       "    .dataframe tbody tr th {\n",
       "        vertical-align: top;\n",
       "    }\n",
       "\n",
       "    .dataframe thead th {\n",
       "        text-align: right;\n",
       "    }\n",
       "</style>\n",
       "<table border=\"1\" class=\"dataframe\">\n",
       "  <thead>\n",
       "    <tr style=\"text-align: right;\">\n",
       "      <th></th>\n",
       "      <th>Repeating</th>\n",
       "      <th>Random Subset (%)</th>\n",
       "      <th>Average-Link Clusterization (%)</th>\n",
       "      <th>Complete-Link Clusterization (%)</th>\n",
       "      <th>Sphere Exclusion (%)</th>\n",
       "      <th>Initial Dataset (%)</th>\n",
       "    </tr>\n",
       "  </thead>\n",
       "  <tbody>\n",
       "    <tr>\n",
       "      <th>0</th>\n",
       "      <td>10</td>\n",
       "      <td>9.9</td>\n",
       "      <td>6.4</td>\n",
       "      <td>6.4</td>\n",
       "      <td>9.7</td>\n",
       "      <td>9</td>\n",
       "    </tr>\n",
       "    <tr>\n",
       "      <th>1</th>\n",
       "      <td>15</td>\n",
       "      <td>9.5</td>\n",
       "      <td>6.4</td>\n",
       "      <td>6.4</td>\n",
       "      <td>9.7</td>\n",
       "      <td>9</td>\n",
       "    </tr>\n",
       "    <tr>\n",
       "      <th>2</th>\n",
       "      <td>25</td>\n",
       "      <td>9.3</td>\n",
       "      <td>6.4</td>\n",
       "      <td>6.4</td>\n",
       "      <td>9.9</td>\n",
       "      <td>9</td>\n",
       "    </tr>\n",
       "    <tr>\n",
       "      <th>3</th>\n",
       "      <td>50</td>\n",
       "      <td>9.3</td>\n",
       "      <td>6.4</td>\n",
       "      <td>6.4</td>\n",
       "      <td>9.9</td>\n",
       "      <td>9</td>\n",
       "    </tr>\n",
       "    <tr>\n",
       "      <th>4</th>\n",
       "      <td>100</td>\n",
       "      <td>9.0</td>\n",
       "      <td>6.4</td>\n",
       "      <td>6.4</td>\n",
       "      <td>9.8</td>\n",
       "      <td>9</td>\n",
       "    </tr>\n",
       "  </tbody>\n",
       "</table>\n",
       "</div>"
      ],
      "text/plain": [
       "   Repeating  Random Subset (%)  Average-Link Clusterization (%)  \\\n",
       "0         10                9.9                              6.4   \n",
       "1         15                9.5                              6.4   \n",
       "2         25                9.3                              6.4   \n",
       "3         50                9.3                              6.4   \n",
       "4        100                9.0                              6.4   \n",
       "\n",
       "   Complete-Link Clusterization (%)  Sphere Exclusion (%)  Initial Dataset (%)  \n",
       "0                               6.4                   9.7                    9  \n",
       "1                               6.4                   9.7                    9  \n",
       "2                               6.4                   9.9                    9  \n",
       "3                               6.4                   9.9                    9  \n",
       "4                               6.4                   9.8                    9  "
      ]
     },
     "execution_count": 1,
     "metadata": {},
     "output_type": "execute_result"
    }
   ],
   "source": [
    "import pandas as pd\n",
    "pd.read_csv(\"results.csv\")"
   ]
  },
  {
   "cell_type": "markdown",
   "metadata": {},
   "source": [
    "----\n",
    "\n",
    "## Выводы \n",
    "\n",
    "Из полученных результатов можно сделать выводы о работоспособности алгоритмов кластеризации и их эффективности. Метод исключения сфер дает более эффективные результаты с увеличением числа повторений. Случайная выборка может быть полезна в случае, когда требуется равномерное распределение объектов или когда требуется устранение проблемы дисбаланса классов.\n"
   ]
  }
 ],
 "metadata": {
  "kernelspec": {
   "display_name": "ds",
   "language": "python",
   "name": "python3"
  },
  "language_info": {
   "codemirror_mode": {
    "name": "ipython",
    "version": 3
   },
   "file_extension": ".py",
   "mimetype": "text/x-python",
   "name": "python",
   "nbconvert_exporter": "python",
   "pygments_lexer": "ipython3",
   "version": "3.12.3"
  }
 },
 "nbformat": 4,
 "nbformat_minor": 2
}
